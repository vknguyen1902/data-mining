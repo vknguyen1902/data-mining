{
 "cells": [
  {
   "cell_type": "markdown",
   "metadata": {},
   "source": [
    "# Linear Regression Models on Simulated Data\n",
    "We will create simulated data and fit simple linear regression models to it in this project."
   ]
  },
  {
   "cell_type": "code",
   "execution_count": 12,
   "metadata": {},
   "outputs": [
    {
     "data": {
      "text/html": [
       "<ol class=list-inline>\n",
       "\t<li>-0.626453810742332</li>\n",
       "\t<li>0.183643324222082</li>\n",
       "\t<li>-0.835628612410047</li>\n",
       "\t<li>1.59528080213779</li>\n",
       "\t<li>0.329507771815361</li>\n",
       "\t<li>-0.820468384118015</li>\n",
       "\t<li>0.487429052428485</li>\n",
       "\t<li>0.738324705129217</li>\n",
       "\t<li>0.575781351653492</li>\n",
       "\t<li>-0.305388387156356</li>\n",
       "</ol>\n"
      ],
      "text/latex": [
       "\\begin{enumerate*}\n",
       "\\item -0.626453810742332\n",
       "\\item 0.183643324222082\n",
       "\\item -0.835628612410047\n",
       "\\item 1.59528080213779\n",
       "\\item 0.329507771815361\n",
       "\\item -0.820468384118015\n",
       "\\item 0.487429052428485\n",
       "\\item 0.738324705129217\n",
       "\\item 0.575781351653492\n",
       "\\item -0.305388387156356\n",
       "\\end{enumerate*}\n"
      ],
      "text/markdown": [
       "1. -0.626453810742332\n",
       "2. 0.183643324222082\n",
       "3. -0.835628612410047\n",
       "4. 1.59528080213779\n",
       "5. 0.329507771815361\n",
       "6. -0.820468384118015\n",
       "7. 0.487429052428485\n",
       "8. 0.738324705129217\n",
       "9. 0.575781351653492\n",
       "10. -0.305388387156356\n",
       "\n",
       "\n"
      ],
      "text/plain": [
       " [1] -0.6264538  0.1836433 -0.8356286  1.5952808  0.3295078 -0.8204684\n",
       " [7]  0.4874291  0.7383247  0.5757814 -0.3053884"
      ]
     },
     "metadata": {},
     "output_type": "display_data"
    }
   ],
   "source": [
    "set.seed(1)\n",
    "x <- rnorm(100, sd = sqrt(1))\n",
    "head(x, n = 10)"
   ]
  },
  {
   "cell_type": "code",
   "execution_count": 13,
   "metadata": {},
   "outputs": [
    {
     "data": {
      "text/html": [
       "<ol class=list-inline>\n",
       "\t<li>-0.310183338612062</li>\n",
       "\t<li>0.0210579365721176</li>\n",
       "\t<li>-0.455460824276223</li>\n",
       "\t<li>0.0790143862020375</li>\n",
       "\t<li>-0.327292321959409</li>\n",
       "\t<li>0.883643634686323</li>\n",
       "\t<li>0.358353738008603</li>\n",
       "\t<li>0.455087114747614</li>\n",
       "\t<li>0.192092678913172</li>\n",
       "\t<li>0.841088040259709</li>\n",
       "</ol>\n"
      ],
      "text/latex": [
       "\\begin{enumerate*}\n",
       "\\item -0.310183338612062\n",
       "\\item 0.0210579365721176\n",
       "\\item -0.455460824276223\n",
       "\\item 0.0790143862020375\n",
       "\\item -0.327292321959409\n",
       "\\item 0.883643634686323\n",
       "\\item 0.358353738008603\n",
       "\\item 0.455087114747614\n",
       "\\item 0.192092678913172\n",
       "\\item 0.841088040259709\n",
       "\\end{enumerate*}\n"
      ],
      "text/markdown": [
       "1. -0.310183338612062\n",
       "2. 0.0210579365721176\n",
       "3. -0.455460824276223\n",
       "4. 0.0790143862020375\n",
       "5. -0.327292321959409\n",
       "6. 0.883643634686323\n",
       "7. 0.358353738008603\n",
       "8. 0.455087114747614\n",
       "9. 0.192092678913172\n",
       "10. 0.841088040259709\n",
       "\n",
       "\n"
      ],
      "text/plain": [
       " [1] -0.31018334  0.02105794 -0.45546082  0.07901439 -0.32729232  0.88364363\n",
       " [7]  0.35835374  0.45508711  0.19209268  0.84108804"
      ]
     },
     "metadata": {},
     "output_type": "display_data"
    }
   ],
   "source": [
    "eps <- rnorm(100, sd = sqrt(0.25))\n",
    "head(eps, n = 10)"
   ]
  },
  {
   "cell_type": "code",
   "execution_count": 14,
   "metadata": {},
   "outputs": [
    {
     "data": {
      "text/html": [
       "100"
      ],
      "text/latex": [
       "100"
      ],
      "text/markdown": [
       "100"
      ],
      "text/plain": [
       "[1] 100"
      ]
     },
     "metadata": {},
     "output_type": "display_data"
    }
   ],
   "source": [
    "y <- -1 + 0.5*x + eps\n",
    "length(y)"
   ]
  },
  {
   "cell_type": "code",
   "execution_count": 15,
   "metadata": {},
   "outputs": [
    {
     "data": {
      "image/png": "[encoded data removed]",
      "text/plain": [
       "plot without title"
      ]
     },
     "metadata": {},
     "output_type": "display_data"
    }
   ],
   "source": [
    "plot(x, y)"
   ]
  },
  {
   "cell_type": "code",
   "execution_count": 16,
   "metadata": {},
   "outputs": [
    {
     "data": {
      "text/plain": [
       "\n",
       "Call:\n",
       "lm(formula = y ~ x)\n",
       "\n",
       "Residuals:\n",
       "     Min       1Q   Median       3Q      Max \n",
       "-0.93842 -0.30688 -0.06975  0.26970  1.17309 \n",
       "\n",
       "Coefficients:\n",
       "            Estimate Std. Error t value Pr(>|t|)    \n",
       "(Intercept) -1.01885    0.04849 -21.010  < 2e-16 ***\n",
       "x            0.49947    0.05386   9.273 4.58e-15 ***\n",
       "---\n",
       "Signif. codes:  0 '***' 0.001 '**' 0.01 '*' 0.05 '.' 0.1 ' ' 1\n",
       "\n",
       "Residual standard error: 0.4814 on 98 degrees of freedom\n",
       "Multiple R-squared:  0.4674,\tAdjusted R-squared:  0.4619 \n",
       "F-statistic: 85.99 on 1 and 98 DF,  p-value: 4.583e-15\n"
      ]
     },
     "metadata": {},
     "output_type": "display_data"
    }
   ],
   "source": [
    "least_squares_fit <- lm(y ~ x)\n",
    "summary(least_squares_fit)"
   ]
  },
  {
   "cell_type": "code",
   "execution_count": 17,
   "metadata": {},
   "outputs": [
    {
     "data": {
      "image/png": "[encoded data removed]",
      "text/plain": [
       "plot without title"
      ]
     },
     "metadata": {},
     "output_type": "display_data"
    }
   ],
   "source": [
    "plot(x, y)\n",
    "abline(least_squares_fit, col = \"red\")\n",
    "abline(-1, 0.5, col = \"blue\")\n",
    "legend(\"topleft\", c(\"Least Square\", \"Regression\"), \n",
    "        col = c(\"red\", \"blue\"), lty = c(1,1))"
   ]
  },
  {
   "cell_type": "code",
   "execution_count": 21,
   "metadata": {},
   "outputs": [
    {
     "data": {
      "text/plain": [
       "\n",
       "Call:\n",
       "lm(formula = y ~ x + I(x^2))\n",
       "\n",
       "Residuals:\n",
       "     Min       1Q   Median       3Q      Max \n",
       "-0.98252 -0.31270 -0.06441  0.29014  1.13500 \n",
       "\n",
       "Coefficients:\n",
       "            Estimate Std. Error t value Pr(>|t|)    \n",
       "(Intercept) -0.97164    0.05883 -16.517  < 2e-16 ***\n",
       "x            0.50858    0.05399   9.420  2.4e-15 ***\n",
       "I(x^2)      -0.05946    0.04238  -1.403    0.164    \n",
       "---\n",
       "Signif. codes:  0 '***' 0.001 '**' 0.01 '*' 0.05 '.' 0.1 ' ' 1\n",
       "\n",
       "Residual standard error: 0.479 on 97 degrees of freedom\n",
       "Multiple R-squared:  0.4779,\tAdjusted R-squared:  0.4672 \n",
       "F-statistic:  44.4 on 2 and 97 DF,  p-value: 2.038e-14\n"
      ]
     },
     "metadata": {},
     "output_type": "display_data"
    }
   ],
   "source": [
    "poly_fit <- lm(y ~ x + I(x^2))\n",
    "summary(poly_fit)"
   ]
  },
  {
   "cell_type": "markdown",
   "metadata": {},
   "source": [
    "## Repeat the process with less noise in the data"
   ]
  },
  {
   "cell_type": "code",
   "execution_count": 23,
   "metadata": {},
   "outputs": [
    {
     "data": {
      "text/plain": [
       "\n",
       "Call:\n",
       "lm(formula = y1 ~ x1)\n",
       "\n",
       "Residuals:\n",
       "     Min       1Q   Median       3Q      Max \n",
       "-0.29052 -0.07545  0.00067  0.07288  0.28664 \n",
       "\n",
       "Coefficients:\n",
       "            Estimate Std. Error t value Pr(>|t|)    \n",
       "(Intercept) -0.98639    0.01129  -87.34   <2e-16 ***\n",
       "x1           0.49988    0.01184   42.22   <2e-16 ***\n",
       "---\n",
       "Signif. codes:  0 '***' 0.001 '**' 0.01 '*' 0.05 '.' 0.1 ' ' 1\n",
       "\n",
       "Residual standard error: 0.1128 on 98 degrees of freedom\n",
       "Multiple R-squared:  0.9479,\tAdjusted R-squared:  0.9474 \n",
       "F-statistic:  1782 on 1 and 98 DF,  p-value: < 2.2e-16\n"
      ]
     },
     "metadata": {},
     "output_type": "display_data"
    },
    {
     "data": {
      "image/png": "[encoded data removed]",
      "text/plain": [
       "plot without title"
      ]
     },
     "metadata": {},
     "output_type": "display_data"
    }
   ],
   "source": [
    "set.seed(1)\n",
    "eps1 <- rnorm(100, sd = 0.125)\n",
    "x1 <- rnorm(100)\n",
    "y1 <- -1 + 0.5*x1 + eps1\n",
    "\n",
    "least_squares_fit1 <- lm(y1 ~ x1)\n",
    "summary(least_squares_fit1)\n",
    "\n",
    "plot(x1, y1)\n",
    "abline(least_squares_fit1, col = \"red\")\n",
    "abline(-1, 0.5, col = \"blue\")\n",
    "legend(\"topleft\", c(\"Least Square\", \"Regression\"),\n",
    "        col = c(\"red\", \"blue\"), lty = c(1, 1))"
   ]
  },
  {
   "cell_type": "markdown",
   "metadata": {},
   "source": [
    "## Repeat the process with more noise in the data "
   ]
  },
  {
   "cell_type": "code",
   "execution_count": 24,
   "metadata": {},
   "outputs": [
    {
     "data": {
      "text/plain": [
       "\n",
       "Call:\n",
       "lm(formula = y2 ~ x2)\n",
       "\n",
       "Residuals:\n",
       "     Min       1Q   Median       3Q      Max \n",
       "-1.16208 -0.30181  0.00268  0.29152  1.14658 \n",
       "\n",
       "Coefficients:\n",
       "            Estimate Std. Error t value Pr(>|t|)    \n",
       "(Intercept) -0.94557    0.04517  -20.93   <2e-16 ***\n",
       "x2           0.49953    0.04736   10.55   <2e-16 ***\n",
       "---\n",
       "Signif. codes:  0 '***' 0.001 '**' 0.01 '*' 0.05 '.' 0.1 ' ' 1\n",
       "\n",
       "Residual standard error: 0.4514 on 98 degrees of freedom\n",
       "Multiple R-squared:  0.5317,\tAdjusted R-squared:  0.5269 \n",
       "F-statistic: 111.2 on 1 and 98 DF,  p-value: < 2.2e-16\n"
      ]
     },
     "metadata": {},
     "output_type": "display_data"
    },
    {
     "data": {
      "image/png": "[encoded data removed]",
      "text/plain": [
       "plot without title"
      ]
     },
     "metadata": {},
     "output_type": "display_data"
    }
   ],
   "source": [
    "set.seed(1)\n",
    "eps2 <- rnorm(100, sd = 0.5)\n",
    "x2 <- rnorm(100)\n",
    "y2 <- -1 + 0.5*x2 + eps2\n",
    "\n",
    "least_squares_fit2 <- lm(y2 ~ x2)\n",
    "summary(least_squares_fit2)\n",
    "\n",
    "plot(x2, y2)\n",
    "plot(x2, y2)\n",
    "abline(least_squares_fit2, col = \"red\")\n",
    "abline(-1, 0.5, col = \"blue\")\n",
    "legend(\"topleft\", c(\"Least Square\", \"Regression\"),\n",
    "        col = c(\"red\", \"blue\"), lty = c(1, 1))"
   ]
  },
  {
   "cell_type": "markdown",
   "metadata": {},
   "source": [
    "## Confidence Intervals for the coefficients 3 data sets "
   ]
  },
  {
   "cell_type": "code",
   "execution_count": 25,
   "metadata": {},
   "outputs": [
    {
     "data": {
      "text/html": [
       "<table>\n",
       "<thead><tr><th></th><th scope=col>2.5 %</th><th scope=col>97.5 %</th></tr></thead>\n",
       "<tbody>\n",
       "\t<tr><th scope=row>(Intercept)</th><td>-1.1150804</td><td>-0.9226122</td></tr>\n",
       "\t<tr><th scope=row>x</th><td> 0.3925794</td><td> 0.6063602</td></tr>\n",
       "</tbody>\n",
       "</table>\n"
      ],
      "text/latex": [
       "\\begin{tabular}{r|ll}\n",
       "  & 2.5 \\% & 97.5 \\%\\\\\n",
       "\\hline\n",
       "\t(Intercept) & -1.1150804 & -0.9226122\\\\\n",
       "\tx &  0.3925794 &  0.6063602\\\\\n",
       "\\end{tabular}\n"
      ],
      "text/markdown": [
       "\n",
       "| <!--/--> | 2.5 % | 97.5 % | \n",
       "|---|---|\n",
       "| (Intercept) | -1.1150804 | -0.9226122 | \n",
       "| x |  0.3925794 |  0.6063602 | \n",
       "\n",
       "\n"
      ],
      "text/plain": [
       "            2.5 %      97.5 %    \n",
       "(Intercept) -1.1150804 -0.9226122\n",
       "x            0.3925794  0.6063602"
      ]
     },
     "metadata": {},
     "output_type": "display_data"
    }
   ],
   "source": [
    "confint(least_squares_fit)"
   ]
  },
  {
   "cell_type": "code",
   "execution_count": 26,
   "metadata": {},
   "outputs": [
    {
     "data": {
      "text/html": [
       "<table>\n",
       "<thead><tr><th></th><th scope=col>2.5 %</th><th scope=col>97.5 %</th></tr></thead>\n",
       "<tbody>\n",
       "\t<tr><th scope=row>(Intercept)</th><td>-1.008805 </td><td>-0.9639819</td></tr>\n",
       "\t<tr><th scope=row>x1</th><td> 0.476387 </td><td> 0.5233799</td></tr>\n",
       "</tbody>\n",
       "</table>\n"
      ],
      "text/latex": [
       "\\begin{tabular}{r|ll}\n",
       "  & 2.5 \\% & 97.5 \\%\\\\\n",
       "\\hline\n",
       "\t(Intercept) & -1.008805  & -0.9639819\\\\\n",
       "\tx1 &  0.476387  &  0.5233799\\\\\n",
       "\\end{tabular}\n"
      ],
      "text/markdown": [
       "\n",
       "| <!--/--> | 2.5 % | 97.5 % | \n",
       "|---|---|\n",
       "| (Intercept) | -1.008805  | -0.9639819 | \n",
       "| x1 |  0.476387  |  0.5233799 | \n",
       "\n",
       "\n"
      ],
      "text/plain": [
       "            2.5 %     97.5 %    \n",
       "(Intercept) -1.008805 -0.9639819\n",
       "x1           0.476387  0.5233799"
      ]
     },
     "metadata": {},
     "output_type": "display_data"
    }
   ],
   "source": [
    "confint(least_squares_fit1)"
   ]
  },
  {
   "cell_type": "code",
   "execution_count": 27,
   "metadata": {},
   "outputs": [
    {
     "data": {
      "text/html": [
       "<table>\n",
       "<thead><tr><th></th><th scope=col>2.5 %</th><th scope=col>97.5 %</th></tr></thead>\n",
       "<tbody>\n",
       "\t<tr><th scope=row>(Intercept)</th><td>-1.0352203</td><td>-0.8559276</td></tr>\n",
       "\t<tr><th scope=row>x2</th><td> 0.4055479</td><td> 0.5935197</td></tr>\n",
       "</tbody>\n",
       "</table>\n"
      ],
      "text/latex": [
       "\\begin{tabular}{r|ll}\n",
       "  & 2.5 \\% & 97.5 \\%\\\\\n",
       "\\hline\n",
       "\t(Intercept) & -1.0352203 & -0.8559276\\\\\n",
       "\tx2 &  0.4055479 &  0.5935197\\\\\n",
       "\\end{tabular}\n"
      ],
      "text/markdown": [
       "\n",
       "| <!--/--> | 2.5 % | 97.5 % | \n",
       "|---|---|\n",
       "| (Intercept) | -1.0352203 | -0.8559276 | \n",
       "| x2 |  0.4055479 |  0.5935197 | \n",
       "\n",
       "\n"
      ],
      "text/plain": [
       "            2.5 %      97.5 %    \n",
       "(Intercept) -1.0352203 -0.8559276\n",
       "x2           0.4055479  0.5935197"
      ]
     },
     "metadata": {},
     "output_type": "display_data"
    }
   ],
   "source": [
    "confint(least_squares_fit2)"
   ]
  },
  {
   "cell_type": "code",
   "execution_count": null,
   "metadata": {},
   "outputs": [],
   "source": []
  }
 ],
 "metadata": {
  "kernelspec": {
   "display_name": "R",
   "language": "R",
   "name": "ir"
  },
  "language_info": {
   "codemirror_mode": "r",
   "file_extension": ".r",
   "mimetype": "text/x-r-source",
   "name": "R",
   "pygments_lexer": "r",
   "version": "3.4.2"
  }
 },
 "nbformat": 4,
 "nbformat_minor": 2
}
