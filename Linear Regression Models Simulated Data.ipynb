{
 "cells": [
  {
   "cell_type": "markdown",
   "metadata": {},
   "source": [
    "# Linear Regression Models on Simulated Data\n",
    "We will create simulated data and fit simple linear regression models to it in this project."
   ]
  },
  {
   "cell_type": "code",
   "execution_count": 17,
   "metadata": {},
   "outputs": [
    {
     "data": {
      "text/html": [
       "<ol class=list-inline>\n",
       "\t<li>0.269605982037527</li>\n",
       "\t<li>-0.629985414039275</li>\n",
       "\t<li>0.868659827652265</li>\n",
       "\t<li>1.72719551711524</li>\n",
       "\t<li>0.0241876417677226</li>\n",
       "\t<li>0.36802517699251</li>\n",
       "\t<li>-1.30920429820853</li>\n",
       "\t<li>0.738621930711406</li>\n",
       "\t<li>0.0448729873749906</li>\n",
       "\t<li>-1.0483972001212</li>\n",
       "</ol>\n"
      ],
      "text/latex": [
       "\\begin{enumerate*}\n",
       "\\item 0.269605982037527\n",
       "\\item -0.629985414039275\n",
       "\\item 0.868659827652265\n",
       "\\item 1.72719551711524\n",
       "\\item 0.0241876417677226\n",
       "\\item 0.36802517699251\n",
       "\\item -1.30920429820853\n",
       "\\item 0.738621930711406\n",
       "\\item 0.0448729873749906\n",
       "\\item -1.0483972001212\n",
       "\\end{enumerate*}\n"
      ],
      "text/markdown": [
       "1. 0.269605982037527\n",
       "2. -0.629985414039275\n",
       "3. 0.868659827652265\n",
       "4. 1.72719551711524\n",
       "5. 0.0241876417677226\n",
       "6. 0.36802517699251\n",
       "7. -1.30920429820853\n",
       "8. 0.738621930711406\n",
       "9. 0.0448729873749906\n",
       "10. -1.0483972001212\n",
       "\n",
       "\n"
      ],
      "text/plain": [
       " [1]  0.26960598 -0.62998541  0.86865983  1.72719552  0.02418764  0.36802518\n",
       " [7] -1.30920430  0.73862193  0.04487299 -1.04839720"
      ]
     },
     "metadata": {},
     "output_type": "display_data"
    }
   ],
   "source": [
    "set.seed(6)\n",
    "x <- rnorm(200, sd = sqrt(1))\n",
    "head(x, n = 10)"
   ]
  },
  {
   "cell_type": "code",
   "execution_count": 18,
   "metadata": {},
   "outputs": [
    {
     "data": {
      "text/html": [
       "<ol class=list-inline>\n",
       "\t<li>0.711056895227518</li>\n",
       "\t<li>-0.379222694694782</li>\n",
       "\t<li>-0.0276714570994186</li>\n",
       "\t<li>-0.240229338797175</li>\n",
       "\t<li>-0.460258262243797</li>\n",
       "\t<li>-0.323814367555737</li>\n",
       "\t<li>0.258966509023649</li>\n",
       "\t<li>0.739180430561831</li>\n",
       "\t<li>-1.22834203159718</li>\n",
       "\t<li>-0.724725993906827</li>\n",
       "</ol>\n"
      ],
      "text/latex": [
       "\\begin{enumerate*}\n",
       "\\item 0.711056895227518\n",
       "\\item -0.379222694694782\n",
       "\\item -0.0276714570994186\n",
       "\\item -0.240229338797175\n",
       "\\item -0.460258262243797\n",
       "\\item -0.323814367555737\n",
       "\\item 0.258966509023649\n",
       "\\item 0.739180430561831\n",
       "\\item -1.22834203159718\n",
       "\\item -0.724725993906827\n",
       "\\end{enumerate*}\n"
      ],
      "text/markdown": [
       "1. 0.711056895227518\n",
       "2. -0.379222694694782\n",
       "3. -0.0276714570994186\n",
       "4. -0.240229338797175\n",
       "5. -0.460258262243797\n",
       "6. -0.323814367555737\n",
       "7. 0.258966509023649\n",
       "8. 0.739180430561831\n",
       "9. -1.22834203159718\n",
       "10. -0.724725993906827\n",
       "\n",
       "\n"
      ],
      "text/plain": [
       " [1]  0.71105690 -0.37922269 -0.02767146 -0.24022934 -0.46025826 -0.32381437\n",
       " [7]  0.25896651  0.73918043 -1.22834203 -0.72472599"
      ]
     },
     "metadata": {},
     "output_type": "display_data"
    }
   ],
   "source": [
    "eps <- rnorm(200, sd = sqrt(0.25))\n",
    "head(eps, n = 10)"
   ]
  },
  {
   "cell_type": "code",
   "execution_count": 19,
   "metadata": {},
   "outputs": [
    {
     "data": {
      "text/html": [
       "200"
      ],
      "text/latex": [
       "200"
      ],
      "text/markdown": [
       "200"
      ],
      "text/plain": [
       "[1] 200"
      ]
     },
     "metadata": {},
     "output_type": "display_data"
    }
   ],
   "source": [
    "y <- -1 + 0.5*x + eps\n",
    "length(y)"
   ]
  },
  {
   "cell_type": "code",
   "execution_count": 28,
   "metadata": {},
   "outputs": [
    {
     "data": {
      "image/png": "[encoded data removed]",
      "text/plain": [
       "plot without title"
      ]
     },
     "metadata": {},
     "output_type": "display_data"
    }
   ],
   "source": [
    "plot(x, y)\n",
    "abline(-1, 0.5, col = \"blue\")"
   ]
  },
  {
   "cell_type": "code",
   "execution_count": 21,
   "metadata": {},
   "outputs": [
    {
     "data": {
      "text/plain": [
       "\n",
       "Call:\n",
       "lm(formula = y ~ x)\n",
       "\n",
       "Residuals:\n",
       "    Min      1Q  Median      3Q     Max \n",
       "-1.5050 -0.3012 -0.0038  0.3697  1.1098 \n",
       "\n",
       "Coefficients:\n",
       "            Estimate Std. Error t value Pr(>|t|)    \n",
       "(Intercept) -1.03249    0.03554  -29.05   <2e-16 ***\n",
       "x            0.47525    0.03651   13.02   <2e-16 ***\n",
       "---\n",
       "Signif. codes:  0 '***' 0.001 '**' 0.01 '*' 0.05 '.' 0.1 ' ' 1\n",
       "\n",
       "Residual standard error: 0.502 on 198 degrees of freedom\n",
       "Multiple R-squared:  0.4612,\tAdjusted R-squared:  0.4585 \n",
       "F-statistic: 169.5 on 1 and 198 DF,  p-value: < 2.2e-16\n"
      ]
     },
     "metadata": {},
     "output_type": "display_data"
    }
   ],
   "source": [
    "least_squares_fit <- lm(y ~ x)\n",
    "summary(least_squares_fit)"
   ]
  },
  {
   "cell_type": "code",
   "execution_count": 44,
   "metadata": {},
   "outputs": [
    {
     "data": {
      "image/png": "[encoded data removed]",
      "text/plain": [
       "plot without title"
      ]
     },
     "metadata": {},
     "output_type": "display_data"
    }
   ],
   "source": [
    "plot(x, y)\n",
    "abline(-1, 0.5, col = \"blue\")\n",
    "abline(least_squares_fit, col = \"red\")\n",
    "legend(\"topleft\", c(\"Least Square\", \"Regression\"), \n",
    "        col = c(\"red\", \"blue\"), lty = c(1,1))"
   ]
  },
  {
   "cell_type": "code",
   "execution_count": 30,
   "metadata": {},
   "outputs": [
    {
     "data": {
      "text/plain": [
       "\n",
       "Call:\n",
       "lm(formula = y ~ x + I(x^2))\n",
       "\n",
       "Residuals:\n",
       "    Min      1Q  Median      3Q     Max \n",
       "-1.4946 -0.2990 -0.0107  0.3354  1.1163 \n",
       "\n",
       "Coefficients:\n",
       "            Estimate Std. Error t value Pr(>|t|)    \n",
       "(Intercept) -1.09786    0.04438 -24.739   <2e-16 ***\n",
       "x            0.47412    0.03608  13.143   <2e-16 ***\n",
       "I(x^2)       0.06892    0.02861   2.409   0.0169 *  \n",
       "---\n",
       "Signif. codes:  0 '***' 0.001 '**' 0.01 '*' 0.05 '.' 0.1 ' ' 1\n",
       "\n",
       "Residual standard error: 0.496 on 197 degrees of freedom\n",
       "Multiple R-squared:  0.4766,\tAdjusted R-squared:  0.4713 \n",
       "F-statistic: 89.69 on 2 and 197 DF,  p-value: < 2.2e-16\n"
      ]
     },
     "metadata": {},
     "output_type": "display_data"
    }
   ],
   "source": [
    "poly_fit <- lm(y ~ x + I(x^2))\n",
    "summary(poly_fit)"
   ]
  },
  {
   "cell_type": "markdown",
   "metadata": {},
   "source": [
    "## Repeat the process with less noise in the data"
   ]
  },
  {
   "cell_type": "code",
   "execution_count": 50,
   "metadata": {},
   "outputs": [
    {
     "data": {
      "text/plain": [
       "\n",
       "Call:\n",
       "lm(formula = y1 ~ x1)\n",
       "\n",
       "Residuals:\n",
       "     Min       1Q   Median       3Q      Max \n",
       "-0.69725 -0.18108  0.00161  0.17491  0.68795 \n",
       "\n",
       "Coefficients:\n",
       "            Estimate Std. Error t value Pr(>|t|)    \n",
       "(Intercept) -0.96734    0.02710  -35.69   <2e-16 ***\n",
       "x1           0.49972    0.02842   17.59   <2e-16 ***\n",
       "---\n",
       "Signif. codes:  0 '***' 0.001 '**' 0.01 '*' 0.05 '.' 0.1 ' ' 1\n",
       "\n",
       "Residual standard error: 0.2708 on 98 degrees of freedom\n",
       "Multiple R-squared:  0.7594,\tAdjusted R-squared:  0.7569 \n",
       "F-statistic: 309.3 on 1 and 98 DF,  p-value: < 2.2e-16\n"
      ]
     },
     "metadata": {},
     "output_type": "display_data"
    },
    {
     "data": {
      "image/png": "[encoded data removed]",
      "text/plain": [
       "plot without title"
      ]
     },
     "metadata": {},
     "output_type": "display_data"
    }
   ],
   "source": [
    "set.seed(1)\n",
    "eps1 <- rnorm(100, sd = sqrt(0.09))\n",
    "x1 <- rnorm(100)\n",
    "y1 <- -1 + 0.5*x1 + eps1\n",
    "\n",
    "least_squares_fit1 <- lm(y1 ~ x1)\n",
    "summary(least_squares_fit1)\n",
    "\n",
    "plot(x1, y1)\n",
    "abline(-1, 0.5, col = \"blue\")\n",
    "abline(least_squares_fit1, col = \"red\")\n",
    "\n",
    "legend(\"topleft\", c(\"Least Square\", \"Regression\"),\n",
    "        col = c(\"red\", \"blue\"), lty = c(1, 1))"
   ]
  },
  {
   "cell_type": "markdown",
   "metadata": {},
   "source": [
    "## Repeat the process with more noise in the data "
   ]
  },
  {
   "cell_type": "code",
   "execution_count": 51,
   "metadata": {},
   "outputs": [
    {
     "data": {
      "text/plain": [
       "\n",
       "Call:\n",
       "lm(formula = y2 ~ x2)\n",
       "\n",
       "Residuals:\n",
       "     Min       1Q   Median       3Q      Max \n",
       "-1.72364 -0.44765  0.00397  0.43240  1.70065 \n",
       "\n",
       "Coefficients:\n",
       "            Estimate Std. Error t value Pr(>|t|)    \n",
       "(Intercept) -0.91927    0.06700 -13.720  < 2e-16 ***\n",
       "x2           0.49931    0.07025   7.108 1.92e-10 ***\n",
       "---\n",
       "Signif. codes:  0 '***' 0.001 '**' 0.01 '*' 0.05 '.' 0.1 ' ' 1\n",
       "\n",
       "Residual standard error: 0.6695 on 98 degrees of freedom\n",
       "Multiple R-squared:  0.3402,\tAdjusted R-squared:  0.3334 \n",
       "F-statistic: 50.52 on 1 and 98 DF,  p-value: 1.922e-10\n"
      ]
     },
     "metadata": {},
     "output_type": "display_data"
    },
    {
     "data": {
      "image/png": "[encoded data removed]",
      "text/plain": [
       "plot without title"
      ]
     },
     "metadata": {},
     "output_type": "display_data"
    }
   ],
   "source": [
    "set.seed(1)\n",
    "eps2 <- rnorm(100, sd = sqrt(0.55))\n",
    "x2 <- rnorm(100)\n",
    "y2 <- -1 + 0.5*x2 + eps2\n",
    "\n",
    "least_squares_fit2 <- lm(y2 ~ x2)\n",
    "summary(least_squares_fit2)\n",
    "\n",
    "plot(x2, y2)\n",
    "abline(-1, 0.5, col = \"blue\")\n",
    "abline(least_squares_fit2, col = \"red\")\n",
    "\n",
    "legend(\"topleft\", c(\"Least Square\", \"Regression\"),\n",
    "        col = c(\"red\", \"blue\"), lty = c(1, 1))"
   ]
  },
  {
   "cell_type": "markdown",
   "metadata": {},
   "source": [
    "## Confidence Intervals for the coefficients 3 data sets "
   ]
  },
  {
   "cell_type": "code",
   "execution_count": 52,
   "metadata": {},
   "outputs": [
    {
     "data": {
      "text/html": [
       "<table>\n",
       "<thead><tr><th></th><th scope=col>2.5 %</th><th scope=col>97.5 %</th></tr></thead>\n",
       "<tbody>\n",
       "\t<tr><th scope=row>(Intercept)</th><td>-1.1025761</td><td>-0.9624067</td></tr>\n",
       "\t<tr><th scope=row>x</th><td> 0.4032587</td><td> 0.5472437</td></tr>\n",
       "</tbody>\n",
       "</table>\n"
      ],
      "text/latex": [
       "\\begin{tabular}{r|ll}\n",
       "  & 2.5 \\% & 97.5 \\%\\\\\n",
       "\\hline\n",
       "\t(Intercept) & -1.1025761 & -0.9624067\\\\\n",
       "\tx &  0.4032587 &  0.5472437\\\\\n",
       "\\end{tabular}\n"
      ],
      "text/markdown": [
       "\n",
       "| <!--/--> | 2.5 % | 97.5 % | \n",
       "|---|---|\n",
       "| (Intercept) | -1.1025761 | -0.9624067 | \n",
       "| x |  0.4032587 |  0.5472437 | \n",
       "\n",
       "\n"
      ],
      "text/plain": [
       "            2.5 %      97.5 %    \n",
       "(Intercept) -1.1025761 -0.9624067\n",
       "x            0.4032587  0.5472437"
      ]
     },
     "metadata": {},
     "output_type": "display_data"
    }
   ],
   "source": [
    "confint(least_squares_fit)"
   ]
  },
  {
   "cell_type": "code",
   "execution_count": 53,
   "metadata": {},
   "outputs": [
    {
     "data": {
      "text/html": [
       "<table>\n",
       "<thead><tr><th></th><th scope=col>2.5 %</th><th scope=col>97.5 %</th></tr></thead>\n",
       "<tbody>\n",
       "\t<tr><th scope=row>(Intercept)</th><td>-1.0211322</td><td>-0.9135566</td></tr>\n",
       "\t<tr><th scope=row>x1</th><td> 0.4433287</td><td> 0.5561118</td></tr>\n",
       "</tbody>\n",
       "</table>\n"
      ],
      "text/latex": [
       "\\begin{tabular}{r|ll}\n",
       "  & 2.5 \\% & 97.5 \\%\\\\\n",
       "\\hline\n",
       "\t(Intercept) & -1.0211322 & -0.9135566\\\\\n",
       "\tx1 &  0.4433287 &  0.5561118\\\\\n",
       "\\end{tabular}\n"
      ],
      "text/markdown": [
       "\n",
       "| <!--/--> | 2.5 % | 97.5 % | \n",
       "|---|---|\n",
       "| (Intercept) | -1.0211322 | -0.9135566 | \n",
       "| x1 |  0.4433287 |  0.5561118 | \n",
       "\n",
       "\n"
      ],
      "text/plain": [
       "            2.5 %      97.5 %    \n",
       "(Intercept) -1.0211322 -0.9135566\n",
       "x1           0.4433287  0.5561118"
      ]
     },
     "metadata": {},
     "output_type": "display_data"
    }
   ],
   "source": [
    "confint(least_squares_fit1)"
   ]
  },
  {
   "cell_type": "code",
   "execution_count": 55,
   "metadata": {},
   "outputs": [
    {
     "data": {
      "text/html": [
       "<table>\n",
       "<thead><tr><th></th><th scope=col>2.5 %</th><th scope=col>97.5 %</th></tr></thead>\n",
       "<tbody>\n",
       "\t<tr><th scope=row>(Intercept)</th><td>-1.0522401</td><td>-0.7863061</td></tr>\n",
       "\t<tr><th scope=row>x2</th><td> 0.3599049</td><td> 0.6387122</td></tr>\n",
       "</tbody>\n",
       "</table>\n"
      ],
      "text/latex": [
       "\\begin{tabular}{r|ll}\n",
       "  & 2.5 \\% & 97.5 \\%\\\\\n",
       "\\hline\n",
       "\t(Intercept) & -1.0522401 & -0.7863061\\\\\n",
       "\tx2 &  0.3599049 &  0.6387122\\\\\n",
       "\\end{tabular}\n"
      ],
      "text/markdown": [
       "\n",
       "| <!--/--> | 2.5 % | 97.5 % | \n",
       "|---|---|\n",
       "| (Intercept) | -1.0522401 | -0.7863061 | \n",
       "| x2 |  0.3599049 |  0.6387122 | \n",
       "\n",
       "\n"
      ],
      "text/plain": [
       "            2.5 %      97.5 %    \n",
       "(Intercept) -1.0522401 -0.7863061\n",
       "x2           0.3599049  0.6387122"
      ]
     },
     "metadata": {},
     "output_type": "display_data"
    }
   ],
   "source": [
    "confint(least_squares_fit2)"
   ]
  },
  {
   "cell_type": "code",
   "execution_count": null,
   "metadata": {},
   "outputs": [],
   "source": []
  }
 ],
 "metadata": {
  "kernelspec": {
   "display_name": "R",
   "language": "R",
   "name": "ir"
  },
  "language_info": {
   "codemirror_mode": "r",
   "file_extension": ".r",
   "mimetype": "text/x-r-source",
   "name": "R",
   "pygments_lexer": "r",
   "version": "3.4.2"
  }
 },
 "nbformat": 4,
 "nbformat_minor": 2
}
