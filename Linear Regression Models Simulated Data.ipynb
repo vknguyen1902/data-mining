{
 "cells": [
  {
   "cell_type": "markdown",
   "metadata": {},
   "source": [
    "# Linear Regression Models on Simulated Data\n",
    "We will create simulated data and fit simple linear regression models to it in this project."
   ]
  },
  {
   "cell_type": "code",
   "execution_count": 12,
   "metadata": {},
   "outputs": [
    {
     "data": {
      "text/html": [
       "<ol class=list-inline>\n",
       "\t<li>-0.626453810742332</li>\n",
       "\t<li>0.183643324222082</li>\n",
       "\t<li>-0.835628612410047</li>\n",
       "\t<li>1.59528080213779</li>\n",
       "\t<li>0.329507771815361</li>\n",
       "\t<li>-0.820468384118015</li>\n",
       "\t<li>0.487429052428485</li>\n",
       "\t<li>0.738324705129217</li>\n",
       "\t<li>0.575781351653492</li>\n",
       "\t<li>-0.305388387156356</li>\n",
       "</ol>\n"
      ],
      "text/latex": [
       "\\begin{enumerate*}\n",
       "\\item -0.626453810742332\n",
       "\\item 0.183643324222082\n",
       "\\item -0.835628612410047\n",
       "\\item 1.59528080213779\n",
       "\\item 0.329507771815361\n",
       "\\item -0.820468384118015\n",
       "\\item 0.487429052428485\n",
       "\\item 0.738324705129217\n",
       "\\item 0.575781351653492\n",
       "\\item -0.305388387156356\n",
       "\\end{enumerate*}\n"
      ],
      "text/markdown": [
       "1. -0.626453810742332\n",
       "2. 0.183643324222082\n",
       "3. -0.835628612410047\n",
       "4. 1.59528080213779\n",
       "5. 0.329507771815361\n",
       "6. -0.820468384118015\n",
       "7. 0.487429052428485\n",
       "8. 0.738324705129217\n",
       "9. 0.575781351653492\n",
       "10. -0.305388387156356\n",
       "\n",
       "\n"
      ],
      "text/plain": [
       " [1] -0.6264538  0.1836433 -0.8356286  1.5952808  0.3295078 -0.8204684\n",
       " [7]  0.4874291  0.7383247  0.5757814 -0.3053884"
      ]
     },
     "metadata": {},
     "output_type": "display_data"
    }
   ],
   "source": [
    "set.seed(1)\n",
    "x <- rnorm(100)\n",
    "head(x, n = 10)"
   ]
  },
  {
   "cell_type": "code",
   "execution_count": 16,
   "metadata": {},
   "outputs": [
    {
     "data": {
      "text/html": [
       "<ol class=list-inline>\n",
       "\t<li>0.53722047913895</li>\n",
       "\t<li>0.94782738709929</li>\n",
       "\t<li>-0.301498651802547</li>\n",
       "\t<li>-0.195433910361569</li>\n",
       "\t<li>-0.208111015765096</li>\n",
       "\t<li>-0.187828711410196</li>\n",
       "\t<li>-0.183315472851179</li>\n",
       "\t<li>-0.147838726350443</li>\n",
       "\t<li>0.720910205099935</li>\n",
       "\t<li>-0.34876914595652</li>\n",
       "</ol>\n"
      ],
      "text/latex": [
       "\\begin{enumerate*}\n",
       "\\item 0.53722047913895\n",
       "\\item 0.94782738709929\n",
       "\\item -0.301498651802547\n",
       "\\item -0.195433910361569\n",
       "\\item -0.208111015765096\n",
       "\\item -0.187828711410196\n",
       "\\item -0.183315472851179\n",
       "\\item -0.147838726350443\n",
       "\\item 0.720910205099935\n",
       "\\item -0.34876914595652\n",
       "\\end{enumerate*}\n"
      ],
      "text/markdown": [
       "1. 0.53722047913895\n",
       "2. 0.94782738709929\n",
       "3. -0.301498651802547\n",
       "4. -0.195433910361569\n",
       "5. -0.208111015765096\n",
       "6. -0.187828711410196\n",
       "7. -0.183315472851179\n",
       "8. -0.147838726350443\n",
       "9. 0.720910205099935\n",
       "10. -0.34876914595652\n",
       "\n",
       "\n"
      ],
      "text/plain": [
       " [1]  0.5372205  0.9478274 -0.3014987 -0.1954339 -0.2081110 -0.1878287\n",
       " [7] -0.1833155 -0.1478387  0.7209102 -0.3487691"
      ]
     },
     "metadata": {},
     "output_type": "display_data"
    }
   ],
   "source": [
    "eps <- rnorm(100, sd = sqrt(0.25))\n",
    "head(eps, n = 10)"
   ]
  },
  {
   "cell_type": "code",
   "execution_count": 18,
   "metadata": {},
   "outputs": [
    {
     "data": {
      "text/html": [
       "100"
      ],
      "text/latex": [
       "100"
      ],
      "text/markdown": [
       "100"
      ],
      "text/plain": [
       "[1] 100"
      ]
     },
     "metadata": {},
     "output_type": "display_data"
    }
   ],
   "source": [
    "y <- -1 + 0.5*x + eps\n",
    "length(y)"
   ]
  },
  {
   "cell_type": "code",
   "execution_count": 19,
   "metadata": {},
   "outputs": [
    {
     "data": {
      "image/png": "[encoded data removed]",
      "text/plain": [
       "plot without title"
      ]
     },
     "metadata": {},
     "output_type": "display_data"
    }
   ],
   "source": [
    "plot(x, y)"
   ]
  },
  {
   "cell_type": "code",
   "execution_count": 26,
   "metadata": {},
   "outputs": [
    {
     "data": {
      "text/plain": [
       "\n",
       "Call:\n",
       "lm(formula = y ~ x)\n",
       "\n",
       "Residuals:\n",
       "     Min       1Q   Median       3Q      Max \n",
       "-1.40629 -0.38412 -0.06257  0.32207  1.78320 \n",
       "\n",
       "Coefficients:\n",
       "            Estimate Std. Error t value Pr(>|t|)    \n",
       "(Intercept) -1.02999    0.05857 -17.586  < 2e-16 ***\n",
       "x            0.59574    0.06505   9.158 8.15e-15 ***\n",
       "---\n",
       "Signif. codes:  0 '***' 0.001 '**' 0.01 '*' 0.05 '.' 0.1 ' ' 1\n",
       "\n",
       "Residual standard error: 0.5814 on 98 degrees of freedom\n",
       "Multiple R-squared:  0.4611,\tAdjusted R-squared:  0.4556 \n",
       "F-statistic: 83.86 on 1 and 98 DF,  p-value: 8.151e-15\n"
      ]
     },
     "metadata": {},
     "output_type": "display_data"
    }
   ],
   "source": [
    "least_squares_fit <- lm(y ~ x)\n",
    "summary(least_squares_fit)"
   ]
  },
  {
   "cell_type": "code",
   "execution_count": 27,
   "metadata": {},
   "outputs": [
    {
     "data": {
      "image/png": "[encoded data removed]",
      "text/plain": [
       "plot without title"
      ]
     },
     "metadata": {},
     "output_type": "display_data"
    }
   ],
   "source": [
    "plot(x, y)\n",
    "abline(least_squares_fit, col = \"red\")\n",
    "abline(-1, 0.5, col = \"blue\")\n",
    "legend(\"topleft\", c(\"Least Square\", \"Regression\"), \n",
    "        col = c(\"red\", \"blue\"), lty = c(1,1))"
   ]
  },
  {
   "cell_type": "code",
   "execution_count": 33,
   "metadata": {},
   "outputs": [
    {
     "data": {
      "text/plain": [
       "\n",
       "Call:\n",
       "lm(formula = y ~ x + I(x^2))\n",
       "\n",
       "Residuals:\n",
       "     Min       1Q   Median       3Q      Max \n",
       "-1.41597 -0.38658 -0.03492  0.35360  1.86069 \n",
       "\n",
       "Coefficients:\n",
       "            Estimate Std. Error t value Pr(>|t|)    \n",
       "(Intercept) -0.98846    0.07139 -13.846  < 2e-16 ***\n",
       "x            0.60376    0.06552   9.215 6.65e-15 ***\n",
       "I(x^2)      -0.05232    0.05143  -1.017    0.312    \n",
       "---\n",
       "Signif. codes:  0 '***' 0.001 '**' 0.01 '*' 0.05 '.' 0.1 ' ' 1\n",
       "\n",
       "Residual standard error: 0.5813 on 97 degrees of freedom\n",
       "Multiple R-squared:  0.4668,\tAdjusted R-squared:  0.4558 \n",
       "F-statistic: 42.46 on 2 and 97 DF,  p-value: 5.67e-14\n"
      ]
     },
     "metadata": {},
     "output_type": "display_data"
    }
   ],
   "source": [
    "poly_fit <- lm(y ~ x + I(x^2))\n",
    "summary(poly_fit)"
   ]
  },
  {
   "cell_type": "markdown",
   "metadata": {},
   "source": [
    "## Repeat the process with less noise in the data"
   ]
  },
  {
   "cell_type": "code",
   "execution_count": 38,
   "metadata": {},
   "outputs": [
    {
     "data": {
      "text/plain": [
       "\n",
       "Call:\n",
       "lm(formula = y1 ~ x1)\n",
       "\n",
       "Residuals:\n",
       "     Min       1Q   Median       3Q      Max \n",
       "-0.29052 -0.07545  0.00067  0.07288  0.28664 \n",
       "\n",
       "Coefficients:\n",
       "            Estimate Std. Error t value Pr(>|t|)    \n",
       "(Intercept) -0.98639    0.01129  -87.34   <2e-16 ***\n",
       "x1           0.49988    0.01184   42.22   <2e-16 ***\n",
       "---\n",
       "Signif. codes:  0 '***' 0.001 '**' 0.01 '*' 0.05 '.' 0.1 ' ' 1\n",
       "\n",
       "Residual standard error: 0.1128 on 98 degrees of freedom\n",
       "Multiple R-squared:  0.9479,\tAdjusted R-squared:  0.9474 \n",
       "F-statistic:  1782 on 1 and 98 DF,  p-value: < 2.2e-16\n"
      ]
     },
     "metadata": {},
     "output_type": "display_data"
    },
    {
     "data": {
      "image/png": "[encoded data removed]",
      "text/plain": [
       "plot without title"
      ]
     },
     "metadata": {},
     "output_type": "display_data"
    }
   ],
   "source": [
    "set.seed(1)\n",
    "eps1 <- rnorm(100, sd = 0.125)\n",
    "x1 <- rnorm(100)\n",
    "y1 <- -1 + 0.5*x1 + eps1\n",
    "\n",
    "least_squares_fit1 <- lm(y1 ~ x1)\n",
    "summary(least_squares_fit1)\n",
    "\n",
    "plot(x1, y1)\n",
    "abline(least_squares_fit1, col = \"red\")\n",
    "abline(-1, 0.5, col = \"blue\")\n",
    "legend(\"topleft\", c(\"Least Square\", \"Regression\"),\n",
    "        col = c(\"red\", \"blue\"), lty = c(1, 1))"
   ]
  },
  {
   "cell_type": "markdown",
   "metadata": {},
   "source": [
    "## Repeat the process with more noise in the data "
   ]
  },
  {
   "cell_type": "code",
   "execution_count": 39,
   "metadata": {},
   "outputs": [
    {
     "data": {
      "text/plain": [
       "\n",
       "Call:\n",
       "lm(formula = y2 ~ x2)\n",
       "\n",
       "Residuals:\n",
       "     Min       1Q   Median       3Q      Max \n",
       "-1.16208 -0.30181  0.00268  0.29152  1.14658 \n",
       "\n",
       "Coefficients:\n",
       "            Estimate Std. Error t value Pr(>|t|)    \n",
       "(Intercept) -0.94557    0.04517  -20.93   <2e-16 ***\n",
       "x2           0.49953    0.04736   10.55   <2e-16 ***\n",
       "---\n",
       "Signif. codes:  0 '***' 0.001 '**' 0.01 '*' 0.05 '.' 0.1 ' ' 1\n",
       "\n",
       "Residual standard error: 0.4514 on 98 degrees of freedom\n",
       "Multiple R-squared:  0.5317,\tAdjusted R-squared:  0.5269 \n",
       "F-statistic: 111.2 on 1 and 98 DF,  p-value: < 2.2e-16\n"
      ]
     },
     "metadata": {},
     "output_type": "display_data"
    },
    {
     "data": {
      "image/png": "[encoded data removed]",
      "text/plain": [
       "plot without title"
      ]
     },
     "metadata": {},
     "output_type": "display_data"
    }
   ],
   "source": [
    "set.seed(1)\n",
    "eps2 <- rnorm(100, sd = 0.5)\n",
    "x2 <- rnorm(100)\n",
    "y2 <- -1 + 0.5*x2 + eps2\n",
    "\n",
    "least_squares_fit2 <- lm(y2 ~ x2)\n",
    "summary(least_squares_fit2)\n",
    "\n",
    "plot(x2, y2)\n",
    "plot(x2, y2)\n",
    "abline(least_squares_fit2, col = \"red\")\n",
    "abline(-1, 0.5, col = \"blue\")\n",
    "legend(\"topleft\", c(\"Least Square\", \"Regression\"),\n",
    "        col = c(\"red\", \"blue\"), lty = c(1, 1))"
   ]
  },
  {
   "cell_type": "markdown",
   "metadata": {},
   "source": [
    "## Confidence Intervals for the coefficients 3 data sets "
   ]
  },
  {
   "cell_type": "code",
   "execution_count": 40,
   "metadata": {},
   "outputs": [
    {
     "data": {
      "text/html": [
       "<table>\n",
       "<thead><tr><th></th><th scope=col>2.5 %</th><th scope=col>97.5 %</th></tr></thead>\n",
       "<tbody>\n",
       "\t<tr><th scope=row>(Intercept)</th><td>-1.1462210</td><td>-0.9137637</td></tr>\n",
       "\t<tr><th scope=row>x</th><td> 0.4666441</td><td> 0.7248422</td></tr>\n",
       "</tbody>\n",
       "</table>\n"
      ],
      "text/latex": [
       "\\begin{tabular}{r|ll}\n",
       "  & 2.5 \\% & 97.5 \\%\\\\\n",
       "\\hline\n",
       "\t(Intercept) & -1.1462210 & -0.9137637\\\\\n",
       "\tx &  0.4666441 &  0.7248422\\\\\n",
       "\\end{tabular}\n"
      ],
      "text/markdown": [
       "\n",
       "| <!--/--> | 2.5 % | 97.5 % | \n",
       "|---|---|\n",
       "| (Intercept) | -1.1462210 | -0.9137637 | \n",
       "| x |  0.4666441 |  0.7248422 | \n",
       "\n",
       "\n"
      ],
      "text/plain": [
       "            2.5 %      97.5 %    \n",
       "(Intercept) -1.1462210 -0.9137637\n",
       "x            0.4666441  0.7248422"
      ]
     },
     "metadata": {},
     "output_type": "display_data"
    }
   ],
   "source": [
    "confint(least_squares_fit)"
   ]
  },
  {
   "cell_type": "code",
   "execution_count": 42,
   "metadata": {},
   "outputs": [
    {
     "data": {
      "text/html": [
       "<table>\n",
       "<thead><tr><th></th><th scope=col>2.5 %</th><th scope=col>97.5 %</th></tr></thead>\n",
       "<tbody>\n",
       "\t<tr><th scope=row>(Intercept)</th><td>-1.008805 </td><td>-0.9639819</td></tr>\n",
       "\t<tr><th scope=row>x1</th><td> 0.476387 </td><td> 0.5233799</td></tr>\n",
       "</tbody>\n",
       "</table>\n"
      ],
      "text/latex": [
       "\\begin{tabular}{r|ll}\n",
       "  & 2.5 \\% & 97.5 \\%\\\\\n",
       "\\hline\n",
       "\t(Intercept) & -1.008805  & -0.9639819\\\\\n",
       "\tx1 &  0.476387  &  0.5233799\\\\\n",
       "\\end{tabular}\n"
      ],
      "text/markdown": [
       "\n",
       "| <!--/--> | 2.5 % | 97.5 % | \n",
       "|---|---|\n",
       "| (Intercept) | -1.008805  | -0.9639819 | \n",
       "| x1 |  0.476387  |  0.5233799 | \n",
       "\n",
       "\n"
      ],
      "text/plain": [
       "            2.5 %     97.5 %    \n",
       "(Intercept) -1.008805 -0.9639819\n",
       "x1           0.476387  0.5233799"
      ]
     },
     "metadata": {},
     "output_type": "display_data"
    }
   ],
   "source": [
    "confint(least_squares_fit1)"
   ]
  },
  {
   "cell_type": "code",
   "execution_count": 43,
   "metadata": {},
   "outputs": [
    {
     "data": {
      "text/html": [
       "<table>\n",
       "<thead><tr><th></th><th scope=col>2.5 %</th><th scope=col>97.5 %</th></tr></thead>\n",
       "<tbody>\n",
       "\t<tr><th scope=row>(Intercept)</th><td>-1.0352203</td><td>-0.8559276</td></tr>\n",
       "\t<tr><th scope=row>x2</th><td> 0.4055479</td><td> 0.5935197</td></tr>\n",
       "</tbody>\n",
       "</table>\n"
      ],
      "text/latex": [
       "\\begin{tabular}{r|ll}\n",
       "  & 2.5 \\% & 97.5 \\%\\\\\n",
       "\\hline\n",
       "\t(Intercept) & -1.0352203 & -0.8559276\\\\\n",
       "\tx2 &  0.4055479 &  0.5935197\\\\\n",
       "\\end{tabular}\n"
      ],
      "text/markdown": [
       "\n",
       "| <!--/--> | 2.5 % | 97.5 % | \n",
       "|---|---|\n",
       "| (Intercept) | -1.0352203 | -0.8559276 | \n",
       "| x2 |  0.4055479 |  0.5935197 | \n",
       "\n",
       "\n"
      ],
      "text/plain": [
       "            2.5 %      97.5 %    \n",
       "(Intercept) -1.0352203 -0.8559276\n",
       "x2           0.4055479  0.5935197"
      ]
     },
     "metadata": {},
     "output_type": "display_data"
    }
   ],
   "source": [
    "confint(least_squares_fit2)"
   ]
  },
  {
   "cell_type": "code",
   "execution_count": null,
   "metadata": {},
   "outputs": [],
   "source": []
  }
 ],
 "metadata": {
  "kernelspec": {
   "display_name": "R",
   "language": "R",
   "name": "ir"
  },
  "language_info": {
   "codemirror_mode": "r",
   "file_extension": ".r",
   "mimetype": "text/x-r-source",
   "name": "R",
   "pygments_lexer": "r",
   "version": "3.4.2"
  }
 },
 "nbformat": 4,
 "nbformat_minor": 2
}
