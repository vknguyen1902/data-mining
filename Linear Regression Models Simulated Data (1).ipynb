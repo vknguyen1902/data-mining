{
 "cells": [
  {
   "cell_type": "markdown",
   "metadata": {},
   "source": [
    "# Linear Regression Models on Simulated Data\n",
    "We will create simulated data and fit simple linear regression models to it in this project.\n",
    "1. Simulate a data set\n",
    "2. Partition our data into training, testing, and evaluating sets\n",
    "3. Fit linear regression model using the least squares approach\n",
    "4. Test polyniminal fit on our data\n",
    "5. Assess our least square model on testing data set \n",
    "6. Repeat the process with less noise data set\n",
    "7. Repeat the process with more noise data set"
   ]
  },
  {
   "cell_type": "markdown",
   "metadata": {},
   "source": [
    "## 1. Simulate our data set "
   ]
  },
  {
   "cell_type": "code",
   "execution_count": 17,
   "metadata": {},
   "outputs": [
    {
     "data": {
      "text/html": [
       "<ol class=list-inline>\n",
       "\t<li>0.269605982037527</li>\n",
       "\t<li>-0.629985414039275</li>\n",
       "\t<li>0.868659827652265</li>\n",
       "\t<li>1.72719551711524</li>\n",
       "\t<li>0.0241876417677226</li>\n",
       "\t<li>0.36802517699251</li>\n",
       "\t<li>-1.30920429820853</li>\n",
       "\t<li>0.738621930711406</li>\n",
       "\t<li>0.0448729873749906</li>\n",
       "\t<li>-1.0483972001212</li>\n",
       "</ol>\n"
      ],
      "text/latex": [
       "\\begin{enumerate*}\n",
       "\\item 0.269605982037527\n",
       "\\item -0.629985414039275\n",
       "\\item 0.868659827652265\n",
       "\\item 1.72719551711524\n",
       "\\item 0.0241876417677226\n",
       "\\item 0.36802517699251\n",
       "\\item -1.30920429820853\n",
       "\\item 0.738621930711406\n",
       "\\item 0.0448729873749906\n",
       "\\item -1.0483972001212\n",
       "\\end{enumerate*}\n"
      ],
      "text/markdown": [
       "1. 0.269605982037527\n",
       "2. -0.629985414039275\n",
       "3. 0.868659827652265\n",
       "4. 1.72719551711524\n",
       "5. 0.0241876417677226\n",
       "6. 0.36802517699251\n",
       "7. -1.30920429820853\n",
       "8. 0.738621930711406\n",
       "9. 0.0448729873749906\n",
       "10. -1.0483972001212\n",
       "\n",
       "\n"
      ],
      "text/plain": [
       " [1]  0.26960598 -0.62998541  0.86865983  1.72719552  0.02418764  0.36802518\n",
       " [7] -1.30920430  0.73862193  0.04487299 -1.04839720"
      ]
     },
     "metadata": {},
     "output_type": "display_data"
    }
   ],
   "source": [
    "set.seed(6)\n",
    "x <- rnorm(200, sd = sqrt(1))\n",
    "head(x, n = 10)"
   ]
  },
  {
   "cell_type": "code",
   "execution_count": 18,
   "metadata": {},
   "outputs": [
    {
     "data": {
      "text/html": [
       "<ol class=list-inline>\n",
       "\t<li>0.711056895227518</li>\n",
       "\t<li>-0.379222694694782</li>\n",
       "\t<li>-0.0276714570994186</li>\n",
       "\t<li>-0.240229338797175</li>\n",
       "\t<li>-0.460258262243797</li>\n",
       "\t<li>-0.323814367555737</li>\n",
       "\t<li>0.258966509023649</li>\n",
       "\t<li>0.739180430561831</li>\n",
       "\t<li>-1.22834203159718</li>\n",
       "\t<li>-0.724725993906827</li>\n",
       "</ol>\n"
      ],
      "text/latex": [
       "\\begin{enumerate*}\n",
       "\\item 0.711056895227518\n",
       "\\item -0.379222694694782\n",
       "\\item -0.0276714570994186\n",
       "\\item -0.240229338797175\n",
       "\\item -0.460258262243797\n",
       "\\item -0.323814367555737\n",
       "\\item 0.258966509023649\n",
       "\\item 0.739180430561831\n",
       "\\item -1.22834203159718\n",
       "\\item -0.724725993906827\n",
       "\\end{enumerate*}\n"
      ],
      "text/markdown": [
       "1. 0.711056895227518\n",
       "2. -0.379222694694782\n",
       "3. -0.0276714570994186\n",
       "4. -0.240229338797175\n",
       "5. -0.460258262243797\n",
       "6. -0.323814367555737\n",
       "7. 0.258966509023649\n",
       "8. 0.739180430561831\n",
       "9. -1.22834203159718\n",
       "10. -0.724725993906827\n",
       "\n",
       "\n"
      ],
      "text/plain": [
       " [1]  0.71105690 -0.37922269 -0.02767146 -0.24022934 -0.46025826 -0.32381437\n",
       " [7]  0.25896651  0.73918043 -1.22834203 -0.72472599"
      ]
     },
     "metadata": {},
     "output_type": "display_data"
    }
   ],
   "source": [
    "eps <- rnorm(200, sd = sqrt(0.25))\n",
    "head(eps, n = 10)"
   ]
  },
  {
   "cell_type": "code",
   "execution_count": 60,
   "metadata": {},
   "outputs": [
    {
     "data": {
      "text/html": [
       "200"
      ],
      "text/latex": [
       "200"
      ],
      "text/markdown": [
       "200"
      ],
      "text/plain": [
       "[1] 200"
      ]
     },
     "metadata": {},
     "output_type": "display_data"
    },
    {
     "data": {
      "text/html": [
       "<ol class=list-inline>\n",
       "\t<li>-0.154140113753719</li>\n",
       "\t<li>-1.69421540171442</li>\n",
       "\t<li>-0.593341543273286</li>\n",
       "\t<li>-0.376631580239555</li>\n",
       "\t<li>-1.44816444135994</li>\n",
       "\t<li>-1.13980177905948</li>\n",
       "</ol>\n"
      ],
      "text/latex": [
       "\\begin{enumerate*}\n",
       "\\item -0.154140113753719\n",
       "\\item -1.69421540171442\n",
       "\\item -0.593341543273286\n",
       "\\item -0.376631580239555\n",
       "\\item -1.44816444135994\n",
       "\\item -1.13980177905948\n",
       "\\end{enumerate*}\n"
      ],
      "text/markdown": [
       "1. -0.154140113753719\n",
       "2. -1.69421540171442\n",
       "3. -0.593341543273286\n",
       "4. -0.376631580239555\n",
       "5. -1.44816444135994\n",
       "6. -1.13980177905948\n",
       "\n",
       "\n"
      ],
      "text/plain": [
       "[1] -0.1541401 -1.6942154 -0.5933415 -0.3766316 -1.4481644 -1.1398018"
      ]
     },
     "metadata": {},
     "output_type": "display_data"
    }
   ],
   "source": [
    "y <- -1 + 0.5*x + eps\n",
    "length(y)\n",
    "head(y)"
   ]
  },
  {
   "cell_type": "code",
   "execution_count": 28,
   "metadata": {},
   "outputs": [
    {
     "data": {
      "image/png": "[encoded data removed]",
      "text/plain": [
       "plot without title"
      ]
     },
     "metadata": {},
     "output_type": "display_data"
    }
   ],
   "source": [
    "plot(x, y)\n",
    "abline(-1, 0.5, col = \"blue\")"
   ]
  },
  {
   "cell_type": "markdown",
   "metadata": {},
   "source": [
    "## 2. Partitioning our data set into training, testing, and evaluating sets"
   ]
  },
  {
   "cell_type": "code",
   "execution_count": 64,
   "metadata": {},
   "outputs": [
    {
     "data": {
      "text/html": [
       "<table>\n",
       "<thead><tr><th scope=col>x</th><th scope=col>y</th></tr></thead>\n",
       "<tbody>\n",
       "\t<tr><td> 0.26960598</td><td>-0.1541401 </td></tr>\n",
       "\t<tr><td>-0.62998541</td><td>-1.6942154 </td></tr>\n",
       "\t<tr><td> 0.86865983</td><td>-0.5933415 </td></tr>\n",
       "\t<tr><td> 1.72719552</td><td>-0.3766316 </td></tr>\n",
       "\t<tr><td> 0.02418764</td><td>-1.4481644 </td></tr>\n",
       "\t<tr><td> 0.36802518</td><td>-1.1398018 </td></tr>\n",
       "</tbody>\n",
       "</table>\n"
      ],
      "text/latex": [
       "\\begin{tabular}{r|ll}\n",
       " x & y\\\\\n",
       "\\hline\n",
       "\t  0.26960598 & -0.1541401 \\\\\n",
       "\t -0.62998541 & -1.6942154 \\\\\n",
       "\t  0.86865983 & -0.5933415 \\\\\n",
       "\t  1.72719552 & -0.3766316 \\\\\n",
       "\t  0.02418764 & -1.4481644 \\\\\n",
       "\t  0.36802518 & -1.1398018 \\\\\n",
       "\\end{tabular}\n"
      ],
      "text/markdown": [
       "\n",
       "x | y | \n",
       "|---|---|---|---|---|---|\n",
       "|  0.26960598 | -0.1541401  | \n",
       "| -0.62998541 | -1.6942154  | \n",
       "|  0.86865983 | -0.5933415  | \n",
       "|  1.72719552 | -0.3766316  | \n",
       "|  0.02418764 | -1.4481644  | \n",
       "|  0.36802518 | -1.1398018  | \n",
       "\n",
       "\n"
      ],
      "text/plain": [
       "  x           y         \n",
       "1  0.26960598 -0.1541401\n",
       "2 -0.62998541 -1.6942154\n",
       "3  0.86865983 -0.5933415\n",
       "4  1.72719552 -0.3766316\n",
       "5  0.02418764 -1.4481644\n",
       "6  0.36802518 -1.1398018"
      ]
     },
     "metadata": {},
     "output_type": "display_data"
    },
    {
     "data": {
      "text/html": [
       "<table>\n",
       "<thead><tr><th scope=col>x</th><th scope=col>y</th></tr></thead>\n",
       "<tbody>\n",
       "\t<tr><td> 0.26960598</td><td>-0.1541401 </td></tr>\n",
       "\t<tr><td>-0.62998541</td><td>-1.6942154 </td></tr>\n",
       "\t<tr><td> 0.86865983</td><td>-0.5933415 </td></tr>\n",
       "\t<tr><td> 1.72719552</td><td>-0.3766316 </td></tr>\n",
       "\t<tr><td> 0.02418764</td><td>-1.4481644 </td></tr>\n",
       "\t<tr><td> 0.36802518</td><td>-1.1398018 </td></tr>\n",
       "</tbody>\n",
       "</table>\n"
      ],
      "text/latex": [
       "\\begin{tabular}{r|ll}\n",
       " x & y\\\\\n",
       "\\hline\n",
       "\t  0.26960598 & -0.1541401 \\\\\n",
       "\t -0.62998541 & -1.6942154 \\\\\n",
       "\t  0.86865983 & -0.5933415 \\\\\n",
       "\t  1.72719552 & -0.3766316 \\\\\n",
       "\t  0.02418764 & -1.4481644 \\\\\n",
       "\t  0.36802518 & -1.1398018 \\\\\n",
       "\\end{tabular}\n"
      ],
      "text/markdown": [
       "\n",
       "x | y | \n",
       "|---|---|---|---|---|---|\n",
       "|  0.26960598 | -0.1541401  | \n",
       "| -0.62998541 | -1.6942154  | \n",
       "|  0.86865983 | -0.5933415  | \n",
       "|  1.72719552 | -0.3766316  | \n",
       "|  0.02418764 | -1.4481644  | \n",
       "|  0.36802518 | -1.1398018  | \n",
       "\n",
       "\n"
      ],
      "text/plain": [
       "  x           y         \n",
       "1  0.26960598 -0.1541401\n",
       "2 -0.62998541 -1.6942154\n",
       "3  0.86865983 -0.5933415\n",
       "4  1.72719552 -0.3766316\n",
       "5  0.02418764 -1.4481644\n",
       "6  0.36802518 -1.1398018"
      ]
     },
     "metadata": {},
     "output_type": "display_data"
    },
    {
     "data": {
      "text/html": [
       "<table>\n",
       "<thead><tr><th></th><th scope=col>x</th><th scope=col>y</th></tr></thead>\n",
       "<tbody>\n",
       "\t<tr><th scope=row>101</th><td>-0.94076703</td><td>-1.2622976 </td></tr>\n",
       "\t<tr><th scope=row>102</th><td> 0.09391043</td><td>-0.9730664 </td></tr>\n",
       "\t<tr><th scope=row>103</th><td> 0.06625338</td><td>-1.6084318 </td></tr>\n",
       "\t<tr><th scope=row>104</th><td>-0.99065612</td><td>-1.1348724 </td></tr>\n",
       "\t<tr><th scope=row>105</th><td>-0.07211499</td><td>-1.4568005 </td></tr>\n",
       "\t<tr><th scope=row>106</th><td>-0.22325684</td><td>-1.3967976 </td></tr>\n",
       "</tbody>\n",
       "</table>\n"
      ],
      "text/latex": [
       "\\begin{tabular}{r|ll}\n",
       "  & x & y\\\\\n",
       "\\hline\n",
       "\t101 & -0.94076703 & -1.2622976 \\\\\n",
       "\t102 &  0.09391043 & -0.9730664 \\\\\n",
       "\t103 &  0.06625338 & -1.6084318 \\\\\n",
       "\t104 & -0.99065612 & -1.1348724 \\\\\n",
       "\t105 & -0.07211499 & -1.4568005 \\\\\n",
       "\t106 & -0.22325684 & -1.3967976 \\\\\n",
       "\\end{tabular}\n"
      ],
      "text/markdown": [
       "\n",
       "| <!--/--> | x | y | \n",
       "|---|---|---|---|---|---|\n",
       "| 101 | -0.94076703 | -1.2622976  | \n",
       "| 102 |  0.09391043 | -0.9730664  | \n",
       "| 103 |  0.06625338 | -1.6084318  | \n",
       "| 104 | -0.99065612 | -1.1348724  | \n",
       "| 105 | -0.07211499 | -1.4568005  | \n",
       "| 106 | -0.22325684 | -1.3967976  | \n",
       "\n",
       "\n"
      ],
      "text/plain": [
       "    x           y         \n",
       "101 -0.94076703 -1.2622976\n",
       "102  0.09391043 -0.9730664\n",
       "103  0.06625338 -1.6084318\n",
       "104 -0.99065612 -1.1348724\n",
       "105 -0.07211499 -1.4568005\n",
       "106 -0.22325684 -1.3967976"
      ]
     },
     "metadata": {},
     "output_type": "display_data"
    },
    {
     "data": {
      "text/html": [
       "<table>\n",
       "<thead><tr><th></th><th scope=col>x</th><th scope=col>y</th></tr></thead>\n",
       "<tbody>\n",
       "\t<tr><th scope=row>151</th><td> 0.5251149</td><td>-0.7884476</td></tr>\n",
       "\t<tr><th scope=row>152</th><td>-0.5433253</td><td>-1.4945594</td></tr>\n",
       "\t<tr><th scope=row>153</th><td>-1.7170191</td><td>-1.6678436</td></tr>\n",
       "\t<tr><th scope=row>154</th><td> 1.0301166</td><td>-0.3709576</td></tr>\n",
       "\t<tr><th scope=row>155</th><td>-1.1471188</td><td>-1.2086931</td></tr>\n",
       "\t<tr><th scope=row>156</th><td>-0.2661295</td><td>-0.1028108</td></tr>\n",
       "</tbody>\n",
       "</table>\n"
      ],
      "text/latex": [
       "\\begin{tabular}{r|ll}\n",
       "  & x & y\\\\\n",
       "\\hline\n",
       "\t151 &  0.5251149 & -0.7884476\\\\\n",
       "\t152 & -0.5433253 & -1.4945594\\\\\n",
       "\t153 & -1.7170191 & -1.6678436\\\\\n",
       "\t154 &  1.0301166 & -0.3709576\\\\\n",
       "\t155 & -1.1471188 & -1.2086931\\\\\n",
       "\t156 & -0.2661295 & -0.1028108\\\\\n",
       "\\end{tabular}\n"
      ],
      "text/markdown": [
       "\n",
       "| <!--/--> | x | y | \n",
       "|---|---|---|---|---|---|\n",
       "| 151 |  0.5251149 | -0.7884476 | \n",
       "| 152 | -0.5433253 | -1.4945594 | \n",
       "| 153 | -1.7170191 | -1.6678436 | \n",
       "| 154 |  1.0301166 | -0.3709576 | \n",
       "| 155 | -1.1471188 | -1.2086931 | \n",
       "| 156 | -0.2661295 | -0.1028108 | \n",
       "\n",
       "\n"
      ],
      "text/plain": [
       "    x          y         \n",
       "151  0.5251149 -0.7884476\n",
       "152 -0.5433253 -1.4945594\n",
       "153 -1.7170191 -1.6678436\n",
       "154  1.0301166 -0.3709576\n",
       "155 -1.1471188 -1.2086931\n",
       "156 -0.2661295 -0.1028108"
      ]
     },
     "metadata": {},
     "output_type": "display_data"
    }
   ],
   "source": [
    "#Create Data Frame\n",
    "simulated_data <- data.frame(x = x, y = y)\n",
    "head(simulated_data)\n",
    "\n",
    "#Divide data into training, testing, and evaluating\n",
    "train <- simulated_data[(1:100),]\n",
    "head(train)\n",
    "\n",
    "test <- simulated_data[(101:150),]\n",
    "head(test)\n",
    "\n",
    "evaluate <- simulated_data[(151:200),]\n",
    "head(evaluate)"
   ]
  },
  {
   "cell_type": "markdown",
   "metadata": {},
   "source": [
    "## 3. Fit linear regression model to our data set "
   ]
  },
  {
   "cell_type": "code",
   "execution_count": 65,
   "metadata": {},
   "outputs": [
    {
     "data": {
      "text/plain": [
       "\n",
       "Call:\n",
       "lm(formula = train$y ~ train$x)\n",
       "\n",
       "Residuals:\n",
       "    Min      1Q  Median      3Q     Max \n",
       "-1.5180 -0.2726 -0.0316  0.2730  1.1741 \n",
       "\n",
       "Coefficients:\n",
       "            Estimate Std. Error t value Pr(>|t|)    \n",
       "(Intercept) -1.04203    0.04973 -20.956  < 2e-16 ***\n",
       "train$x      0.44983    0.04835   9.303 3.95e-15 ***\n",
       "---\n",
       "Signif. codes:  0 '***' 0.001 '**' 0.01 '*' 0.05 '.' 0.1 ' ' 1\n",
       "\n",
       "Residual standard error: 0.4972 on 98 degrees of freedom\n",
       "Multiple R-squared:  0.469,\tAdjusted R-squared:  0.4635 \n",
       "F-statistic: 86.54 on 1 and 98 DF,  p-value: 3.948e-15\n"
      ]
     },
     "metadata": {},
     "output_type": "display_data"
    }
   ],
   "source": [
    "train_least_squares_fit <- lm(train$y ~ train$x)\n",
    "summary(train_least_squares_fit)"
   ]
  },
  {
   "cell_type": "code",
   "execution_count": 66,
   "metadata": {},
   "outputs": [
    {
     "data": {
      "image/png": "[encoded data removed]",
      "text/plain": [
       "plot without title"
      ]
     },
     "metadata": {},
     "output_type": "display_data"
    }
   ],
   "source": [
    "plot(train$x, train$y)\n",
    "abline(-1, 0.5, col = \"blue\")\n",
    "abline(train_least_squares_fit, col = \"red\")\n",
    "legend(\"topleft\", c(\"Least Square\", \"Regression\"), \n",
    "        col = c(\"red\", \"blue\"), lty = c(1,1))"
   ]
  },
  {
   "cell_type": "markdown",
   "metadata": {},
   "source": [
    "## 4. Test polyniminal fit on our data"
   ]
  },
  {
   "cell_type": "code",
   "execution_count": 68,
   "metadata": {},
   "outputs": [
    {
     "data": {
      "text/plain": [
       "\n",
       "Call:\n",
       "lm(formula = train$y ~ train$x + I(train$x^2))\n",
       "\n",
       "Residuals:\n",
       "     Min       1Q   Median       3Q      Max \n",
       "-1.53336 -0.28075 -0.00176  0.23252  0.98849 \n",
       "\n",
       "Coefficients:\n",
       "             Estimate Std. Error t value Pr(>|t|)    \n",
       "(Intercept)  -1.16714    0.06229 -18.738  < 2e-16 ***\n",
       "train$x       0.39538    0.04952   7.985 2.89e-12 ***\n",
       "I(train$x^2)  0.11779    0.03777   3.119  0.00239 ** \n",
       "---\n",
       "Signif. codes:  0 '***' 0.001 '**' 0.01 '*' 0.05 '.' 0.1 ' ' 1\n",
       "\n",
       "Residual standard error: 0.4765 on 97 degrees of freedom\n",
       "Multiple R-squared:  0.5174,\tAdjusted R-squared:  0.5074 \n",
       "F-statistic: 51.99 on 2 and 97 DF,  p-value: 4.53e-16\n"
      ]
     },
     "metadata": {},
     "output_type": "display_data"
    }
   ],
   "source": [
    "poly_fit <- lm(train$y ~ train$x + I(train$x^2))\n",
    "summary(poly_fit)"
   ]
  },
  {
   "cell_type": "markdown",
   "metadata": {},
   "source": [
    "## 5. Assess our least square approach on testing data set"
   ]
  },
  {
   "cell_type": "code",
   "execution_count": 72,
   "metadata": {},
   "outputs": [
    {
     "name": "stderr",
     "output_type": "stream",
     "text": [
      "Warning message:\n",
      "\"'newdata' had 50 rows but variables found have 100 rows\""
     ]
    },
    {
     "data": {
      "text/html": [
       "<dl class=dl-horizontal>\n",
       "\t<dt>1</dt>\n",
       "\t\t<dd>-0.92075023574036</dd>\n",
       "\t<dt>2</dt>\n",
       "\t\t<dd>-1.32541212728673</dd>\n",
       "\t<dt>3</dt>\n",
       "\t\t<dd>-0.651278714156478</dd>\n",
       "\t<dt>4</dt>\n",
       "\t\t<dd>-0.265084851505873</dd>\n",
       "\t<dt>5</dt>\n",
       "\t\t<dd>-1.03114641141173</dd>\n",
       "\t<dt>6</dt>\n",
       "\t\t<dd>-0.876478472172321</dd>\n",
       "</dl>\n"
      ],
      "text/latex": [
       "\\begin{description*}\n",
       "\\item[1] -0.92075023574036\n",
       "\\item[2] -1.32541212728673\n",
       "\\item[3] -0.651278714156478\n",
       "\\item[4] -0.265084851505873\n",
       "\\item[5] -1.03114641141173\n",
       "\\item[6] -0.876478472172321\n",
       "\\end{description*}\n"
      ],
      "text/markdown": [
       "1\n",
       ":   -0.920750235740362\n",
       ":   -1.325412127286733\n",
       ":   -0.6512787141564784\n",
       ":   -0.2650848515058735\n",
       ":   -1.031146411411736\n",
       ":   -0.876478472172321\n",
       "\n"
      ],
      "text/plain": [
       "         1          2          3          4          5          6 \n",
       "-0.9207502 -1.3254121 -0.6512787 -0.2650849 -1.0311464 -0.8764785 "
      ]
     },
     "metadata": {},
     "output_type": "display_data"
    }
   ],
   "source": [
    "#Predict value of y in testing data set\n",
    "predict_test <- predict(train_least_squares_fit, test)\n",
    "head(predict_test)"
   ]
  },
  {
   "cell_type": "markdown",
   "metadata": {},
   "source": [
    "## 6. Repeat the process with less noise in the data"
   ]
  },
  {
   "cell_type": "code",
   "execution_count": 50,
   "metadata": {},
   "outputs": [
    {
     "data": {
      "text/plain": [
       "\n",
       "Call:\n",
       "lm(formula = y1 ~ x1)\n",
       "\n",
       "Residuals:\n",
       "     Min       1Q   Median       3Q      Max \n",
       "-0.69725 -0.18108  0.00161  0.17491  0.68795 \n",
       "\n",
       "Coefficients:\n",
       "            Estimate Std. Error t value Pr(>|t|)    \n",
       "(Intercept) -0.96734    0.02710  -35.69   <2e-16 ***\n",
       "x1           0.49972    0.02842   17.59   <2e-16 ***\n",
       "---\n",
       "Signif. codes:  0 '***' 0.001 '**' 0.01 '*' 0.05 '.' 0.1 ' ' 1\n",
       "\n",
       "Residual standard error: 0.2708 on 98 degrees of freedom\n",
       "Multiple R-squared:  0.7594,\tAdjusted R-squared:  0.7569 \n",
       "F-statistic: 309.3 on 1 and 98 DF,  p-value: < 2.2e-16\n"
      ]
     },
     "metadata": {},
     "output_type": "display_data"
    },
    {
     "data": {
      "image/png": "[encoded data removed]",
      "text/plain": [
       "plot without title"
      ]
     },
     "metadata": {},
     "output_type": "display_data"
    }
   ],
   "source": [
    "set.seed(1)\n",
    "eps1 <- rnorm(100, sd = sqrt(0.09))\n",
    "x1 <- rnorm(100)\n",
    "y1 <- -1 + 0.5*x1 + eps1\n",
    "\n",
    "least_squares_fit1 <- lm(y1 ~ x1)\n",
    "summary(least_squares_fit1)\n",
    "\n",
    "plot(x1, y1)\n",
    "abline(-1, 0.5, col = \"blue\")\n",
    "abline(least_squares_fit1, col = \"red\")\n",
    "\n",
    "legend(\"topleft\", c(\"Least Square\", \"Regression\"),\n",
    "        col = c(\"red\", \"blue\"), lty = c(1, 1))"
   ]
  },
  {
   "cell_type": "markdown",
   "metadata": {},
   "source": [
    "## Repeat the process with more noise in the data "
   ]
  },
  {
   "cell_type": "code",
   "execution_count": 51,
   "metadata": {},
   "outputs": [
    {
     "data": {
      "text/plain": [
       "\n",
       "Call:\n",
       "lm(formula = y2 ~ x2)\n",
       "\n",
       "Residuals:\n",
       "     Min       1Q   Median       3Q      Max \n",
       "-1.72364 -0.44765  0.00397  0.43240  1.70065 \n",
       "\n",
       "Coefficients:\n",
       "            Estimate Std. Error t value Pr(>|t|)    \n",
       "(Intercept) -0.91927    0.06700 -13.720  < 2e-16 ***\n",
       "x2           0.49931    0.07025   7.108 1.92e-10 ***\n",
       "---\n",
       "Signif. codes:  0 '***' 0.001 '**' 0.01 '*' 0.05 '.' 0.1 ' ' 1\n",
       "\n",
       "Residual standard error: 0.6695 on 98 degrees of freedom\n",
       "Multiple R-squared:  0.3402,\tAdjusted R-squared:  0.3334 \n",
       "F-statistic: 50.52 on 1 and 98 DF,  p-value: 1.922e-10\n"
      ]
     },
     "metadata": {},
     "output_type": "display_data"
    },
    {
     "data": {
      "image/png": "[encoded data removed]",
      "text/plain": [
       "plot without title"
      ]
     },
     "metadata": {},
     "output_type": "display_data"
    }
   ],
   "source": [
    "set.seed(1)\n",
    "eps2 <- rnorm(100, sd = sqrt(0.55))\n",
    "x2 <- rnorm(100)\n",
    "y2 <- -1 + 0.5*x2 + eps2\n",
    "\n",
    "least_squares_fit2 <- lm(y2 ~ x2)\n",
    "summary(least_squares_fit2)\n",
    "\n",
    "plot(x2, y2)\n",
    "abline(-1, 0.5, col = \"blue\")\n",
    "abline(least_squares_fit2, col = \"red\")\n",
    "\n",
    "legend(\"topleft\", c(\"Least Square\", \"Regression\"),\n",
    "        col = c(\"red\", \"blue\"), lty = c(1, 1))"
   ]
  },
  {
   "cell_type": "markdown",
   "metadata": {},
   "source": [
    "## Confidence Intervals for the coefficients 3 data sets "
   ]
  },
  {
   "cell_type": "code",
   "execution_count": 52,
   "metadata": {},
   "outputs": [
    {
     "data": {
      "text/html": [
       "<table>\n",
       "<thead><tr><th></th><th scope=col>2.5 %</th><th scope=col>97.5 %</th></tr></thead>\n",
       "<tbody>\n",
       "\t<tr><th scope=row>(Intercept)</th><td>-1.1025761</td><td>-0.9624067</td></tr>\n",
       "\t<tr><th scope=row>x</th><td> 0.4032587</td><td> 0.5472437</td></tr>\n",
       "</tbody>\n",
       "</table>\n"
      ],
      "text/latex": [
       "\\begin{tabular}{r|ll}\n",
       "  & 2.5 \\% & 97.5 \\%\\\\\n",
       "\\hline\n",
       "\t(Intercept) & -1.1025761 & -0.9624067\\\\\n",
       "\tx &  0.4032587 &  0.5472437\\\\\n",
       "\\end{tabular}\n"
      ],
      "text/markdown": [
       "\n",
       "| <!--/--> | 2.5 % | 97.5 % | \n",
       "|---|---|\n",
       "| (Intercept) | -1.1025761 | -0.9624067 | \n",
       "| x |  0.4032587 |  0.5472437 | \n",
       "\n",
       "\n"
      ],
      "text/plain": [
       "            2.5 %      97.5 %    \n",
       "(Intercept) -1.1025761 -0.9624067\n",
       "x            0.4032587  0.5472437"
      ]
     },
     "metadata": {},
     "output_type": "display_data"
    }
   ],
   "source": [
    "confint(least_squares_fit)"
   ]
  },
  {
   "cell_type": "code",
   "execution_count": 53,
   "metadata": {},
   "outputs": [
    {
     "data": {
      "text/html": [
       "<table>\n",
       "<thead><tr><th></th><th scope=col>2.5 %</th><th scope=col>97.5 %</th></tr></thead>\n",
       "<tbody>\n",
       "\t<tr><th scope=row>(Intercept)</th><td>-1.0211322</td><td>-0.9135566</td></tr>\n",
       "\t<tr><th scope=row>x1</th><td> 0.4433287</td><td> 0.5561118</td></tr>\n",
       "</tbody>\n",
       "</table>\n"
      ],
      "text/latex": [
       "\\begin{tabular}{r|ll}\n",
       "  & 2.5 \\% & 97.5 \\%\\\\\n",
       "\\hline\n",
       "\t(Intercept) & -1.0211322 & -0.9135566\\\\\n",
       "\tx1 &  0.4433287 &  0.5561118\\\\\n",
       "\\end{tabular}\n"
      ],
      "text/markdown": [
       "\n",
       "| <!--/--> | 2.5 % | 97.5 % | \n",
       "|---|---|\n",
       "| (Intercept) | -1.0211322 | -0.9135566 | \n",
       "| x1 |  0.4433287 |  0.5561118 | \n",
       "\n",
       "\n"
      ],
      "text/plain": [
       "            2.5 %      97.5 %    \n",
       "(Intercept) -1.0211322 -0.9135566\n",
       "x1           0.4433287  0.5561118"
      ]
     },
     "metadata": {},
     "output_type": "display_data"
    }
   ],
   "source": [
    "confint(least_squares_fit1)"
   ]
  },
  {
   "cell_type": "code",
   "execution_count": 55,
   "metadata": {},
   "outputs": [
    {
     "data": {
      "text/html": [
       "<table>\n",
       "<thead><tr><th></th><th scope=col>2.5 %</th><th scope=col>97.5 %</th></tr></thead>\n",
       "<tbody>\n",
       "\t<tr><th scope=row>(Intercept)</th><td>-1.0522401</td><td>-0.7863061</td></tr>\n",
       "\t<tr><th scope=row>x2</th><td> 0.3599049</td><td> 0.6387122</td></tr>\n",
       "</tbody>\n",
       "</table>\n"
      ],
      "text/latex": [
       "\\begin{tabular}{r|ll}\n",
       "  & 2.5 \\% & 97.5 \\%\\\\\n",
       "\\hline\n",
       "\t(Intercept) & -1.0522401 & -0.7863061\\\\\n",
       "\tx2 &  0.3599049 &  0.6387122\\\\\n",
       "\\end{tabular}\n"
      ],
      "text/markdown": [
       "\n",
       "| <!--/--> | 2.5 % | 97.5 % | \n",
       "|---|---|\n",
       "| (Intercept) | -1.0522401 | -0.7863061 | \n",
       "| x2 |  0.3599049 |  0.6387122 | \n",
       "\n",
       "\n"
      ],
      "text/plain": [
       "            2.5 %      97.5 %    \n",
       "(Intercept) -1.0522401 -0.7863061\n",
       "x2           0.3599049  0.6387122"
      ]
     },
     "metadata": {},
     "output_type": "display_data"
    }
   ],
   "source": [
    "confint(least_squares_fit2)"
   ]
  },
  {
   "cell_type": "code",
   "execution_count": null,
   "metadata": {},
   "outputs": [],
   "source": []
  }
 ],
 "metadata": {
  "kernelspec": {
   "display_name": "R",
   "language": "R",
   "name": "ir"
  },
  "language_info": {
   "codemirror_mode": "r",
   "file_extension": ".r",
   "mimetype": "text/x-r-source",
   "name": "R",
   "pygments_lexer": "r",
   "version": "3.4.2"
  }
 },
 "nbformat": 4,
 "nbformat_minor": 2
}
