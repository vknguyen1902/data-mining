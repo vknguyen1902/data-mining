{
 "cells": [
  {
   "cell_type": "markdown",
   "metadata": {},
   "source": [
    "# Linear Regression Models on Simulated Data\n",
    "We will create simulated data and fit simple linear regression models to it in this project.\n",
    "1. Simulate a data set\n",
    "2. Partition our data into training, testing, and evaluating sets\n",
    "3. Fit linear regression model using the least squares approach\n",
    "4. Test polyniminal fit on our data\n",
    "5. Assess our least square model on testing data set \n",
    "6. Repeat the process with less noise data set\n",
    "7. Repeat the process with more noise data set\n",
    "8. Confidence intervals for orginal, less noise, and more noise data sets"
   ]
  },
  {
   "cell_type": "markdown",
   "metadata": {},
   "source": [
    "## 1. Simulate our data set "
   ]
  },
  {
   "cell_type": "code",
   "execution_count": 17,
   "metadata": {},
   "outputs": [
    {
     "data": {
      "text/html": [
       "<ol class=list-inline>\n",
       "\t<li>0.269605982037527</li>\n",
       "\t<li>-0.629985414039275</li>\n",
       "\t<li>0.868659827652265</li>\n",
       "\t<li>1.72719551711524</li>\n",
       "\t<li>0.0241876417677226</li>\n",
       "\t<li>0.36802517699251</li>\n",
       "\t<li>-1.30920429820853</li>\n",
       "\t<li>0.738621930711406</li>\n",
       "\t<li>0.0448729873749906</li>\n",
       "\t<li>-1.0483972001212</li>\n",
       "</ol>\n"
      ],
      "text/latex": [
       "\\begin{enumerate*}\n",
       "\\item 0.269605982037527\n",
       "\\item -0.629985414039275\n",
       "\\item 0.868659827652265\n",
       "\\item 1.72719551711524\n",
       "\\item 0.0241876417677226\n",
       "\\item 0.36802517699251\n",
       "\\item -1.30920429820853\n",
       "\\item 0.738621930711406\n",
       "\\item 0.0448729873749906\n",
       "\\item -1.0483972001212\n",
       "\\end{enumerate*}\n"
      ],
      "text/markdown": [
       "1. 0.269605982037527\n",
       "2. -0.629985414039275\n",
       "3. 0.868659827652265\n",
       "4. 1.72719551711524\n",
       "5. 0.0241876417677226\n",
       "6. 0.36802517699251\n",
       "7. -1.30920429820853\n",
       "8. 0.738621930711406\n",
       "9. 0.0448729873749906\n",
       "10. -1.0483972001212\n",
       "\n",
       "\n"
      ],
      "text/plain": [
       " [1]  0.26960598 -0.62998541  0.86865983  1.72719552  0.02418764  0.36802518\n",
       " [7] -1.30920430  0.73862193  0.04487299 -1.04839720"
      ]
     },
     "metadata": {},
     "output_type": "display_data"
    }
   ],
   "source": [
    "set.seed(6)\n",
    "x <- rnorm(200, sd = sqrt(1))\n",
    "head(x, n = 10)"
   ]
  },
  {
   "cell_type": "code",
   "execution_count": 18,
   "metadata": {},
   "outputs": [
    {
     "data": {
      "text/html": [
       "<ol class=list-inline>\n",
       "\t<li>0.711056895227518</li>\n",
       "\t<li>-0.379222694694782</li>\n",
       "\t<li>-0.0276714570994186</li>\n",
       "\t<li>-0.240229338797175</li>\n",
       "\t<li>-0.460258262243797</li>\n",
       "\t<li>-0.323814367555737</li>\n",
       "\t<li>0.258966509023649</li>\n",
       "\t<li>0.739180430561831</li>\n",
       "\t<li>-1.22834203159718</li>\n",
       "\t<li>-0.724725993906827</li>\n",
       "</ol>\n"
      ],
      "text/latex": [
       "\\begin{enumerate*}\n",
       "\\item 0.711056895227518\n",
       "\\item -0.379222694694782\n",
       "\\item -0.0276714570994186\n",
       "\\item -0.240229338797175\n",
       "\\item -0.460258262243797\n",
       "\\item -0.323814367555737\n",
       "\\item 0.258966509023649\n",
       "\\item 0.739180430561831\n",
       "\\item -1.22834203159718\n",
       "\\item -0.724725993906827\n",
       "\\end{enumerate*}\n"
      ],
      "text/markdown": [
       "1. 0.711056895227518\n",
       "2. -0.379222694694782\n",
       "3. -0.0276714570994186\n",
       "4. -0.240229338797175\n",
       "5. -0.460258262243797\n",
       "6. -0.323814367555737\n",
       "7. 0.258966509023649\n",
       "8. 0.739180430561831\n",
       "9. -1.22834203159718\n",
       "10. -0.724725993906827\n",
       "\n",
       "\n"
      ],
      "text/plain": [
       " [1]  0.71105690 -0.37922269 -0.02767146 -0.24022934 -0.46025826 -0.32381437\n",
       " [7]  0.25896651  0.73918043 -1.22834203 -0.72472599"
      ]
     },
     "metadata": {},
     "output_type": "display_data"
    }
   ],
   "source": [
    "eps <- rnorm(200, sd = sqrt(0.25))\n",
    "head(eps, n = 10)"
   ]
  },
  {
   "cell_type": "code",
   "execution_count": 60,
   "metadata": {},
   "outputs": [
    {
     "data": {
      "text/html": [
       "200"
      ],
      "text/latex": [
       "200"
      ],
      "text/markdown": [
       "200"
      ],
      "text/plain": [
       "[1] 200"
      ]
     },
     "metadata": {},
     "output_type": "display_data"
    },
    {
     "data": {
      "text/html": [
       "<ol class=list-inline>\n",
       "\t<li>-0.154140113753719</li>\n",
       "\t<li>-1.69421540171442</li>\n",
       "\t<li>-0.593341543273286</li>\n",
       "\t<li>-0.376631580239555</li>\n",
       "\t<li>-1.44816444135994</li>\n",
       "\t<li>-1.13980177905948</li>\n",
       "</ol>\n"
      ],
      "text/latex": [
       "\\begin{enumerate*}\n",
       "\\item -0.154140113753719\n",
       "\\item -1.69421540171442\n",
       "\\item -0.593341543273286\n",
       "\\item -0.376631580239555\n",
       "\\item -1.44816444135994\n",
       "\\item -1.13980177905948\n",
       "\\end{enumerate*}\n"
      ],
      "text/markdown": [
       "1. -0.154140113753719\n",
       "2. -1.69421540171442\n",
       "3. -0.593341543273286\n",
       "4. -0.376631580239555\n",
       "5. -1.44816444135994\n",
       "6. -1.13980177905948\n",
       "\n",
       "\n"
      ],
      "text/plain": [
       "[1] -0.1541401 -1.6942154 -0.5933415 -0.3766316 -1.4481644 -1.1398018"
      ]
     },
     "metadata": {},
     "output_type": "display_data"
    }
   ],
   "source": [
    "y <- -1 + 0.5*x + eps\n",
    "length(y)\n",
    "head(y)"
   ]
  },
  {
   "cell_type": "code",
   "execution_count": 28,
   "metadata": {},
   "outputs": [
    {
     "data": {
      "image/png": "[encoded data removed]",
      "text/plain": [
       "plot without title"
      ]
     },
     "metadata": {},
     "output_type": "display_data"
    }
   ],
   "source": [
    "plot(x, y)\n",
    "abline(-1, 0.5, col = \"blue\")"
   ]
  },
  {
   "cell_type": "markdown",
   "metadata": {},
   "source": [
    "## 2. Partitioning our data set into training and testing data sets"
   ]
  },
  {
   "cell_type": "code",
   "execution_count": 79,
   "metadata": {},
   "outputs": [
    {
     "data": {
      "text/html": [
       "<table>\n",
       "<thead><tr><th scope=col>x</th><th scope=col>y</th></tr></thead>\n",
       "<tbody>\n",
       "\t<tr><td> 0.26960598</td><td>-0.1541401 </td></tr>\n",
       "\t<tr><td>-0.62998541</td><td>-1.6942154 </td></tr>\n",
       "\t<tr><td> 0.86865983</td><td>-0.5933415 </td></tr>\n",
       "\t<tr><td> 1.72719552</td><td>-0.3766316 </td></tr>\n",
       "\t<tr><td> 0.02418764</td><td>-1.4481644 </td></tr>\n",
       "\t<tr><td> 0.36802518</td><td>-1.1398018 </td></tr>\n",
       "</tbody>\n",
       "</table>\n"
      ],
      "text/latex": [
       "\\begin{tabular}{r|ll}\n",
       " x & y\\\\\n",
       "\\hline\n",
       "\t  0.26960598 & -0.1541401 \\\\\n",
       "\t -0.62998541 & -1.6942154 \\\\\n",
       "\t  0.86865983 & -0.5933415 \\\\\n",
       "\t  1.72719552 & -0.3766316 \\\\\n",
       "\t  0.02418764 & -1.4481644 \\\\\n",
       "\t  0.36802518 & -1.1398018 \\\\\n",
       "\\end{tabular}\n"
      ],
      "text/markdown": [
       "\n",
       "x | y | \n",
       "|---|---|---|---|---|---|\n",
       "|  0.26960598 | -0.1541401  | \n",
       "| -0.62998541 | -1.6942154  | \n",
       "|  0.86865983 | -0.5933415  | \n",
       "|  1.72719552 | -0.3766316  | \n",
       "|  0.02418764 | -1.4481644  | \n",
       "|  0.36802518 | -1.1398018  | \n",
       "\n",
       "\n"
      ],
      "text/plain": [
       "  x           y         \n",
       "1  0.26960598 -0.1541401\n",
       "2 -0.62998541 -1.6942154\n",
       "3  0.86865983 -0.5933415\n",
       "4  1.72719552 -0.3766316\n",
       "5  0.02418764 -1.4481644\n",
       "6  0.36802518 -1.1398018"
      ]
     },
     "metadata": {},
     "output_type": "display_data"
    },
    {
     "data": {
      "text/html": [
       "<table>\n",
       "<thead><tr><th scope=col>x</th><th scope=col>y</th></tr></thead>\n",
       "<tbody>\n",
       "\t<tr><td> 0.26960598</td><td>-0.1541401 </td></tr>\n",
       "\t<tr><td>-0.62998541</td><td>-1.6942154 </td></tr>\n",
       "\t<tr><td> 0.86865983</td><td>-0.5933415 </td></tr>\n",
       "\t<tr><td> 1.72719552</td><td>-0.3766316 </td></tr>\n",
       "\t<tr><td> 0.02418764</td><td>-1.4481644 </td></tr>\n",
       "\t<tr><td> 0.36802518</td><td>-1.1398018 </td></tr>\n",
       "</tbody>\n",
       "</table>\n"
      ],
      "text/latex": [
       "\\begin{tabular}{r|ll}\n",
       " x & y\\\\\n",
       "\\hline\n",
       "\t  0.26960598 & -0.1541401 \\\\\n",
       "\t -0.62998541 & -1.6942154 \\\\\n",
       "\t  0.86865983 & -0.5933415 \\\\\n",
       "\t  1.72719552 & -0.3766316 \\\\\n",
       "\t  0.02418764 & -1.4481644 \\\\\n",
       "\t  0.36802518 & -1.1398018 \\\\\n",
       "\\end{tabular}\n"
      ],
      "text/markdown": [
       "\n",
       "x | y | \n",
       "|---|---|---|---|---|---|\n",
       "|  0.26960598 | -0.1541401  | \n",
       "| -0.62998541 | -1.6942154  | \n",
       "|  0.86865983 | -0.5933415  | \n",
       "|  1.72719552 | -0.3766316  | \n",
       "|  0.02418764 | -1.4481644  | \n",
       "|  0.36802518 | -1.1398018  | \n",
       "\n",
       "\n"
      ],
      "text/plain": [
       "  x           y         \n",
       "1  0.26960598 -0.1541401\n",
       "2 -0.62998541 -1.6942154\n",
       "3  0.86865983 -0.5933415\n",
       "4  1.72719552 -0.3766316\n",
       "5  0.02418764 -1.4481644\n",
       "6  0.36802518 -1.1398018"
      ]
     },
     "metadata": {},
     "output_type": "display_data"
    },
    {
     "data": {
      "text/html": [
       "<table>\n",
       "<thead><tr><th></th><th scope=col>x</th><th scope=col>y</th></tr></thead>\n",
       "<tbody>\n",
       "\t<tr><th scope=row>151</th><td> 0.5251149</td><td>-0.7884476</td></tr>\n",
       "\t<tr><th scope=row>152</th><td>-0.5433253</td><td>-1.4945594</td></tr>\n",
       "\t<tr><th scope=row>153</th><td>-1.7170191</td><td>-1.6678436</td></tr>\n",
       "\t<tr><th scope=row>154</th><td> 1.0301166</td><td>-0.3709576</td></tr>\n",
       "\t<tr><th scope=row>155</th><td>-1.1471188</td><td>-1.2086931</td></tr>\n",
       "\t<tr><th scope=row>156</th><td>-0.2661295</td><td>-0.1028108</td></tr>\n",
       "</tbody>\n",
       "</table>\n"
      ],
      "text/latex": [
       "\\begin{tabular}{r|ll}\n",
       "  & x & y\\\\\n",
       "\\hline\n",
       "\t151 &  0.5251149 & -0.7884476\\\\\n",
       "\t152 & -0.5433253 & -1.4945594\\\\\n",
       "\t153 & -1.7170191 & -1.6678436\\\\\n",
       "\t154 &  1.0301166 & -0.3709576\\\\\n",
       "\t155 & -1.1471188 & -1.2086931\\\\\n",
       "\t156 & -0.2661295 & -0.1028108\\\\\n",
       "\\end{tabular}\n"
      ],
      "text/markdown": [
       "\n",
       "| <!--/--> | x | y | \n",
       "|---|---|---|---|---|---|\n",
       "| 151 |  0.5251149 | -0.7884476 | \n",
       "| 152 | -0.5433253 | -1.4945594 | \n",
       "| 153 | -1.7170191 | -1.6678436 | \n",
       "| 154 |  1.0301166 | -0.3709576 | \n",
       "| 155 | -1.1471188 | -1.2086931 | \n",
       "| 156 | -0.2661295 | -0.1028108 | \n",
       "\n",
       "\n"
      ],
      "text/plain": [
       "    x          y         \n",
       "151  0.5251149 -0.7884476\n",
       "152 -0.5433253 -1.4945594\n",
       "153 -1.7170191 -1.6678436\n",
       "154  1.0301166 -0.3709576\n",
       "155 -1.1471188 -1.2086931\n",
       "156 -0.2661295 -0.1028108"
      ]
     },
     "metadata": {},
     "output_type": "display_data"
    }
   ],
   "source": [
    "#Create Data Frame\n",
    "simulated_data <- data.frame(x = x, y = y)\n",
    "head(simulated_data)\n",
    "\n",
    "#Divide data into training, testing, and evaluating\n",
    "train <- simulated_data[(1:150),]\n",
    "head(train)\n",
    "\n",
    "test <- simulated_data[(151:200),]\n",
    "head(test)"
   ]
  },
  {
   "cell_type": "markdown",
   "metadata": {},
   "source": [
    "## 3. Fit linear regression model to our data set "
   ]
  },
  {
   "cell_type": "code",
   "execution_count": 80,
   "metadata": {},
   "outputs": [
    {
     "data": {
      "text/plain": [
       "\n",
       "Call:\n",
       "lm(formula = train$y ~ train$x)\n",
       "\n",
       "Residuals:\n",
       "     Min       1Q   Median       3Q      Max \n",
       "-1.51063 -0.29665 -0.03857  0.36544  1.09840 \n",
       "\n",
       "Coefficients:\n",
       "            Estimate Std. Error t value Pr(>|t|)    \n",
       "(Intercept) -1.02669    0.03920  -26.19   <2e-16 ***\n",
       "train$x      0.47546    0.03972   11.97   <2e-16 ***\n",
       "---\n",
       "Signif. codes:  0 '***' 0.001 '**' 0.01 '*' 0.05 '.' 0.1 ' ' 1\n",
       "\n",
       "Residual standard error: 0.4796 on 148 degrees of freedom\n",
       "Multiple R-squared:  0.4919,\tAdjusted R-squared:  0.4885 \n",
       "F-statistic: 143.3 on 1 and 148 DF,  p-value: < 2.2e-16\n"
      ]
     },
     "metadata": {},
     "output_type": "display_data"
    }
   ],
   "source": [
    "train_least_squares_fit <- lm(train$y ~ train$x)\n",
    "summary(train_least_squares_fit)"
   ]
  },
  {
   "cell_type": "code",
   "execution_count": 81,
   "metadata": {},
   "outputs": [
    {
     "data": {
      "image/png": "[encoded data removed]",
      "text/plain": [
       "plot without title"
      ]
     },
     "metadata": {},
     "output_type": "display_data"
    }
   ],
   "source": [
    "plot(train$x, train$y)\n",
    "abline(-1, 0.5, col = \"blue\")\n",
    "abline(train_least_squares_fit, col = \"red\")\n",
    "legend(\"topleft\", c(\"Least Square\", \"Regression\"), \n",
    "        col = c(\"red\", \"blue\"), lty = c(1,1))"
   ]
  },
  {
   "cell_type": "markdown",
   "metadata": {},
   "source": [
    "## 4. Test polynominal fit on our data"
   ]
  },
  {
   "cell_type": "code",
   "execution_count": 82,
   "metadata": {},
   "outputs": [
    {
     "data": {
      "text/plain": [
       "\n",
       "Call:\n",
       "lm(formula = train$y ~ train$x + I(train$x^2))\n",
       "\n",
       "Residuals:\n",
       "    Min      1Q  Median      3Q     Max \n",
       "-1.5066 -0.2961 -0.0231  0.2988  0.9684 \n",
       "\n",
       "Coefficients:\n",
       "             Estimate Std. Error t value Pr(>|t|)    \n",
       "(Intercept)  -1.13459    0.04791 -23.683  < 2e-16 ***\n",
       "train$x       0.45540    0.03856  11.810  < 2e-16 ***\n",
       "I(train$x^2)  0.10983    0.03013   3.645  0.00037 ***\n",
       "---\n",
       "Signif. codes:  0 '***' 0.001 '**' 0.01 '*' 0.05 '.' 0.1 ' ' 1\n",
       "\n",
       "Residual standard error: 0.4609 on 147 degrees of freedom\n",
       "Multiple R-squared:  0.534,\tAdjusted R-squared:  0.5277 \n",
       "F-statistic: 84.24 on 2 and 147 DF,  p-value: < 2.2e-16\n"
      ]
     },
     "metadata": {},
     "output_type": "display_data"
    }
   ],
   "source": [
    "poly_fit <- lm(train$y ~ train$x + I(train$x^2))\n",
    "summary(poly_fit)"
   ]
  },
  {
   "cell_type": "markdown",
   "metadata": {},
   "source": [
    "## 5. Assess our least square approach on testing data set"
   ]
  },
  {
   "cell_type": "code",
   "execution_count": 83,
   "metadata": {},
   "outputs": [
    {
     "name": "stderr",
     "output_type": "stream",
     "text": [
      "Warning message:\n",
      "\"'newdata' had 50 rows but variables found have 150 rows\""
     ]
    },
    {
     "data": {
      "text/html": [
       "<dl class=dl-horizontal>\n",
       "\t<dt>1</dt>\n",
       "\t\t<dd>-0.898504975474042</dd>\n",
       "\t<dt>2</dt>\n",
       "\t\t<dd>-1.32622673257144</dd>\n",
       "\t<dt>3</dt>\n",
       "\t\t<dd>-0.613677480947388</dd>\n",
       "\t<dt>4</dt>\n",
       "\t\t<dd>-0.205476162849654</dd>\n",
       "\t<dt>5</dt>\n",
       "\t\t<dd>-1.0151921338683</dd>\n",
       "\t<dt>6</dt>\n",
       "\t\t<dd>-0.851710362740037</dd>\n",
       "</dl>\n"
      ],
      "text/latex": [
       "\\begin{description*}\n",
       "\\item[1] -0.898504975474042\n",
       "\\item[2] -1.32622673257144\n",
       "\\item[3] -0.613677480947388\n",
       "\\item[4] -0.205476162849654\n",
       "\\item[5] -1.0151921338683\n",
       "\\item[6] -0.851710362740037\n",
       "\\end{description*}\n"
      ],
      "text/markdown": [
       "1\n",
       ":   -0.8985049754740422\n",
       ":   -1.326226732571443\n",
       ":   -0.6136774809473884\n",
       ":   -0.2054761628496545\n",
       ":   -1.01519213386836\n",
       ":   -0.851710362740037\n",
       "\n"
      ],
      "text/plain": [
       "         1          2          3          4          5          6 \n",
       "-0.8985050 -1.3262267 -0.6136775 -0.2054762 -1.0151921 -0.8517104 "
      ]
     },
     "metadata": {},
     "output_type": "display_data"
    },
    {
     "data": {
      "text/html": [
       "0.226992164124657"
      ],
      "text/latex": [
       "0.226992164124657"
      ],
      "text/markdown": [
       "0.226992164124657"
      ],
      "text/plain": [
       "[1] 0.2269922"
      ]
     },
     "metadata": {},
     "output_type": "display_data"
    },
    {
     "data": {
      "text/html": [
       "0.625853468231889"
      ],
      "text/latex": [
       "0.625853468231889"
      ],
      "text/markdown": [
       "0.625853468231889"
      ],
      "text/plain": [
       "[1] 0.6258535"
      ]
     },
     "metadata": {},
     "output_type": "display_data"
    }
   ],
   "source": [
    "#Predict value of y in testing data set\n",
    "predict_test <- predict(train_least_squares_fit, test)\n",
    "predict_train <- predict(train_least_squares_fit, train)\n",
    "head(predict_test)\n",
    "\n",
    "error_train <- predict_train - train[[\"y\"]]\n",
    "error_test <- predict_test - test[[\"y\"]]\n",
    "\n",
    "MSE_train <- mean(error_train**2)\n",
    "MSE_test <- mean(error_test**2)\n",
    "\n",
    "MSE_train\n",
    "MSE_test"
   ]
  },
  {
   "cell_type": "markdown",
   "metadata": {},
   "source": [
    "## 6. Repeat the process with less noise in the data"
   ]
  },
  {
   "cell_type": "code",
   "execution_count": 96,
   "metadata": {},
   "outputs": [
    {
     "data": {
      "text/html": [
       "<table>\n",
       "<thead><tr><th scope=col>x1</th><th scope=col>y1</th></tr></thead>\n",
       "<tbody>\n",
       "\t<tr><td> 1.42211379</td><td>-0.2080613 </td></tr>\n",
       "\t<tr><td>-0.75844539</td><td>-1.5682183 </td></tr>\n",
       "\t<tr><td>-0.05534291</td><td>-0.7670735 </td></tr>\n",
       "\t<tr><td>-0.48045868</td><td>-0.7220707 </td></tr>\n",
       "\t<tr><td>-0.92051652</td><td>-1.4530020 </td></tr>\n",
       "\t<tr><td>-0.64762874</td><td>-1.2134068 </td></tr>\n",
       "</tbody>\n",
       "</table>\n"
      ],
      "text/latex": [
       "\\begin{tabular}{r|ll}\n",
       " x1 & y1\\\\\n",
       "\\hline\n",
       "\t  1.42211379 & -0.2080613 \\\\\n",
       "\t -0.75844539 & -1.5682183 \\\\\n",
       "\t -0.05534291 & -0.7670735 \\\\\n",
       "\t -0.48045868 & -0.7220707 \\\\\n",
       "\t -0.92051652 & -1.4530020 \\\\\n",
       "\t -0.64762874 & -1.2134068 \\\\\n",
       "\\end{tabular}\n"
      ],
      "text/markdown": [
       "\n",
       "x1 | y1 | \n",
       "|---|---|---|---|---|---|\n",
       "|  1.42211379 | -0.2080613  | \n",
       "| -0.75844539 | -1.5682183  | \n",
       "| -0.05534291 | -0.7670735  | \n",
       "| -0.48045868 | -0.7220707  | \n",
       "| -0.92051652 | -1.4530020  | \n",
       "| -0.64762874 | -1.2134068  | \n",
       "\n",
       "\n"
      ],
      "text/plain": [
       "  x1          y1        \n",
       "1  1.42211379 -0.2080613\n",
       "2 -0.75844539 -1.5682183\n",
       "3 -0.05534291 -0.7670735\n",
       "4 -0.48045868 -0.7220707\n",
       "5 -0.92051652 -1.4530020\n",
       "6 -0.64762874 -1.2134068"
      ]
     },
     "metadata": {},
     "output_type": "display_data"
    },
    {
     "data": {
      "text/html": [
       "<table>\n",
       "<thead><tr><th scope=col>x1</th><th scope=col>y1</th></tr></thead>\n",
       "<tbody>\n",
       "\t<tr><td> 1.42211379</td><td>-0.2080613 </td></tr>\n",
       "\t<tr><td>-0.75844539</td><td>-1.5682183 </td></tr>\n",
       "\t<tr><td>-0.05534291</td><td>-0.7670735 </td></tr>\n",
       "\t<tr><td>-0.48045868</td><td>-0.7220707 </td></tr>\n",
       "\t<tr><td>-0.92051652</td><td>-1.4530020 </td></tr>\n",
       "\t<tr><td>-0.64762874</td><td>-1.2134068 </td></tr>\n",
       "</tbody>\n",
       "</table>\n"
      ],
      "text/latex": [
       "\\begin{tabular}{r|ll}\n",
       " x1 & y1\\\\\n",
       "\\hline\n",
       "\t  1.42211379 & -0.2080613 \\\\\n",
       "\t -0.75844539 & -1.5682183 \\\\\n",
       "\t -0.05534291 & -0.7670735 \\\\\n",
       "\t -0.48045868 & -0.7220707 \\\\\n",
       "\t -0.92051652 & -1.4530020 \\\\\n",
       "\t -0.64762874 & -1.2134068 \\\\\n",
       "\\end{tabular}\n"
      ],
      "text/markdown": [
       "\n",
       "x1 | y1 | \n",
       "|---|---|---|---|---|---|\n",
       "|  1.42211379 | -0.2080613  | \n",
       "| -0.75844539 | -1.5682183  | \n",
       "| -0.05534291 | -0.7670735  | \n",
       "| -0.48045868 | -0.7220707  | \n",
       "| -0.92051652 | -1.4530020  | \n",
       "| -0.64762874 | -1.2134068  | \n",
       "\n",
       "\n"
      ],
      "text/plain": [
       "  x1          y1        \n",
       "1  1.42211379 -0.2080613\n",
       "2 -0.75844539 -1.5682183\n",
       "3 -0.05534291 -0.7670735\n",
       "4 -0.48045868 -0.7220707\n",
       "5 -0.92051652 -1.4530020\n",
       "6 -0.64762874 -1.2134068"
      ]
     },
     "metadata": {},
     "output_type": "display_data"
    },
    {
     "data": {
      "text/html": [
       "<table>\n",
       "<thead><tr><th></th><th scope=col>x1</th><th scope=col>y1</th></tr></thead>\n",
       "<tbody>\n",
       "\t<tr><th scope=row>151</th><td>-0.1020102 </td><td>-0.89347062</td></tr>\n",
       "\t<tr><th scope=row>152</th><td>-0.4457936 </td><td>-1.38589438</td></tr>\n",
       "\t<tr><th scope=row>153</th><td> 0.3813319 </td><td>-1.32443976</td></tr>\n",
       "\t<tr><th scope=row>154</th><td> 0.2279681 </td><td>-0.57698094</td></tr>\n",
       "\t<tr><th scope=row>155</th><td> 0.7297326 </td><td>-0.97926937</td></tr>\n",
       "\t<tr><th scope=row>156</th><td> 2.0605078 </td><td>-0.04958494</td></tr>\n",
       "</tbody>\n",
       "</table>\n"
      ],
      "text/latex": [
       "\\begin{tabular}{r|ll}\n",
       "  & x1 & y1\\\\\n",
       "\\hline\n",
       "\t151 & -0.1020102  & -0.89347062\\\\\n",
       "\t152 & -0.4457936  & -1.38589438\\\\\n",
       "\t153 &  0.3813319  & -1.32443976\\\\\n",
       "\t154 &  0.2279681  & -0.57698094\\\\\n",
       "\t155 &  0.7297326  & -0.97926937\\\\\n",
       "\t156 &  2.0605078  & -0.04958494\\\\\n",
       "\\end{tabular}\n"
      ],
      "text/markdown": [
       "\n",
       "| <!--/--> | x1 | y1 | \n",
       "|---|---|---|---|---|---|\n",
       "| 151 | -0.1020102  | -0.89347062 | \n",
       "| 152 | -0.4457936  | -1.38589438 | \n",
       "| 153 |  0.3813319  | -1.32443976 | \n",
       "| 154 |  0.2279681  | -0.57698094 | \n",
       "| 155 |  0.7297326  | -0.97926937 | \n",
       "| 156 |  2.0605078  | -0.04958494 | \n",
       "\n",
       "\n"
      ],
      "text/plain": [
       "    x1         y1         \n",
       "151 -0.1020102 -0.89347062\n",
       "152 -0.4457936 -1.38589438\n",
       "153  0.3813319 -1.32443976\n",
       "154  0.2279681 -0.57698094\n",
       "155  0.7297326 -0.97926937\n",
       "156  2.0605078 -0.04958494"
      ]
     },
     "metadata": {},
     "output_type": "display_data"
    },
    {
     "data": {
      "text/plain": [
       "\n",
       "Call:\n",
       "lm(formula = train1$y1 ~ train1$x1)\n",
       "\n",
       "Residuals:\n",
       "     Min       1Q   Median       3Q      Max \n",
       "-0.68082 -0.21065 -0.01992  0.20205  0.80845 \n",
       "\n",
       "Coefficients:\n",
       "            Estimate Std. Error t value Pr(>|t|)    \n",
       "(Intercept) -1.01425    0.02432  -41.71   <2e-16 ***\n",
       "train1$x1    0.48428    0.02545   19.03   <2e-16 ***\n",
       "---\n",
       "Signif. codes:  0 '***' 0.001 '**' 0.01 '*' 0.05 '.' 0.1 ' ' 1\n",
       "\n",
       "Residual standard error: 0.2974 on 148 degrees of freedom\n",
       "Multiple R-squared:  0.7098,\tAdjusted R-squared:  0.7079 \n",
       "F-statistic: 362.1 on 1 and 148 DF,  p-value: < 2.2e-16\n"
      ]
     },
     "metadata": {},
     "output_type": "display_data"
    },
    {
     "data": {
      "image/png": "[encoded data removed]",
      "text/plain": [
       "plot without title"
      ]
     },
     "metadata": {},
     "output_type": "display_data"
    }
   ],
   "source": [
    "set.seed(6)\n",
    "eps1 <- rnorm(200, sd = sqrt(0.09))\n",
    "x1 <- rnorm(200)\n",
    "y1 <- -1 + 0.5*x1 + eps1\n",
    "\n",
    "#Data Frame for Less Noise Data Set\n",
    "simulated_data1 <- data.frame(x1 = x1, y1 = y1)\n",
    "head(simulated_data1)\n",
    "\n",
    "#Divide data into training, testing, and evaluating\n",
    "train1 <- simulated_data1[(1:150),]\n",
    "head(train1)\n",
    "test1 <- simulated_data1[(151:200),]\n",
    "head(test1)\n",
    "\n",
    "#Fit Linear Regression Model with Least Square Approach \n",
    "train_least_squares_fit1 <- lm(train1$y1 ~ train1$x1)\n",
    "summary(train_least_squares_fit1)\n",
    "\n",
    "plot(train1$x1, train1$y1)\n",
    "abline(train_least_squares_fit1, col = \"red\")\n",
    "abline(-1, 0.5, col = \"blue\")\n",
    "legend(\"topleft\", c(\"Least Square\", \"Regression\"),\n",
    "        col = c(\"red\", \"blue\"), lty = c(1, 1))"
   ]
  },
  {
   "cell_type": "code",
   "execution_count": 97,
   "metadata": {},
   "outputs": [
    {
     "name": "stderr",
     "output_type": "stream",
     "text": [
      "Warning message:\n",
      "\"'newdata' had 50 rows but variables found have 150 rows\""
     ]
    },
    {
     "data": {
      "text/html": [
       "<dl class=dl-horizontal>\n",
       "\t<dt>1</dt>\n",
       "\t\t<dd>-0.325556050878424</dd>\n",
       "\t<dt>2</dt>\n",
       "\t\t<dd>-1.38155084422793</dd>\n",
       "\t<dt>3</dt>\n",
       "\t\t<dd>-1.04105444318759</dd>\n",
       "\t<dt>4</dt>\n",
       "\t\t<dd>-1.24692825613701</dd>\n",
       "\t<dt>5</dt>\n",
       "\t\t<dd>-1.46003817738435</dd>\n",
       "\t<dt>6</dt>\n",
       "\t\t<dd>-1.32788488046242</dd>\n",
       "</dl>\n"
      ],
      "text/latex": [
       "\\begin{description*}\n",
       "\\item[1] -0.325556050878424\n",
       "\\item[2] -1.38155084422793\n",
       "\\item[3] -1.04105444318759\n",
       "\\item[4] -1.24692825613701\n",
       "\\item[5] -1.46003817738435\n",
       "\\item[6] -1.32788488046242\n",
       "\\end{description*}\n"
      ],
      "text/markdown": [
       "1\n",
       ":   -0.3255560508784242\n",
       ":   -1.381550844227933\n",
       ":   -1.041054443187594\n",
       ":   -1.246928256137015\n",
       ":   -1.460038177384356\n",
       ":   -1.32788488046242\n",
       "\n"
      ],
      "text/plain": [
       "         1          2          3          4          5          6 \n",
       "-0.3255561 -1.3815508 -1.0410544 -1.2469283 -1.4600382 -1.3278849 "
      ]
     },
     "metadata": {},
     "output_type": "display_data"
    },
    {
     "data": {
      "text/html": [
       "0.0872692476129275"
      ],
      "text/latex": [
       "0.0872692476129275"
      ],
      "text/markdown": [
       "0.0872692476129275"
      ],
      "text/plain": [
       "[1] 0.08726925"
      ]
     },
     "metadata": {},
     "output_type": "display_data"
    },
    {
     "data": {
      "text/html": [
       "0.612266386567694"
      ],
      "text/latex": [
       "0.612266386567694"
      ],
      "text/markdown": [
       "0.612266386567694"
      ],
      "text/plain": [
       "[1] 0.6122664"
      ]
     },
     "metadata": {},
     "output_type": "display_data"
    }
   ],
   "source": [
    "#Assess the model with testing data\n",
    "predict_test1 <- predict(train_least_squares_fit1, test1)\n",
    "predict_train1 <- predict(train_least_squares_fit1, train1)\n",
    "head(predict_test1)\n",
    "\n",
    "error_train1 <- predict_train1 - train1[[\"y1\"]]\n",
    "error_test1 <- predict_test1 - test1[[\"y1\"]]\n",
    "\n",
    "MSE_train1 <- mean(error_train1**2)\n",
    "MSE_test1 <- mean(error_test1**2)\n",
    "\n",
    "MSE_train1\n",
    "MSE_test1"
   ]
  },
  {
   "cell_type": "markdown",
   "metadata": {},
   "source": [
    "## 7. Repeat the process with more noise in the data "
   ]
  },
  {
   "cell_type": "code",
   "execution_count": 98,
   "metadata": {},
   "outputs": [
    {
     "data": {
      "text/html": [
       "<table>\n",
       "<thead><tr><th scope=col>x2</th><th scope=col>y2</th></tr></thead>\n",
       "<tbody>\n",
       "\t<tr><td> 1.42211379</td><td>-0.08899796</td></tr>\n",
       "\t<tr><td>-0.75844539</td><td>-1.84643238</td></tr>\n",
       "\t<tr><td>-0.05534291</td><td>-0.38345609</td></tr>\n",
       "\t<tr><td>-0.48045868</td><td> 0.04069314</td></tr>\n",
       "\t<tr><td>-0.92051652</td><td>-1.44232023</td></tr>\n",
       "\t<tr><td>-0.64762874</td><td>-1.05087959</td></tr>\n",
       "</tbody>\n",
       "</table>\n"
      ],
      "text/latex": [
       "\\begin{tabular}{r|ll}\n",
       " x2 & y2\\\\\n",
       "\\hline\n",
       "\t  1.42211379 & -0.08899796\\\\\n",
       "\t -0.75844539 & -1.84643238\\\\\n",
       "\t -0.05534291 & -0.38345609\\\\\n",
       "\t -0.48045868 &  0.04069314\\\\\n",
       "\t -0.92051652 & -1.44232023\\\\\n",
       "\t -0.64762874 & -1.05087959\\\\\n",
       "\\end{tabular}\n"
      ],
      "text/markdown": [
       "\n",
       "x2 | y2 | \n",
       "|---|---|---|---|---|---|\n",
       "|  1.42211379 | -0.08899796 | \n",
       "| -0.75844539 | -1.84643238 | \n",
       "| -0.05534291 | -0.38345609 | \n",
       "| -0.48045868 |  0.04069314 | \n",
       "| -0.92051652 | -1.44232023 | \n",
       "| -0.64762874 | -1.05087959 | \n",
       "\n",
       "\n"
      ],
      "text/plain": [
       "  x2          y2         \n",
       "1  1.42211379 -0.08899796\n",
       "2 -0.75844539 -1.84643238\n",
       "3 -0.05534291 -0.38345609\n",
       "4 -0.48045868  0.04069314\n",
       "5 -0.92051652 -1.44232023\n",
       "6 -0.64762874 -1.05087959"
      ]
     },
     "metadata": {},
     "output_type": "display_data"
    },
    {
     "data": {
      "text/html": [
       "<table>\n",
       "<thead><tr><th scope=col>x2</th><th scope=col>y2</th></tr></thead>\n",
       "<tbody>\n",
       "\t<tr><td> 1.42211379</td><td>-0.08899796</td></tr>\n",
       "\t<tr><td>-0.75844539</td><td>-1.84643238</td></tr>\n",
       "\t<tr><td>-0.05534291</td><td>-0.38345609</td></tr>\n",
       "\t<tr><td>-0.48045868</td><td> 0.04069314</td></tr>\n",
       "\t<tr><td>-0.92051652</td><td>-1.44232023</td></tr>\n",
       "\t<tr><td>-0.64762874</td><td>-1.05087959</td></tr>\n",
       "</tbody>\n",
       "</table>\n"
      ],
      "text/latex": [
       "\\begin{tabular}{r|ll}\n",
       " x2 & y2\\\\\n",
       "\\hline\n",
       "\t  1.42211379 & -0.08899796\\\\\n",
       "\t -0.75844539 & -1.84643238\\\\\n",
       "\t -0.05534291 & -0.38345609\\\\\n",
       "\t -0.48045868 &  0.04069314\\\\\n",
       "\t -0.92051652 & -1.44232023\\\\\n",
       "\t -0.64762874 & -1.05087959\\\\\n",
       "\\end{tabular}\n"
      ],
      "text/markdown": [
       "\n",
       "x2 | y2 | \n",
       "|---|---|---|---|---|---|\n",
       "|  1.42211379 | -0.08899796 | \n",
       "| -0.75844539 | -1.84643238 | \n",
       "| -0.05534291 | -0.38345609 | \n",
       "| -0.48045868 |  0.04069314 | \n",
       "| -0.92051652 | -1.44232023 | \n",
       "| -0.64762874 | -1.05087959 | \n",
       "\n",
       "\n"
      ],
      "text/plain": [
       "  x2          y2         \n",
       "1  1.42211379 -0.08899796\n",
       "2 -0.75844539 -1.84643238\n",
       "3 -0.05534291 -0.38345609\n",
       "4 -0.48045868  0.04069314\n",
       "5 -0.92051652 -1.44232023\n",
       "6 -0.64762874 -1.05087959"
      ]
     },
     "metadata": {},
     "output_type": "display_data"
    },
    {
     "data": {
      "text/html": [
       "<table>\n",
       "<thead><tr><th></th><th scope=col>x2</th><th scope=col>y2</th></tr></thead>\n",
       "<tbody>\n",
       "\t<tr><th scope=row>151</th><td>-0.1020102</td><td>-0.6615695</td></tr>\n",
       "\t<tr><th scope=row>152</th><td>-0.4457936</td><td>-1.6258376</td></tr>\n",
       "\t<tr><th scope=row>153</th><td> 0.3813319</td><td>-2.0827095</td></tr>\n",
       "\t<tr><th scope=row>154</th><td> 0.2279681</td><td>-0.1220610</td></tr>\n",
       "\t<tr><th scope=row>155</th><td> 0.7297326</td><td>-1.4858598</td></tr>\n",
       "\t<tr><th scope=row>156</th><td> 2.0605078</td><td>-0.1671130</td></tr>\n",
       "</tbody>\n",
       "</table>\n"
      ],
      "text/latex": [
       "\\begin{tabular}{r|ll}\n",
       "  & x2 & y2\\\\\n",
       "\\hline\n",
       "\t151 & -0.1020102 & -0.6615695\\\\\n",
       "\t152 & -0.4457936 & -1.6258376\\\\\n",
       "\t153 &  0.3813319 & -2.0827095\\\\\n",
       "\t154 &  0.2279681 & -0.1220610\\\\\n",
       "\t155 &  0.7297326 & -1.4858598\\\\\n",
       "\t156 &  2.0605078 & -0.1671130\\\\\n",
       "\\end{tabular}\n"
      ],
      "text/markdown": [
       "\n",
       "| <!--/--> | x2 | y2 | \n",
       "|---|---|---|---|---|---|\n",
       "| 151 | -0.1020102 | -0.6615695 | \n",
       "| 152 | -0.4457936 | -1.6258376 | \n",
       "| 153 |  0.3813319 | -2.0827095 | \n",
       "| 154 |  0.2279681 | -0.1220610 | \n",
       "| 155 |  0.7297326 | -1.4858598 | \n",
       "| 156 |  2.0605078 | -0.1671130 | \n",
       "\n",
       "\n"
      ],
      "text/plain": [
       "    x2         y2        \n",
       "151 -0.1020102 -0.6615695\n",
       "152 -0.4457936 -1.6258376\n",
       "153  0.3813319 -2.0827095\n",
       "154  0.2279681 -0.1220610\n",
       "155  0.7297326 -1.4858598\n",
       "156  2.0605078 -0.1671130"
      ]
     },
     "metadata": {},
     "output_type": "display_data"
    },
    {
     "data": {
      "text/plain": [
       "\n",
       "Call:\n",
       "lm(formula = train2$y2 ~ train2$x2)\n",
       "\n",
       "Residuals:\n",
       "     Min       1Q   Median       3Q      Max \n",
       "-1.68304 -0.52074 -0.04925  0.49947  1.99853 \n",
       "\n",
       "Coefficients:\n",
       "            Estimate Std. Error t value Pr(>|t|)    \n",
       "(Intercept) -1.03523    0.06012 -17.221  < 2e-16 ***\n",
       "train2$x2    0.46113    0.06292   7.329 1.39e-11 ***\n",
       "---\n",
       "Signif. codes:  0 '***' 0.001 '**' 0.01 '*' 0.05 '.' 0.1 ' ' 1\n",
       "\n",
       "Residual standard error: 0.7352 on 148 degrees of freedom\n",
       "Multiple R-squared:  0.2663,\tAdjusted R-squared:  0.2613 \n",
       "F-statistic: 53.72 on 1 and 148 DF,  p-value: 1.393e-11\n"
      ]
     },
     "metadata": {},
     "output_type": "display_data"
    },
    {
     "data": {
      "image/png": "[encoded data removed]",
      "text/plain": [
       "plot without title"
      ]
     },
     "metadata": {},
     "output_type": "display_data"
    }
   ],
   "source": [
    "set.seed(6)\n",
    "eps2 <- rnorm(200, sd = sqrt(0.55))\n",
    "x2 <- rnorm(200)\n",
    "y2 <- -1 + 0.5*x2 + eps2\n",
    "\n",
    "#Data Frame for Less Noise Data Set\n",
    "simulated_data2 <- data.frame(x2 = x2, y2 = y2)\n",
    "head(simulated_data2)\n",
    "\n",
    "#Divide data into training, testing, and evaluating\n",
    "train2 <- simulated_data2[(1:150),]\n",
    "head(train2)\n",
    "\n",
    "#Assess on testing data set\n",
    "test2 <- simulated_data2[(151:200),]\n",
    "head(test2)\n",
    "\n",
    "train_least_squares_fit2 <- lm(train2$y2 ~ train2$x2)\n",
    "summary(train_least_squares_fit2)\n",
    "\n",
    "plot(train2$x2, train2$y2)\n",
    "abline(-1, 0.5, col = \"blue\")\n",
    "abline(train_least_squares_fit2, col = \"red\")\n",
    "\n",
    "legend(\"topleft\", c(\"Least Square\", \"Regression\"),\n",
    "        col = c(\"red\", \"blue\"), lty = c(1, 1))"
   ]
  },
  {
   "cell_type": "code",
   "execution_count": 99,
   "metadata": {},
   "outputs": [
    {
     "name": "stderr",
     "output_type": "stream",
     "text": [
      "Warning message:\n",
      "\"'newdata' had 50 rows but variables found have 150 rows\""
     ]
    },
    {
     "data": {
      "text/html": [
       "<dl class=dl-horizontal>\n",
       "\t<dt>1</dt>\n",
       "\t\t<dd>-0.379452729945483</dd>\n",
       "\t<dt>2</dt>\n",
       "\t\t<dd>-1.3849780343766</dd>\n",
       "\t<dt>3</dt>\n",
       "\t\t<dd>-1.06075508415939</dd>\n",
       "\t<dt>4</dt>\n",
       "\t\t<dd>-1.25678950567745</dd>\n",
       "\t<dt>5</dt>\n",
       "\t\t<dd>-1.45971419790991</dd>\n",
       "\t<dt>6</dt>\n",
       "\t\t<dd>-1.33387694477583</dd>\n",
       "</dl>\n"
      ],
      "text/latex": [
       "\\begin{description*}\n",
       "\\item[1] -0.379452729945483\n",
       "\\item[2] -1.3849780343766\n",
       "\\item[3] -1.06075508415939\n",
       "\\item[4] -1.25678950567745\n",
       "\\item[5] -1.45971419790991\n",
       "\\item[6] -1.33387694477583\n",
       "\\end{description*}\n"
      ],
      "text/markdown": [
       "1\n",
       ":   -0.3794527299454832\n",
       ":   -1.38497803437663\n",
       ":   -1.060755084159394\n",
       ":   -1.256789505677455\n",
       ":   -1.459714197909916\n",
       ":   -1.33387694477583\n",
       "\n"
      ],
      "text/plain": [
       "         1          2          3          4          5          6 \n",
       "-0.3794527 -1.3849780 -1.0607551 -1.2567895 -1.4597142 -1.3338769 "
      ]
     },
     "metadata": {},
     "output_type": "display_data"
    },
    {
     "data": {
      "text/html": [
       "0.533312068745668"
      ],
      "text/latex": [
       "0.533312068745668"
      ],
      "text/markdown": [
       "0.533312068745668"
      ],
      "text/plain": [
       "[1] 0.5333121"
      ]
     },
     "metadata": {},
     "output_type": "display_data"
    },
    {
     "data": {
      "text/html": [
       "0.994873146652351"
      ],
      "text/latex": [
       "0.994873146652351"
      ],
      "text/markdown": [
       "0.994873146652351"
      ],
      "text/plain": [
       "[1] 0.9948731"
      ]
     },
     "metadata": {},
     "output_type": "display_data"
    }
   ],
   "source": [
    "#Assess the model with testing data\n",
    "predict_test2 <- predict(train_least_squares_fit2, test2)\n",
    "predict_train2 <- predict(train_least_squares_fit2, train2)\n",
    "head(predict_test2)\n",
    "\n",
    "error_train2 <- predict_train2 - train2[[\"y2\"]]\n",
    "error_test2 <- predict_test2 - test2[[\"y2\"]]\n",
    "\n",
    "MSE_train2 <- mean(error_train2**2)\n",
    "MSE_test2 <- mean(error_test2**2)\n",
    "\n",
    "MSE_train2\n",
    "MSE_test2"
   ]
  },
  {
   "cell_type": "markdown",
   "metadata": {},
   "source": [
    "## 8. Confidence Intervals for the coefficients 3 data sets "
   ]
  },
  {
   "cell_type": "code",
   "execution_count": 100,
   "metadata": {},
   "outputs": [
    {
     "data": {
      "text/html": [
       "<table>\n",
       "<thead><tr><th></th><th scope=col>2.5 %</th><th scope=col>97.5 %</th></tr></thead>\n",
       "<tbody>\n",
       "\t<tr><th scope=row>(Intercept)</th><td>-1.1041630</td><td>-0.9492219</td></tr>\n",
       "\t<tr><th scope=row>train$x</th><td> 0.3969713</td><td> 0.5539533</td></tr>\n",
       "</tbody>\n",
       "</table>\n"
      ],
      "text/latex": [
       "\\begin{tabular}{r|ll}\n",
       "  & 2.5 \\% & 97.5 \\%\\\\\n",
       "\\hline\n",
       "\t(Intercept) & -1.1041630 & -0.9492219\\\\\n",
       "\ttrain\\$x &  0.3969713 &  0.5539533\\\\\n",
       "\\end{tabular}\n"
      ],
      "text/markdown": [
       "\n",
       "| <!--/--> | 2.5 % | 97.5 % | \n",
       "|---|---|\n",
       "| (Intercept) | -1.1041630 | -0.9492219 | \n",
       "| train$x |  0.3969713 |  0.5539533 | \n",
       "\n",
       "\n"
      ],
      "text/plain": [
       "            2.5 %      97.5 %    \n",
       "(Intercept) -1.1041630 -0.9492219\n",
       "train$x      0.3969713  0.5539533"
      ]
     },
     "metadata": {},
     "output_type": "display_data"
    }
   ],
   "source": [
    "confint(train_least_squares_fit)"
   ]
  },
  {
   "cell_type": "code",
   "execution_count": 101,
   "metadata": {},
   "outputs": [
    {
     "data": {
      "text/html": [
       "<table>\n",
       "<thead><tr><th></th><th scope=col>2.5 %</th><th scope=col>97.5 %</th></tr></thead>\n",
       "<tbody>\n",
       "\t<tr><th scope=row>(Intercept)</th><td>-1.0623080</td><td>-0.9661982</td></tr>\n",
       "\t<tr><th scope=row>train1$x1</th><td> 0.4339827</td><td> 0.5345714</td></tr>\n",
       "</tbody>\n",
       "</table>\n"
      ],
      "text/latex": [
       "\\begin{tabular}{r|ll}\n",
       "  & 2.5 \\% & 97.5 \\%\\\\\n",
       "\\hline\n",
       "\t(Intercept) & -1.0623080 & -0.9661982\\\\\n",
       "\ttrain1\\$x1 &  0.4339827 &  0.5345714\\\\\n",
       "\\end{tabular}\n"
      ],
      "text/markdown": [
       "\n",
       "| <!--/--> | 2.5 % | 97.5 % | \n",
       "|---|---|\n",
       "| (Intercept) | -1.0623080 | -0.9661982 | \n",
       "| train1$x1 |  0.4339827 |  0.5345714 | \n",
       "\n",
       "\n"
      ],
      "text/plain": [
       "            2.5 %      97.5 %    \n",
       "(Intercept) -1.0623080 -0.9661982\n",
       "train1$x1    0.4339827  0.5345714"
      ]
     },
     "metadata": {},
     "output_type": "display_data"
    }
   ],
   "source": [
    "confint(train_least_squares_fit1)"
   ]
  },
  {
   "cell_type": "code",
   "execution_count": 102,
   "metadata": {},
   "outputs": [
    {
     "data": {
      "text/html": [
       "<table>\n",
       "<thead><tr><th></th><th scope=col>2.5 %</th><th scope=col>97.5 %</th></tr></thead>\n",
       "<tbody>\n",
       "\t<tr><th scope=row>(Intercept)</th><td>-1.154030 </td><td>-0.9164398</td></tr>\n",
       "\t<tr><th scope=row>train2$x2</th><td> 0.336801 </td><td> 0.5854627</td></tr>\n",
       "</tbody>\n",
       "</table>\n"
      ],
      "text/latex": [
       "\\begin{tabular}{r|ll}\n",
       "  & 2.5 \\% & 97.5 \\%\\\\\n",
       "\\hline\n",
       "\t(Intercept) & -1.154030  & -0.9164398\\\\\n",
       "\ttrain2\\$x2 &  0.336801  &  0.5854627\\\\\n",
       "\\end{tabular}\n"
      ],
      "text/markdown": [
       "\n",
       "| <!--/--> | 2.5 % | 97.5 % | \n",
       "|---|---|\n",
       "| (Intercept) | -1.154030  | -0.9164398 | \n",
       "| train2$x2 |  0.336801  |  0.5854627 | \n",
       "\n",
       "\n"
      ],
      "text/plain": [
       "            2.5 %     97.5 %    \n",
       "(Intercept) -1.154030 -0.9164398\n",
       "train2$x2    0.336801  0.5854627"
      ]
     },
     "metadata": {},
     "output_type": "display_data"
    }
   ],
   "source": [
    "confint(train_least_squares_fit2)"
   ]
  },
  {
   "cell_type": "code",
   "execution_count": null,
   "metadata": {},
   "outputs": [],
   "source": []
  }
 ],
 "metadata": {
  "kernelspec": {
   "display_name": "R",
   "language": "R",
   "name": "ir"
  },
  "language_info": {
   "codemirror_mode": "r",
   "file_extension": ".r",
   "mimetype": "text/x-r-source",
   "name": "R",
   "pygments_lexer": "r",
   "version": "3.4.2"
  }
 },
 "nbformat": 4,
 "nbformat_minor": 2
}
