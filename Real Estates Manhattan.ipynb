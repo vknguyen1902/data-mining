{
 "cells": [
  {
   "cell_type": "markdown",
   "metadata": {},
   "source": [
    "# NYC Rolling Sales Data\n",
    "Exploring and Analyzing Property Rolling Sales in New York City\n",
    "\n",
    "- Link: https://www1.nyc.gov/site/finance/taxes/property-rolling-sales-data.page\n",
    "- Glossary: https://www1.nyc.gov/assets/finance/downloads/pdf/07pdf/glossary_rsf071607.pdf"
   ]
  },
  {
   "cell_type": "markdown",
   "metadata": {},
   "source": [
    "### A. Importing and Cleaning Data\n",
    "1. **Directories & Import**: Set directories, install package for importing excel, and import our data\n",
    "2. **Extract Actual Data**: Remove titles rows, set the first row to be column names, and remove column name row from the data frame\n",
    "3. **Variables & Data Types**: Import packages for data cleaning: dplyr, tidyr, and ggplot2. Rename variable names and convert variables to appropriate data types\n",
    "4. **Transfer of Property**: Extract observations for transfer of property where sale price is zero\n",
    "5. **Non-Transfer Properties**: Remove unreasonable observations to get the final clean_sales"
   ]
  },
  {
   "cell_type": "markdown",
   "metadata": {},
   "source": [
    "#### A-1. Directories & Import"
   ]
  },
  {
   "cell_type": "code",
   "execution_count": 20,
   "metadata": {},
   "outputs": [
    {
     "data": {
      "text/html": [
       "'D:/2018 Fall Baruch/CIS 3920 Data Mining'"
      ],
      "text/latex": [
       "'D:/2018 Fall Baruch/CIS 3920 Data Mining'"
      ],
      "text/markdown": [
       "'D:/2018 Fall Baruch/CIS 3920 Data Mining'"
      ],
      "text/plain": [
       "[1] \"D:/2018 Fall Baruch/CIS 3920 Data Mining\""
      ]
     },
     "metadata": {},
     "output_type": "display_data"
    },
    {
     "name": "stderr",
     "output_type": "stream",
     "text": [
      "Installing package into 'C:/Users/khanhdi/Documents/R/win-library/3.4'\n",
      "(as 'lib' is unspecified)\n",
      "Warning message:\n",
      "\"package 'readxl' is in use and will not be installed\""
     ]
    }
   ],
   "source": [
    "#Set Directories\n",
    "setwd(\"D:/2018 Fall Baruch/CIS 3920 Data Mining\")\n",
    "getwd()\n",
    "\n",
    "#Install readxl package\n",
    "install.packages(\"readxl\", repos = \"http://cran.us.r-project.org\")"
   ]
  },
  {
   "cell_type": "code",
   "execution_count": 38,
   "metadata": {},
   "outputs": [],
   "source": [
    "#Import package and data file\n",
    "library(readxl)\n",
    "rolling <- read_excel(\"rollingsales_manhattan.xls\", col_names = FALSE)"
   ]
  },
  {
   "cell_type": "code",
   "execution_count": 39,
   "metadata": {},
   "outputs": [
    {
     "data": {
      "text/html": [
       "<table>\n",
       "<thead><tr><th scope=col>BOROUGH</th><th scope=col>NEIGHBORHOOD</th><th scope=col>BUILDING CLASS CATEGORY</th><th scope=col>TAX CLASS AT PRESENT</th><th scope=col>BLOCK</th><th scope=col>LOT</th><th scope=col>EASE-MENT</th><th scope=col>BUILDING CLASS AT PRESENT</th><th scope=col>ADDRESS</th><th scope=col>APARTMENT NUMBER</th><th scope=col>...</th><th scope=col>RESIDENTIAL UNITS</th><th scope=col>COMMERCIAL UNITS</th><th scope=col>TOTAL UNITS</th><th scope=col>LAND SQUARE FEET</th><th scope=col>GROSS SQUARE FEET</th><th scope=col>YEAR BUILT</th><th scope=col>TAX CLASS AT TIME OF SALE</th><th scope=col>BUILDING CLASS AT TIME OF SALE</th><th scope=col>SALE PRICE</th><th scope=col>SALE DATE</th></tr></thead>\n",
       "<tbody>\n",
       "\t<tr><td>1                             </td><td>ALPHABET CITY                 </td><td>01 ONE FAMILY DWELLINGS       </td><td>1                             </td><td>390                           </td><td>61                            </td><td>NA                            </td><td>A4                            </td><td>189 EAST 7TH STREET           </td><td>NA                            </td><td>...                           </td><td>1                             </td><td>0                             </td><td>1                             </td><td>987                           </td><td>2183                          </td><td>1860                          </td><td>1                             </td><td>A4                            </td><td>4844809                       </td><td>43242                         </td></tr>\n",
       "\t<tr><td>1                             </td><td>ALPHABET CITY                 </td><td>01 ONE FAMILY DWELLINGS       </td><td>1                             </td><td>390                           </td><td>61                            </td><td>NA                            </td><td>A4                            </td><td>189 EAST 7TH STREET           </td><td>NA                            </td><td>...                           </td><td>1                             </td><td>0                             </td><td>1                             </td><td>987                           </td><td>2183                          </td><td>1860                          </td><td>1                             </td><td>A4                            </td><td>0                             </td><td>43243                         </td></tr>\n",
       "\t<tr><td>1                             </td><td>ALPHABET CITY                 </td><td>02 TWO FAMILY DWELLINGS       </td><td>1                             </td><td>390                           </td><td>35                            </td><td>NA                            </td><td>B1                            </td><td>113 AVENUE C                  </td><td>NA                            </td><td>...                           </td><td>2                             </td><td>0                             </td><td>2                             </td><td>1218                          </td><td>4764                          </td><td>1899                          </td><td>1                             </td><td>B1                            </td><td>0                             </td><td>43215                         </td></tr>\n",
       "\t<tr><td>1                             </td><td>ALPHABET CITY                 </td><td>07 RENTALS - WALKUP APARTMENTS</td><td>2                             </td><td>385                           </td><td>2                             </td><td>NA                            </td><td>C7                            </td><td>21-23 AVENUE B                </td><td>NA                            </td><td>...                           </td><td>12                            </td><td>4                             </td><td>16                            </td><td>4186                          </td><td>10588                         </td><td>1900                          </td><td>2                             </td><td>C7                            </td><td>10350000                      </td><td>43350                         </td></tr>\n",
       "\t<tr><td>1                             </td><td>ALPHABET CITY                 </td><td>07 RENTALS - WALKUP APARTMENTS</td><td>2                             </td><td>389                           </td><td>18                            </td><td>NA                            </td><td>C1                            </td><td>200 EAST 7TH STREET           </td><td>NA                            </td><td>...                           </td><td>18                            </td><td>0                             </td><td>18                            </td><td>2271                          </td><td>10650                         </td><td>1910                          </td><td>2                             </td><td>C1                            </td><td>5000000                       </td><td>43348                         </td></tr>\n",
       "</tbody>\n",
       "</table>\n"
      ],
      "text/latex": [
       "\\begin{tabular}{r|lllllllllllllllllllll}\n",
       " BOROUGH & NEIGHBORHOOD & BUILDING CLASS CATEGORY & TAX CLASS AT PRESENT & BLOCK & LOT & EASE-MENT & BUILDING CLASS AT PRESENT & ADDRESS & APARTMENT NUMBER & ... & RESIDENTIAL UNITS & COMMERCIAL UNITS & TOTAL UNITS & LAND SQUARE FEET & GROSS SQUARE FEET & YEAR BUILT & TAX CLASS AT TIME OF SALE & BUILDING CLASS AT TIME OF SALE & SALE PRICE & SALE DATE\\\\\n",
       "\\hline\n",
       "\t 1                              & ALPHABET CITY                  & 01 ONE FAMILY DWELLINGS        & 1                              & 390                            & 61                             & NA                             & A4                             & 189 EAST 7TH STREET            & NA                             & ...                            & 1                              & 0                              & 1                              & 987                            & 2183                           & 1860                           & 1                              & A4                             & 4844809                        & 43242                         \\\\\n",
       "\t 1                              & ALPHABET CITY                  & 01 ONE FAMILY DWELLINGS        & 1                              & 390                            & 61                             & NA                             & A4                             & 189 EAST 7TH STREET            & NA                             & ...                            & 1                              & 0                              & 1                              & 987                            & 2183                           & 1860                           & 1                              & A4                             & 0                              & 43243                         \\\\\n",
       "\t 1                              & ALPHABET CITY                  & 02 TWO FAMILY DWELLINGS        & 1                              & 390                            & 35                             & NA                             & B1                             & 113 AVENUE C                   & NA                             & ...                            & 2                              & 0                              & 2                              & 1218                           & 4764                           & 1899                           & 1                              & B1                             & 0                              & 43215                         \\\\\n",
       "\t 1                              & ALPHABET CITY                  & 07 RENTALS - WALKUP APARTMENTS & 2                              & 385                            & 2                              & NA                             & C7                             & 21-23 AVENUE B                 & NA                             & ...                            & 12                             & 4                              & 16                             & 4186                           & 10588                          & 1900                           & 2                              & C7                             & 10350000                       & 43350                         \\\\\n",
       "\t 1                              & ALPHABET CITY                  & 07 RENTALS - WALKUP APARTMENTS & 2                              & 389                            & 18                             & NA                             & C1                             & 200 EAST 7TH STREET            & NA                             & ...                            & 18                             & 0                              & 18                             & 2271                           & 10650                          & 1910                           & 2                              & C1                             & 5000000                        & 43348                         \\\\\n",
       "\\end{tabular}\n"
      ],
      "text/markdown": [
       "\n",
       "BOROUGH | NEIGHBORHOOD | BUILDING CLASS CATEGORY | TAX CLASS AT PRESENT | BLOCK | LOT | EASE-MENT | BUILDING CLASS AT PRESENT | ADDRESS | APARTMENT NUMBER | ... | RESIDENTIAL UNITS | COMMERCIAL UNITS | TOTAL UNITS | LAND SQUARE FEET | GROSS SQUARE FEET | YEAR BUILT | TAX CLASS AT TIME OF SALE | BUILDING CLASS AT TIME OF SALE | SALE PRICE | SALE DATE | \n",
       "|---|---|---|---|---|\n",
       "| 1                              | ALPHABET CITY                  | 01 ONE FAMILY DWELLINGS        | 1                              | 390                            | 61                             | NA                             | A4                             | 189 EAST 7TH STREET            | NA                             | ...                            | 1                              | 0                              | 1                              | 987                            | 2183                           | 1860                           | 1                              | A4                             | 4844809                        | 43242                          | \n",
       "| 1                              | ALPHABET CITY                  | 01 ONE FAMILY DWELLINGS        | 1                              | 390                            | 61                             | NA                             | A4                             | 189 EAST 7TH STREET            | NA                             | ...                            | 1                              | 0                              | 1                              | 987                            | 2183                           | 1860                           | 1                              | A4                             | 0                              | 43243                          | \n",
       "| 1                              | ALPHABET CITY                  | 02 TWO FAMILY DWELLINGS        | 1                              | 390                            | 35                             | NA                             | B1                             | 113 AVENUE C                   | NA                             | ...                            | 2                              | 0                              | 2                              | 1218                           | 4764                           | 1899                           | 1                              | B1                             | 0                              | 43215                          | \n",
       "| 1                              | ALPHABET CITY                  | 07 RENTALS - WALKUP APARTMENTS | 2                              | 385                            | 2                              | NA                             | C7                             | 21-23 AVENUE B                 | NA                             | ...                            | 12                             | 4                              | 16                             | 4186                           | 10588                          | 1900                           | 2                              | C7                             | 10350000                       | 43350                          | \n",
       "| 1                              | ALPHABET CITY                  | 07 RENTALS - WALKUP APARTMENTS | 2                              | 389                            | 18                             | NA                             | C1                             | 200 EAST 7TH STREET            | NA                             | ...                            | 18                             | 0                              | 18                             | 2271                           | 10650                          | 1910                           | 2                              | C1                             | 5000000                        | 43348                          | \n",
       "\n",
       "\n"
      ],
      "text/plain": [
       "  BOROUGH NEIGHBORHOOD  BUILDING CLASS CATEGORY        TAX CLASS AT PRESENT\n",
       "1 1       ALPHABET CITY 01 ONE FAMILY DWELLINGS        1                   \n",
       "2 1       ALPHABET CITY 01 ONE FAMILY DWELLINGS        1                   \n",
       "3 1       ALPHABET CITY 02 TWO FAMILY DWELLINGS        1                   \n",
       "4 1       ALPHABET CITY 07 RENTALS - WALKUP APARTMENTS 2                   \n",
       "5 1       ALPHABET CITY 07 RENTALS - WALKUP APARTMENTS 2                   \n",
       "  BLOCK LOT EASE-MENT BUILDING CLASS AT PRESENT ADDRESS            \n",
       "1 390   61  NA        A4                        189 EAST 7TH STREET\n",
       "2 390   61  NA        A4                        189 EAST 7TH STREET\n",
       "3 390   35  NA        B1                        113 AVENUE C       \n",
       "4 385   2   NA        C7                        21-23 AVENUE B     \n",
       "5 389   18  NA        C1                        200 EAST 7TH STREET\n",
       "  APARTMENT NUMBER ... RESIDENTIAL UNITS COMMERCIAL UNITS TOTAL UNITS\n",
       "1 NA               ... 1                 0                1          \n",
       "2 NA               ... 1                 0                1          \n",
       "3 NA               ... 2                 0                2          \n",
       "4 NA               ... 12                4                16         \n",
       "5 NA               ... 18                0                18         \n",
       "  LAND SQUARE FEET GROSS SQUARE FEET YEAR BUILT TAX CLASS AT TIME OF SALE\n",
       "1 987              2183              1860       1                        \n",
       "2 987              2183              1860       1                        \n",
       "3 1218             4764              1899       1                        \n",
       "4 4186             10588             1900       2                        \n",
       "5 2271             10650             1910       2                        \n",
       "  BUILDING CLASS AT TIME OF SALE SALE PRICE SALE DATE\n",
       "1 A4                             4844809    43242    \n",
       "2 A4                             0          43243    \n",
       "3 B1                             0          43215    \n",
       "4 C7                             10350000   43350    \n",
       "5 C1                             5000000    43348    "
      ]
     },
     "metadata": {},
     "output_type": "display_data"
    }
   ],
   "source": [
    "sales <- rolling[-(1:4),]\n",
    "colnames(sales) <- sales[1,]\n",
    "sales <- sales[-1,]\n",
    "head(sales, n = 5)"
   ]
  },
  {
   "cell_type": "code",
   "execution_count": 22,
   "metadata": {},
   "outputs": [],
   "source": [
    "library(dplyr)\n",
    "library(tidyr)\n",
    "library(ggplot2)"
   ]
  },
  {
   "cell_type": "code",
   "execution_count": 23,
   "metadata": {},
   "outputs": [
    {
     "name": "stdout",
     "output_type": "stream",
     "text": [
      "Classes 'tbl_df', 'tbl' and 'data.frame':\t16750 obs. of  21 variables:\n",
      " $ BOROUGH                       : chr  \"1\" \"1\" \"1\" \"1\" ...\n",
      " $ NEIGHBORHOOD                  : chr  \"ALPHABET CITY\" \"ALPHABET CITY\" \"ALPHABET CITY\" \"ALPHABET CITY\" ...\n",
      " $ BUILDING CLASS CATEGORY       : chr  \"01 ONE FAMILY DWELLINGS\" \"01 ONE FAMILY DWELLINGS\" \"02 TWO FAMILY DWELLINGS\" \"07 RENTALS - WALKUP APARTMENTS\" ...\n",
      " $ TAX CLASS AT PRESENT          : chr  \"1\" \"1\" \"1\" \"2\" ...\n",
      " $ BLOCK                         : chr  \"390\" \"390\" \"390\" \"385\" ...\n",
      " $ LOT                           : chr  \"61\" \"61\" \"35\" \"2\" ...\n",
      " $ EASE-MENT                     : chr  NA NA NA NA ...\n",
      " $ BUILDING CLASS AT PRESENT     : chr  \"A4\" \"A4\" \"B1\" \"C7\" ...\n",
      " $ ADDRESS                       : chr  \"189 EAST 7TH STREET\" \"189 EAST 7TH STREET\" \"113 AVENUE C\" \"21-23 AVENUE B\" ...\n",
      " $ APARTMENT NUMBER              : chr  NA NA NA NA ...\n",
      " $ ZIP CODE                      : chr  \"10009\" \"10009\" \"10009\" \"10009\" ...\n",
      " $ RESIDENTIAL UNITS             : chr  \"1\" \"1\" \"2\" \"12\" ...\n",
      " $ COMMERCIAL UNITS              : chr  \"0\" \"0\" \"0\" \"4\" ...\n",
      " $ TOTAL UNITS                   : chr  \"1\" \"1\" \"2\" \"16\" ...\n",
      " $ LAND SQUARE FEET              : chr  \"987\" \"987\" \"1218\" \"4186\" ...\n",
      " $ GROSS SQUARE FEET             : chr  \"2183\" \"2183\" \"4764\" \"10588\" ...\n",
      " $ YEAR BUILT                    : chr  \"1860\" \"1860\" \"1899\" \"1900\" ...\n",
      " $ TAX CLASS AT TIME OF SALE     : chr  \"1\" \"1\" \"1\" \"2\" ...\n",
      " $ BUILDING CLASS AT TIME OF SALE: chr  \"A4\" \"A4\" \"B1\" \"C7\" ...\n",
      " $ SALE PRICE                    : chr  \"4844809\" \"0\" \"0\" \"10350000\" ...\n",
      " $ SALE DATE                     : chr  \"43242\" \"43243\" \"43215\" \"43350\" ...\n"
     ]
    }
   ],
   "source": [
    "str(sales)"
   ]
  },
  {
   "cell_type": "code",
   "execution_count": 24,
   "metadata": {},
   "outputs": [
    {
     "data": {
      "text/html": [
       "<ol class=list-inline>\n",
       "\t<li>'Borough'</li>\n",
       "\t<li>'Neighborhood'</li>\n",
       "\t<li>'BuildingClassCategory'</li>\n",
       "\t<li>'TaxClassAtPresent'</li>\n",
       "\t<li>'Block'</li>\n",
       "\t<li>'Lot'</li>\n",
       "\t<li>'EaseMent'</li>\n",
       "\t<li>'BuildingClassAtPresent'</li>\n",
       "\t<li>'Address'</li>\n",
       "\t<li>'ApartmentNumber'</li>\n",
       "\t<li>'ZipCode'</li>\n",
       "\t<li>'ResidentialUnits'</li>\n",
       "\t<li>'CommercialUnits'</li>\n",
       "\t<li>'TotalUnits'</li>\n",
       "\t<li>'LandSquareFeet'</li>\n",
       "\t<li>'GrossSquareFeet'</li>\n",
       "\t<li>'YearBuilt'</li>\n",
       "\t<li>'TaxClassAtTimeOfSale'</li>\n",
       "\t<li>'BuildingClassAtTimeOfSale'</li>\n",
       "\t<li>'SalePrice'</li>\n",
       "\t<li>'SaleDate'</li>\n",
       "</ol>\n"
      ],
      "text/latex": [
       "\\begin{enumerate*}\n",
       "\\item 'Borough'\n",
       "\\item 'Neighborhood'\n",
       "\\item 'BuildingClassCategory'\n",
       "\\item 'TaxClassAtPresent'\n",
       "\\item 'Block'\n",
       "\\item 'Lot'\n",
       "\\item 'EaseMent'\n",
       "\\item 'BuildingClassAtPresent'\n",
       "\\item 'Address'\n",
       "\\item 'ApartmentNumber'\n",
       "\\item 'ZipCode'\n",
       "\\item 'ResidentialUnits'\n",
       "\\item 'CommercialUnits'\n",
       "\\item 'TotalUnits'\n",
       "\\item 'LandSquareFeet'\n",
       "\\item 'GrossSquareFeet'\n",
       "\\item 'YearBuilt'\n",
       "\\item 'TaxClassAtTimeOfSale'\n",
       "\\item 'BuildingClassAtTimeOfSale'\n",
       "\\item 'SalePrice'\n",
       "\\item 'SaleDate'\n",
       "\\end{enumerate*}\n"
      ],
      "text/markdown": [
       "1. 'Borough'\n",
       "2. 'Neighborhood'\n",
       "3. 'BuildingClassCategory'\n",
       "4. 'TaxClassAtPresent'\n",
       "5. 'Block'\n",
       "6. 'Lot'\n",
       "7. 'EaseMent'\n",
       "8. 'BuildingClassAtPresent'\n",
       "9. 'Address'\n",
       "10. 'ApartmentNumber'\n",
       "11. 'ZipCode'\n",
       "12. 'ResidentialUnits'\n",
       "13. 'CommercialUnits'\n",
       "14. 'TotalUnits'\n",
       "15. 'LandSquareFeet'\n",
       "16. 'GrossSquareFeet'\n",
       "17. 'YearBuilt'\n",
       "18. 'TaxClassAtTimeOfSale'\n",
       "19. 'BuildingClassAtTimeOfSale'\n",
       "20. 'SalePrice'\n",
       "21. 'SaleDate'\n",
       "\n",
       "\n"
      ],
      "text/plain": [
       " [1] \"Borough\"                   \"Neighborhood\"             \n",
       " [3] \"BuildingClassCategory\"     \"TaxClassAtPresent\"        \n",
       " [5] \"Block\"                     \"Lot\"                      \n",
       " [7] \"EaseMent\"                  \"BuildingClassAtPresent\"   \n",
       " [9] \"Address\"                   \"ApartmentNumber\"          \n",
       "[11] \"ZipCode\"                   \"ResidentialUnits\"         \n",
       "[13] \"CommercialUnits\"           \"TotalUnits\"               \n",
       "[15] \"LandSquareFeet\"            \"GrossSquareFeet\"          \n",
       "[17] \"YearBuilt\"                 \"TaxClassAtTimeOfSale\"     \n",
       "[19] \"BuildingClassAtTimeOfSale\" \"SalePrice\"                \n",
       "[21] \"SaleDate\"                 "
      ]
     },
     "metadata": {},
     "output_type": "display_data"
    }
   ],
   "source": [
    "names(sales) <- c('Borough', 'Neighborhood', 'BuildingClassCategory', 'TaxClassAtPresent', 'Block', 'Lot', 'EaseMent', \n",
    "                 'BuildingClassAtPresent', 'Address', 'ApartmentNumber', 'ZipCode', 'ResidentialUnits', \n",
    "                 'CommercialUnits', 'TotalUnits', 'LandSquareFeet', 'GrossSquareFeet', \n",
    "                 'YearBuilt', 'TaxClassAtTimeOfSale', 'BuildingClassAtTimeOfSale', 'SalePrice', 'SaleDate')\n",
    "names(sales)"
   ]
  },
  {
   "cell_type": "code",
   "execution_count": 25,
   "metadata": {},
   "outputs": [
    {
     "name": "stdout",
     "output_type": "stream",
     "text": [
      "Classes 'tbl_df', 'tbl' and 'data.frame':\t16750 obs. of  21 variables:\n",
      " $ Borough                  : Factor w/ 1 level \"1\": 1 1 1 1 1 1 1 1 1 1 ...\n",
      " $ Neighborhood             : Factor w/ 39 levels \"ALPHABET CITY\",..: 1 1 1 1 1 1 1 1 1 1 ...\n",
      " $ BuildingClassCategory    : Factor w/ 43 levels \"01 ONE FAMILY DWELLINGS\",..: 1 1 2 6 6 6 6 6 6 6 ...\n",
      " $ TaxClassAtPresent        : Factor w/ 9 levels \"1\",\"1A\",\"1C\",..: 1 1 1 4 4 5 6 4 4 4 ...\n",
      " $ Block                    : chr  \"390\" \"390\" \"390\" \"385\" ...\n",
      " $ Lot                      : chr  \"61\" \"61\" \"35\" \"2\" ...\n",
      " $ EaseMent                 : chr  NA NA NA NA ...\n",
      " $ BuildingClassAtPresent   : Factor w/ 129 levels \"A1\",\"A4\",\"A5\",..: 2 2 6 17 11 13 14 14 14 11 ...\n",
      " $ Address                  : chr  \"189 EAST 7TH STREET\" \"189 EAST 7TH STREET\" \"113 AVENUE C\" \"21-23 AVENUE B\" ...\n",
      " $ ApartmentNumber          : chr  NA NA NA NA ...\n",
      " $ ZipCode                  : num  10009 10009 10009 10009 10009 ...\n",
      " $ ResidentialUnits         : num  1 1 2 12 18 4 8 17 45 35 ...\n",
      " $ CommercialUnits          : num  0 0 0 4 0 0 2 0 0 0 ...\n",
      " $ TotalUnits               : num  1 1 2 16 18 4 10 17 45 35 ...\n",
      " $ LandSquareFeet           : num  987 987 1218 4186 2271 ...\n",
      " $ GrossSquareFeet          : num  2183 2183 4764 10588 10650 ...\n",
      " $ YearBuilt                : num  1860 1860 1899 1900 1910 ...\n",
      " $ TaxClassAtTimeOfSale     : Factor w/ 4 levels \"1\",\"2\",\"3\",\"4\": 1 1 1 2 2 2 2 2 2 2 ...\n",
      " $ BuildingClassAtTimeOfSale: Factor w/ 128 levels \"A1\",\"A4\",\"A5\",..: 2 2 6 17 11 13 14 14 14 11 ...\n",
      " $ SalePrice                : num  4844809 0 0 10350000 5000000 ...\n",
      " $ SaleDate                 : chr  \"43242\" \"43243\" \"43215\" \"43350\" ...\n"
     ]
    }
   ],
   "source": [
    "factors <- c(\"Borough\", \"Neighborhood\", \"BuildingClassCategory\", \"TaxClassAtPresent\", \"BuildingClassAtPresent\", \n",
    "             \"TaxClassAtTimeOfSale\", \"BuildingClassAtTimeOfSale\")\n",
    "numerics <- c(\"ZipCode\", \"ResidentialUnits\", \"CommercialUnits\", \"YearBuilt\", \n",
    "              \"TotalUnits\", \"LandSquareFeet\", \"GrossSquareFeet\", \"SalePrice\")\n",
    "\n",
    "sales <- sales %>% mutate_at(factors, as.factor) \n",
    "sales <- sales %>% mutate_at(numerics, as.numeric)\n",
    "\n",
    "str(sales)"
   ]
  },
  {
   "cell_type": "code",
   "execution_count": 26,
   "metadata": {},
   "outputs": [
    {
     "data": {
      "text/plain": [
       "                  Neighborhood                        BuildingClassCategory\n",
       " UPPER EAST SIDE (59-79):1892   13 CONDOS - ELEVATOR APARTMENTS  :6704     \n",
       " UPPER EAST SIDE (79-96):1536   10 COOPS - ELEVATOR APARTMENTS   :5674     \n",
       " UPPER WEST SIDE (59-79):1527   17 CONDO COOPS                   : 815     \n",
       " MIDTOWN EAST           :1162   09 COOPS - WALKUP APARTMENTS     : 697     \n",
       " MIDTOWN WEST           : 833   07 RENTALS - WALKUP APARTMENTS   : 627     \n",
       " UPPER WEST SIDE (79-96): 811   15 CONDOS - 2-10 UNIT RESIDENTIAL: 271     \n",
       " (Other)                :8989   (Other)                          :1962     \n",
       " TaxClassAtPresent    Block               Lot              EaseMent        \n",
       " 2      :14176     Length:16750       Length:16750       Length:16750      \n",
       " 4      : 1209     Class :character   Class :character   Class :character  \n",
       " 2C     :  573     Mode  :character   Mode  :character   Mode  :character  \n",
       " 1      :  345                                                             \n",
       " 2B     :  229                                                             \n",
       " (Other):  215                                                             \n",
       " NA's   :    3                                                             \n",
       " BuildingClassAtPresent   Address          ApartmentNumber       ZipCode     \n",
       " R4     :6704           Length:16750       Length:16750       Min.   :    0  \n",
       " D4     :5479           Class :character   Class :character   1st Qu.:10014  \n",
       " R9     : 815           Mode  :character   Mode  :character   Median :10022  \n",
       " C6     : 693                                                 Mean   :10014  \n",
       " R1     : 271                                                 3rd Qu.:10028  \n",
       " (Other):2785                                                 Max.   :10463  \n",
       " NA's   :   3                                                                \n",
       " ResidentialUnits   CommercialUnits     TotalUnits       LandSquareFeet    \n",
       " Min.   :   0.000   Min.   :  0.000   Min.   :   0.000   Min.   :     0.0  \n",
       " 1st Qu.:   0.000   1st Qu.:  0.000   1st Qu.:   0.000   1st Qu.:     0.0  \n",
       " Median :   1.000   Median :  0.000   Median :   1.000   Median :     0.0  \n",
       " Mean   :   2.091   Mean   :  0.247   Mean   :   2.381   Mean   :   583.8  \n",
       " 3rd Qu.:   1.000   3rd Qu.:  0.000   3rd Qu.:   1.000   3rd Qu.:     0.0  \n",
       " Max.   :1641.000   Max.   :229.000   Max.   :1652.000   Max.   :357935.0  \n",
       "                                                                           \n",
       " GrossSquareFeet     YearBuilt    TaxClassAtTimeOfSale\n",
       " Min.   :      0   Min.   :   0   1:  364             \n",
       " 1st Qu.:      0   1st Qu.:1910   2:15175             \n",
       " Median :      0   Median :1935   3:    1             \n",
       " Mean   :   3205   Mean   :1705   4: 1210             \n",
       " 3rd Qu.:      0   3rd Qu.:1975                       \n",
       " Max.   :2224200   Max.   :2018                       \n",
       "                                                      \n",
       " BuildingClassAtTimeOfSale   SalePrice           SaleDate        \n",
       " R4     :6704              Min.   :0.000e+00   Length:16750      \n",
       " D4     :5479              1st Qu.:1.500e+05   Class :character  \n",
       " R9     : 815              Median :8.113e+05   Mode  :character  \n",
       " C6     : 693              Mean   :2.927e+06                     \n",
       " R1     : 271              3rd Qu.:1.845e+06                     \n",
       " RS     : 218              Max.   :2.398e+09                     \n",
       " (Other):2570                                                    "
      ]
     },
     "metadata": {},
     "output_type": "display_data"
    }
   ],
   "source": [
    "summary(sales[,-1])"
   ]
  },
  {
   "cell_type": "markdown",
   "metadata": {},
   "source": [
    "#### Transfer of Property\n",
    "\n",
    "Sales Prices that has zero values are transferred property. They are likely to be gifts, inheritance from parents to their children, or transfer of properties between family members so there are no money involved. We will filter these observations and assign them to 'transfer'"
   ]
  },
  {
   "cell_type": "code",
   "execution_count": 36,
   "metadata": {},
   "outputs": [
    {
     "data": {
      "text/html": [
       "<table>\n",
       "<thead><tr><th scope=col>Borough</th><th scope=col>Neighborhood</th><th scope=col>BuildingClassCategory</th><th scope=col>TaxClassAtPresent</th><th scope=col>Block</th><th scope=col>Lot</th><th scope=col>EaseMent</th><th scope=col>BuildingClassAtPresent</th><th scope=col>Address</th><th scope=col>ApartmentNumber</th><th scope=col>...</th><th scope=col>ResidentialUnits</th><th scope=col>CommercialUnits</th><th scope=col>TotalUnits</th><th scope=col>LandSquareFeet</th><th scope=col>GrossSquareFeet</th><th scope=col>YearBuilt</th><th scope=col>TaxClassAtTimeOfSale</th><th scope=col>BuildingClassAtTimeOfSale</th><th scope=col>SalePrice</th><th scope=col>SaleDate</th></tr></thead>\n",
       "<tbody>\n",
       "\t<tr><td>1                             </td><td>ALPHABET CITY                 </td><td>01 ONE FAMILY DWELLINGS       </td><td>1                             </td><td>390                           </td><td>61                            </td><td>NA                            </td><td>A4                            </td><td>189 EAST 7TH STREET           </td><td>NA                            </td><td>...                           </td><td> 1                            </td><td>0                             </td><td> 1                            </td><td> 987                          </td><td> 2183                         </td><td>1860                          </td><td>1                             </td><td>A4                            </td><td>0                             </td><td>43243                         </td></tr>\n",
       "\t<tr><td>1                             </td><td>ALPHABET CITY                 </td><td>02 TWO FAMILY DWELLINGS       </td><td>1                             </td><td>390                           </td><td>35                            </td><td>NA                            </td><td>B1                            </td><td>113 AVENUE C                  </td><td>NA                            </td><td>...                           </td><td> 2                            </td><td>0                             </td><td> 2                            </td><td>1218                          </td><td> 4764                         </td><td>1899                          </td><td>1                             </td><td>B1                            </td><td>0                             </td><td>43215                         </td></tr>\n",
       "\t<tr><td>1                             </td><td>ALPHABET CITY                 </td><td>07 RENTALS - WALKUP APARTMENTS</td><td>2                             </td><td>392                           </td><td>22                            </td><td>NA                            </td><td>C4                            </td><td>374 EAST 10TH STREET          </td><td>NA                            </td><td>...                           </td><td>17                            </td><td>0                             </td><td>17                            </td><td>4614                          </td><td>20599                         </td><td>1900                          </td><td>2                             </td><td>C4                            </td><td>0                             </td><td>43279                         </td></tr>\n",
       "\t<tr><td>1                             </td><td>ALPHABET CITY                 </td><td>07 RENTALS - WALKUP APARTMENTS</td><td>2                             </td><td>392                           </td><td>27                            </td><td>NA                            </td><td>C4                            </td><td>384 EAST 10TH STREET          </td><td>NA                            </td><td>...                           </td><td>45                            </td><td>0                             </td><td>45                            </td><td>9234                          </td><td>49799                         </td><td>1900                          </td><td>2                             </td><td>C4                            </td><td>0                             </td><td>43279                         </td></tr>\n",
       "\t<tr><td>1                             </td><td>ALPHABET CITY                 </td><td>07 RENTALS - WALKUP APARTMENTS</td><td>2                             </td><td>392                           </td><td>48                            </td><td>NA                            </td><td>C1                            </td><td>627 EAST 9TH STREET           </td><td>NA                            </td><td>...                           </td><td>35                            </td><td>0                             </td><td>35                            </td><td>9227                          </td><td>43871                         </td><td>1900                          </td><td>2                             </td><td>C1                            </td><td>0                             </td><td>43279                         </td></tr>\n",
       "</tbody>\n",
       "</table>\n"
      ],
      "text/latex": [
       "\\begin{tabular}{r|lllllllllllllllllllll}\n",
       " Borough & Neighborhood & BuildingClassCategory & TaxClassAtPresent & Block & Lot & EaseMent & BuildingClassAtPresent & Address & ApartmentNumber & ... & ResidentialUnits & CommercialUnits & TotalUnits & LandSquareFeet & GrossSquareFeet & YearBuilt & TaxClassAtTimeOfSale & BuildingClassAtTimeOfSale & SalePrice & SaleDate\\\\\n",
       "\\hline\n",
       "\t 1                              & ALPHABET CITY                  & 01 ONE FAMILY DWELLINGS        & 1                              & 390                            & 61                             & NA                             & A4                             & 189 EAST 7TH STREET            & NA                             & ...                            &  1                             & 0                              &  1                             &  987                           &  2183                          & 1860                           & 1                              & A4                             & 0                              & 43243                         \\\\\n",
       "\t 1                              & ALPHABET CITY                  & 02 TWO FAMILY DWELLINGS        & 1                              & 390                            & 35                             & NA                             & B1                             & 113 AVENUE C                   & NA                             & ...                            &  2                             & 0                              &  2                             & 1218                           &  4764                          & 1899                           & 1                              & B1                             & 0                              & 43215                         \\\\\n",
       "\t 1                              & ALPHABET CITY                  & 07 RENTALS - WALKUP APARTMENTS & 2                              & 392                            & 22                             & NA                             & C4                             & 374 EAST 10TH STREET           & NA                             & ...                            & 17                             & 0                              & 17                             & 4614                           & 20599                          & 1900                           & 2                              & C4                             & 0                              & 43279                         \\\\\n",
       "\t 1                              & ALPHABET CITY                  & 07 RENTALS - WALKUP APARTMENTS & 2                              & 392                            & 27                             & NA                             & C4                             & 384 EAST 10TH STREET           & NA                             & ...                            & 45                             & 0                              & 45                             & 9234                           & 49799                          & 1900                           & 2                              & C4                             & 0                              & 43279                         \\\\\n",
       "\t 1                              & ALPHABET CITY                  & 07 RENTALS - WALKUP APARTMENTS & 2                              & 392                            & 48                             & NA                             & C1                             & 627 EAST 9TH STREET            & NA                             & ...                            & 35                             & 0                              & 35                             & 9227                           & 43871                          & 1900                           & 2                              & C1                             & 0                              & 43279                         \\\\\n",
       "\\end{tabular}\n"
      ],
      "text/markdown": [
       "\n",
       "Borough | Neighborhood | BuildingClassCategory | TaxClassAtPresent | Block | Lot | EaseMent | BuildingClassAtPresent | Address | ApartmentNumber | ... | ResidentialUnits | CommercialUnits | TotalUnits | LandSquareFeet | GrossSquareFeet | YearBuilt | TaxClassAtTimeOfSale | BuildingClassAtTimeOfSale | SalePrice | SaleDate | \n",
       "|---|---|---|---|---|\n",
       "| 1                              | ALPHABET CITY                  | 01 ONE FAMILY DWELLINGS        | 1                              | 390                            | 61                             | NA                             | A4                             | 189 EAST 7TH STREET            | NA                             | ...                            |  1                             | 0                              |  1                             |  987                           |  2183                          | 1860                           | 1                              | A4                             | 0                              | 43243                          | \n",
       "| 1                              | ALPHABET CITY                  | 02 TWO FAMILY DWELLINGS        | 1                              | 390                            | 35                             | NA                             | B1                             | 113 AVENUE C                   | NA                             | ...                            |  2                             | 0                              |  2                             | 1218                           |  4764                          | 1899                           | 1                              | B1                             | 0                              | 43215                          | \n",
       "| 1                              | ALPHABET CITY                  | 07 RENTALS - WALKUP APARTMENTS | 2                              | 392                            | 22                             | NA                             | C4                             | 374 EAST 10TH STREET           | NA                             | ...                            | 17                             | 0                              | 17                             | 4614                           | 20599                          | 1900                           | 2                              | C4                             | 0                              | 43279                          | \n",
       "| 1                              | ALPHABET CITY                  | 07 RENTALS - WALKUP APARTMENTS | 2                              | 392                            | 27                             | NA                             | C4                             | 384 EAST 10TH STREET           | NA                             | ...                            | 45                             | 0                              | 45                             | 9234                           | 49799                          | 1900                           | 2                              | C4                             | 0                              | 43279                          | \n",
       "| 1                              | ALPHABET CITY                  | 07 RENTALS - WALKUP APARTMENTS | 2                              | 392                            | 48                             | NA                             | C1                             | 627 EAST 9TH STREET            | NA                             | ...                            | 35                             | 0                              | 35                             | 9227                           | 43871                          | 1900                           | 2                              | C1                             | 0                              | 43279                          | \n",
       "\n",
       "\n"
      ],
      "text/plain": [
       "  Borough Neighborhood  BuildingClassCategory          TaxClassAtPresent Block\n",
       "1 1       ALPHABET CITY 01 ONE FAMILY DWELLINGS        1                 390  \n",
       "2 1       ALPHABET CITY 02 TWO FAMILY DWELLINGS        1                 390  \n",
       "3 1       ALPHABET CITY 07 RENTALS - WALKUP APARTMENTS 2                 392  \n",
       "4 1       ALPHABET CITY 07 RENTALS - WALKUP APARTMENTS 2                 392  \n",
       "5 1       ALPHABET CITY 07 RENTALS - WALKUP APARTMENTS 2                 392  \n",
       "  Lot EaseMent BuildingClassAtPresent Address              ApartmentNumber ...\n",
       "1 61  NA       A4                     189 EAST 7TH STREET  NA              ...\n",
       "2 35  NA       B1                     113 AVENUE C         NA              ...\n",
       "3 22  NA       C4                     374 EAST 10TH STREET NA              ...\n",
       "4 27  NA       C4                     384 EAST 10TH STREET NA              ...\n",
       "5 48  NA       C1                     627 EAST 9TH STREET  NA              ...\n",
       "  ResidentialUnits CommercialUnits TotalUnits LandSquareFeet GrossSquareFeet\n",
       "1  1               0                1          987            2183          \n",
       "2  2               0                2         1218            4764          \n",
       "3 17               0               17         4614           20599          \n",
       "4 45               0               45         9234           49799          \n",
       "5 35               0               35         9227           43871          \n",
       "  YearBuilt TaxClassAtTimeOfSale BuildingClassAtTimeOfSale SalePrice SaleDate\n",
       "1 1860      1                    A4                        0         43243   \n",
       "2 1899      1                    B1                        0         43215   \n",
       "3 1900      2                    C4                        0         43279   \n",
       "4 1900      2                    C4                        0         43279   \n",
       "5 1900      2                    C1                        0         43279   "
      ]
     },
     "metadata": {},
     "output_type": "display_data"
    },
    {
     "name": "stdout",
     "output_type": "stream",
     "text": [
      "Classes 'tbl_df', 'tbl' and 'data.frame':\t782 obs. of  21 variables:\n",
      " $ Borough                  : Factor w/ 1 level \"1\": 1 1 1 1 1 1 1 1 1 1 ...\n",
      " $ Neighborhood             : Factor w/ 39 levels \"ALPHABET CITY\",..: 1 1 1 1 1 1 1 1 1 1 ...\n",
      " $ BuildingClassCategory    : Factor w/ 43 levels \"01 ONE FAMILY DWELLINGS\",..: 1 2 6 6 6 6 6 6 6 6 ...\n",
      " $ TaxClassAtPresent        : Factor w/ 9 levels \"1\",\"1A\",\"1C\",..: 1 1 4 4 4 4 4 4 4 4 ...\n",
      " $ Block                    : chr  \"390\" \"390\" \"392\" \"392\" ...\n",
      " $ Lot                      : chr  \"61\" \"35\" \"22\" \"27\" ...\n",
      " $ EaseMent                 : chr  NA NA NA NA ...\n",
      " $ BuildingClassAtPresent   : Factor w/ 129 levels \"A1\",\"A4\",\"A5\",..: 2 6 14 14 11 17 17 17 17 17 ...\n",
      " $ Address                  : chr  \"189 EAST 7TH STREET\" \"113 AVENUE C\" \"374 EAST 10TH STREET\" \"384 EAST 10TH STREET\" ...\n",
      " $ ApartmentNumber          : chr  NA NA NA NA ...\n",
      " $ ZipCode                  : num  10009 10009 10009 10009 10009 ...\n",
      " $ ResidentialUnits         : num  1 2 17 45 35 16 23 16 16 16 ...\n",
      " $ CommercialUnits          : num  0 0 0 0 0 2 4 2 2 1 ...\n",
      " $ TotalUnits               : num  1 2 17 45 35 18 27 18 18 17 ...\n",
      " $ LandSquareFeet           : num  987 1218 4614 9234 9227 ...\n",
      " $ GrossSquareFeet          : num  2183 4764 20599 49799 43871 ...\n",
      " $ YearBuilt                : num  1860 1899 1900 1900 1900 ...\n",
      " $ TaxClassAtTimeOfSale     : Factor w/ 4 levels \"1\",\"2\",\"3\",\"4\": 1 1 2 2 2 2 2 2 2 2 ...\n",
      " $ BuildingClassAtTimeOfSale: Factor w/ 128 levels \"A1\",\"A4\",\"A5\",..: 2 6 14 14 11 17 17 17 17 17 ...\n",
      " $ SalePrice                : num  0 0 0 0 0 0 0 0 0 0 ...\n",
      " $ SaleDate                 : chr  \"43243\" \"43215\" \"43279\" \"43279\" ...\n"
     ]
    }
   ],
   "source": [
    "transfer <- sales %>% filter(SalePrice == 0 & TotalUnits != 0 & ZipCode != 0 &\n",
    "                             YearBuilt != 0 & GrossSquareFeet != 0) #pipe operator\n",
    "head(transfer, n = 5)\n",
    "str(transfer)"
   ]
  },
  {
   "cell_type": "markdown",
   "metadata": {},
   "source": [
    "#### Non-Transfer Sales"
   ]
  },
  {
   "cell_type": "code",
   "execution_count": 32,
   "metadata": {},
   "outputs": [
    {
     "data": {
      "text/html": [
       "<table>\n",
       "<thead><tr><th scope=col>Borough</th><th scope=col>Neighborhood</th><th scope=col>BuildingClassCategory</th><th scope=col>TaxClassAtPresent</th><th scope=col>Block</th><th scope=col>Lot</th><th scope=col>EaseMent</th><th scope=col>BuildingClassAtPresent</th><th scope=col>Address</th><th scope=col>ApartmentNumber</th><th scope=col>...</th><th scope=col>ResidentialUnits</th><th scope=col>CommercialUnits</th><th scope=col>TotalUnits</th><th scope=col>LandSquareFeet</th><th scope=col>GrossSquareFeet</th><th scope=col>YearBuilt</th><th scope=col>TaxClassAtTimeOfSale</th><th scope=col>BuildingClassAtTimeOfSale</th><th scope=col>SalePrice</th><th scope=col>SaleDate</th></tr></thead>\n",
       "<tbody>\n",
       "\t<tr><td>1                             </td><td>ALPHABET CITY                 </td><td>01 ONE FAMILY DWELLINGS       </td><td>1                             </td><td>390                           </td><td>61                            </td><td>NA                            </td><td>A4                            </td><td>189 EAST 7TH STREET           </td><td>NA                            </td><td>...                           </td><td> 1                            </td><td>0                             </td><td> 1                            </td><td> 987                          </td><td> 2183                         </td><td>1860                          </td><td>1                             </td><td>A4                            </td><td> 4844809                      </td><td>43242                         </td></tr>\n",
       "\t<tr><td>1                             </td><td>ALPHABET CITY                 </td><td>07 RENTALS - WALKUP APARTMENTS</td><td>2                             </td><td>385                           </td><td>2                             </td><td>NA                            </td><td>C7                            </td><td>21-23 AVENUE B                </td><td>NA                            </td><td>...                           </td><td>12                            </td><td>4                             </td><td>16                            </td><td>4186                          </td><td>10588                         </td><td>1900                          </td><td>2                             </td><td>C7                            </td><td>10350000                      </td><td>43350                         </td></tr>\n",
       "\t<tr><td>1                             </td><td>ALPHABET CITY                 </td><td>07 RENTALS - WALKUP APARTMENTS</td><td>2                             </td><td>389                           </td><td>18                            </td><td>NA                            </td><td>C1                            </td><td>200 EAST 7TH STREET           </td><td>NA                            </td><td>...                           </td><td>18                            </td><td>0                             </td><td>18                            </td><td>2271                          </td><td>10650                         </td><td>1910                          </td><td>2                             </td><td>C1                            </td><td> 5000000                      </td><td>43348                         </td></tr>\n",
       "\t<tr><td>1                             </td><td>ALPHABET CITY                 </td><td>07 RENTALS - WALKUP APARTMENTS</td><td>2A                            </td><td>390                           </td><td>54                            </td><td>NA                            </td><td>C3                            </td><td>203 EAST 7TH STREET           </td><td>NA                            </td><td>...                           </td><td> 4                            </td><td>0                             </td><td> 4                            </td><td>1950                          </td><td> 5446                         </td><td>2001                          </td><td>2                             </td><td>C3                            </td><td> 6250000                      </td><td>43229                         </td></tr>\n",
       "\t<tr><td>1                             </td><td>ALPHABET CITY                 </td><td>07 RENTALS - WALKUP APARTMENTS</td><td>2B                            </td><td>390                           </td><td>64                            </td><td>NA                            </td><td>C4                            </td><td>187 EAST 7TH STREET           </td><td>NA                            </td><td>...                           </td><td> 8                            </td><td>2                             </td><td>10                            </td><td>1642                          </td><td> 5220                         </td><td>1910                          </td><td>2                             </td><td>C4                            </td><td> 2400000                      </td><td>43238                         </td></tr>\n",
       "</tbody>\n",
       "</table>\n"
      ],
      "text/latex": [
       "\\begin{tabular}{r|lllllllllllllllllllll}\n",
       " Borough & Neighborhood & BuildingClassCategory & TaxClassAtPresent & Block & Lot & EaseMent & BuildingClassAtPresent & Address & ApartmentNumber & ... & ResidentialUnits & CommercialUnits & TotalUnits & LandSquareFeet & GrossSquareFeet & YearBuilt & TaxClassAtTimeOfSale & BuildingClassAtTimeOfSale & SalePrice & SaleDate\\\\\n",
       "\\hline\n",
       "\t 1                              & ALPHABET CITY                  & 01 ONE FAMILY DWELLINGS        & 1                              & 390                            & 61                             & NA                             & A4                             & 189 EAST 7TH STREET            & NA                             & ...                            &  1                             & 0                              &  1                             &  987                           &  2183                          & 1860                           & 1                              & A4                             &  4844809                       & 43242                         \\\\\n",
       "\t 1                              & ALPHABET CITY                  & 07 RENTALS - WALKUP APARTMENTS & 2                              & 385                            & 2                              & NA                             & C7                             & 21-23 AVENUE B                 & NA                             & ...                            & 12                             & 4                              & 16                             & 4186                           & 10588                          & 1900                           & 2                              & C7                             & 10350000                       & 43350                         \\\\\n",
       "\t 1                              & ALPHABET CITY                  & 07 RENTALS - WALKUP APARTMENTS & 2                              & 389                            & 18                             & NA                             & C1                             & 200 EAST 7TH STREET            & NA                             & ...                            & 18                             & 0                              & 18                             & 2271                           & 10650                          & 1910                           & 2                              & C1                             &  5000000                       & 43348                         \\\\\n",
       "\t 1                              & ALPHABET CITY                  & 07 RENTALS - WALKUP APARTMENTS & 2A                             & 390                            & 54                             & NA                             & C3                             & 203 EAST 7TH STREET            & NA                             & ...                            &  4                             & 0                              &  4                             & 1950                           &  5446                          & 2001                           & 2                              & C3                             &  6250000                       & 43229                         \\\\\n",
       "\t 1                              & ALPHABET CITY                  & 07 RENTALS - WALKUP APARTMENTS & 2B                             & 390                            & 64                             & NA                             & C4                             & 187 EAST 7TH STREET            & NA                             & ...                            &  8                             & 2                              & 10                             & 1642                           &  5220                          & 1910                           & 2                              & C4                             &  2400000                       & 43238                         \\\\\n",
       "\\end{tabular}\n"
      ],
      "text/markdown": [
       "\n",
       "Borough | Neighborhood | BuildingClassCategory | TaxClassAtPresent | Block | Lot | EaseMent | BuildingClassAtPresent | Address | ApartmentNumber | ... | ResidentialUnits | CommercialUnits | TotalUnits | LandSquareFeet | GrossSquareFeet | YearBuilt | TaxClassAtTimeOfSale | BuildingClassAtTimeOfSale | SalePrice | SaleDate | \n",
       "|---|---|---|---|---|\n",
       "| 1                              | ALPHABET CITY                  | 01 ONE FAMILY DWELLINGS        | 1                              | 390                            | 61                             | NA                             | A4                             | 189 EAST 7TH STREET            | NA                             | ...                            |  1                             | 0                              |  1                             |  987                           |  2183                          | 1860                           | 1                              | A4                             |  4844809                       | 43242                          | \n",
       "| 1                              | ALPHABET CITY                  | 07 RENTALS - WALKUP APARTMENTS | 2                              | 385                            | 2                              | NA                             | C7                             | 21-23 AVENUE B                 | NA                             | ...                            | 12                             | 4                              | 16                             | 4186                           | 10588                          | 1900                           | 2                              | C7                             | 10350000                       | 43350                          | \n",
       "| 1                              | ALPHABET CITY                  | 07 RENTALS - WALKUP APARTMENTS | 2                              | 389                            | 18                             | NA                             | C1                             | 200 EAST 7TH STREET            | NA                             | ...                            | 18                             | 0                              | 18                             | 2271                           | 10650                          | 1910                           | 2                              | C1                             |  5000000                       | 43348                          | \n",
       "| 1                              | ALPHABET CITY                  | 07 RENTALS - WALKUP APARTMENTS | 2A                             | 390                            | 54                             | NA                             | C3                             | 203 EAST 7TH STREET            | NA                             | ...                            |  4                             | 0                              |  4                             | 1950                           |  5446                          | 2001                           | 2                              | C3                             |  6250000                       | 43229                          | \n",
       "| 1                              | ALPHABET CITY                  | 07 RENTALS - WALKUP APARTMENTS | 2B                             | 390                            | 64                             | NA                             | C4                             | 187 EAST 7TH STREET            | NA                             | ...                            |  8                             | 2                              | 10                             | 1642                           |  5220                          | 1910                           | 2                              | C4                             |  2400000                       | 43238                          | \n",
       "\n",
       "\n"
      ],
      "text/plain": [
       "  Borough Neighborhood  BuildingClassCategory          TaxClassAtPresent Block\n",
       "1 1       ALPHABET CITY 01 ONE FAMILY DWELLINGS        1                 390  \n",
       "2 1       ALPHABET CITY 07 RENTALS - WALKUP APARTMENTS 2                 385  \n",
       "3 1       ALPHABET CITY 07 RENTALS - WALKUP APARTMENTS 2                 389  \n",
       "4 1       ALPHABET CITY 07 RENTALS - WALKUP APARTMENTS 2A                390  \n",
       "5 1       ALPHABET CITY 07 RENTALS - WALKUP APARTMENTS 2B                390  \n",
       "  Lot EaseMent BuildingClassAtPresent Address             ApartmentNumber ...\n",
       "1 61  NA       A4                     189 EAST 7TH STREET NA              ...\n",
       "2 2   NA       C7                     21-23 AVENUE B      NA              ...\n",
       "3 18  NA       C1                     200 EAST 7TH STREET NA              ...\n",
       "4 54  NA       C3                     203 EAST 7TH STREET NA              ...\n",
       "5 64  NA       C4                     187 EAST 7TH STREET NA              ...\n",
       "  ResidentialUnits CommercialUnits TotalUnits LandSquareFeet GrossSquareFeet\n",
       "1  1               0                1          987            2183          \n",
       "2 12               4               16         4186           10588          \n",
       "3 18               0               18         2271           10650          \n",
       "4  4               0                4         1950            5446          \n",
       "5  8               2               10         1642            5220          \n",
       "  YearBuilt TaxClassAtTimeOfSale BuildingClassAtTimeOfSale SalePrice SaleDate\n",
       "1 1860      1                    A4                         4844809  43242   \n",
       "2 1900      2                    C7                        10350000  43350   \n",
       "3 1910      2                    C1                         5000000  43348   \n",
       "4 2001      2                    C3                         6250000  43229   \n",
       "5 1910      2                    C4                         2400000  43238   "
      ]
     },
     "metadata": {},
     "output_type": "display_data"
    },
    {
     "name": "stdout",
     "output_type": "stream",
     "text": [
      "Classes 'tbl_df', 'tbl' and 'data.frame':\t837 obs. of  21 variables:\n",
      " $ Borough                  : Factor w/ 1 level \"1\": 1 1 1 1 1 1 1 1 1 1 ...\n",
      " $ Neighborhood             : Factor w/ 39 levels \"ALPHABET CITY\",..: 1 1 1 1 1 1 1 1 1 1 ...\n",
      " $ BuildingClassCategory    : Factor w/ 43 levels \"01 ONE FAMILY DWELLINGS\",..: 1 6 6 6 6 6 6 6 6 6 ...\n",
      " $ TaxClassAtPresent        : Factor w/ 9 levels \"1\",\"1A\",\"1C\",..: 1 4 4 5 6 4 4 4 4 4 ...\n",
      " $ Block                    : chr  \"390\" \"385\" \"389\" \"390\" ...\n",
      " $ Lot                      : chr  \"61\" \"2\" \"18\" \"54\" ...\n",
      " $ EaseMent                 : chr  NA NA NA NA ...\n",
      " $ BuildingClassAtPresent   : Factor w/ 129 levels \"A1\",\"A4\",\"A5\",..: 2 17 11 13 14 14 17 17 17 17 ...\n",
      " $ Address                  : chr  \"189 EAST 7TH STREET\" \"21-23 AVENUE B\" \"200 EAST 7TH STREET\" \"203 EAST 7TH STREET\" ...\n",
      " $ ApartmentNumber          : chr  NA NA NA NA ...\n",
      " $ ZipCode                  : num  10009 10009 10009 10009 10009 ...\n",
      " $ ResidentialUnits         : num  1 12 18 4 8 12 16 28 8 11 ...\n",
      " $ CommercialUnits          : num  0 4 0 0 2 0 1 2 3 1 ...\n",
      " $ TotalUnits               : num  1 16 18 4 10 12 17 30 11 12 ...\n",
      " $ LandSquareFeet           : num  987 4186 2271 1950 1642 ...\n",
      " $ GrossSquareFeet          : num  2183 10588 10650 5446 5220 ...\n",
      " $ YearBuilt                : num  1860 1900 1910 2001 1910 ...\n",
      " $ TaxClassAtTimeOfSale     : Factor w/ 4 levels \"1\",\"2\",\"3\",\"4\": 1 2 2 2 2 2 2 2 2 2 ...\n",
      " $ BuildingClassAtTimeOfSale: Factor w/ 128 levels \"A1\",\"A4\",\"A5\",..: 2 17 11 13 14 14 17 17 17 17 ...\n",
      " $ SalePrice                : num  4844809 10350000 5000000 6250000 2400000 ...\n",
      " $ SaleDate                 : chr  \"43242\" \"43350\" \"43348\" \"43229\" ...\n"
     ]
    }
   ],
   "source": [
    "clean_sales <- sales %>% filter(SalePrice != 0 & TotalUnits != 0 & ZipCode != 0 &\n",
    "                                YearBuilt != 0 & GrossSquareFeet != 0)\n",
    "head(clean_sales, n = 5)\n",
    "str(clean_sales)"
   ]
  },
  {
   "cell_type": "code",
   "execution_count": 33,
   "metadata": {},
   "outputs": [
    {
     "data": {
      "text/plain": [
       "                  Neighborhood                      BuildingClassCategory\n",
       " HARLEM-CENTRAL         :131   07 RENTALS - WALKUP APARTMENTS  :290      \n",
       " UPPER EAST SIDE (79-96): 63   01 ONE FAMILY DWELLINGS         : 99      \n",
       " UPPER EAST SIDE (59-79): 58   08 RENTALS - ELEVATOR APARTMENTS: 82      \n",
       " GREENWICH VILLAGE-WEST : 45   02 TWO FAMILY DWELLINGS         : 63      \n",
       " UPPER WEST SIDE (79-96): 41   21 OFFICE BUILDINGS             : 56      \n",
       " HARLEM-UPPER           : 38   22 STORE BUILDINGS              : 51      \n",
       " (Other)                :461   (Other)                         :196      \n",
       " TaxClassAtPresent    Block               Lot              EaseMent        \n",
       " 2      :259       Length:837         Length:837         Length:837        \n",
       " 1      :198       Class :character   Class :character   Class :character  \n",
       " 4      :192       Mode  :character   Mode  :character   Mode  :character  \n",
       " 2B     :107                                                               \n",
       " 2A     : 76                                                               \n",
       " 2C     :  5                                                               \n",
       " (Other):  0                                                               \n",
       " BuildingClassAtPresent   Address          ApartmentNumber       ZipCode     \n",
       " C7     : 98            Length:837         Length:837         Min.   :10001  \n",
       " C1     : 55            Class :character   Class :character   1st Qu.:10014  \n",
       " C5     : 54            Mode  :character   Mode  :character   Median :10025  \n",
       " A4     : 51                                                  Mean   :10030  \n",
       " C4     : 49                                                  3rd Qu.:10031  \n",
       " C0     : 36                                                  Max.   :10463  \n",
       " (Other):494                                                                 \n",
       " ResidentialUnits  CommercialUnits     TotalUnits      LandSquareFeet  \n",
       " Min.   :   0.00   Min.   :  0.000   Min.   :   1.00   Min.   :     0  \n",
       " 1st Qu.:   1.00   1st Qu.:  0.000   1st Qu.:   2.00   1st Qu.:  1757  \n",
       " Median :   4.00   Median :  0.000   Median :   7.00   Median :  2370  \n",
       " Mean   :  18.63   Mean   :  2.677   Mean   :  21.31   Mean   :  5668  \n",
       " 3rd Qu.:  15.00   3rd Qu.:  2.000   3rd Qu.:  18.00   3rd Qu.:  4488  \n",
       " Max.   :1641.00   Max.   :167.000   Max.   :1652.00   Max.   :357935  \n",
       "                                                                       \n",
       " GrossSquareFeet     YearBuilt    TaxClassAtTimeOfSale\n",
       " Min.   :    600   Min.   :1825   1:198               \n",
       " 1st Qu.:   4048   1st Qu.:1901   2:447               \n",
       " Median :   7408   Median :1910   3:  0               \n",
       " Mean   :  37236   Mean   :1919   4:192               \n",
       " 3rd Qu.:  18000   3rd Qu.:1920                       \n",
       " Max.   :2155492   Max.   :2016                       \n",
       "                                                      \n",
       " BuildingClassAtTimeOfSale   SalePrice           SaleDate        \n",
       " C7     : 98               Min.   :1.000e+00   Length:837        \n",
       " C1     : 55               1st Qu.:2.600e+06   Class :character  \n",
       " C5     : 54               Median :7.000e+06   Mode  :character  \n",
       " A4     : 50               Mean   :2.569e+07                     \n",
       " C4     : 49               3rd Qu.:1.470e+07                     \n",
       " C0     : 36               Max.   :2.398e+09                     \n",
       " (Other):495                                                     "
      ]
     },
     "metadata": {},
     "output_type": "display_data"
    }
   ],
   "source": [
    "summary(clean_sales[,-1])"
   ]
  },
  {
   "cell_type": "code",
   "execution_count": null,
   "metadata": {},
   "outputs": [],
   "source": []
  }
 ],
 "metadata": {
  "kernelspec": {
   "display_name": "R",
   "language": "R",
   "name": "ir"
  },
  "language_info": {
   "codemirror_mode": "r",
   "file_extension": ".r",
   "mimetype": "text/x-r-source",
   "name": "R",
   "pygments_lexer": "r",
   "version": "3.4.2"
  }
 },
 "nbformat": 4,
 "nbformat_minor": 2
}
