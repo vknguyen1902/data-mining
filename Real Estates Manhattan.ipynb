{
 "cells": [
  {
   "cell_type": "code",
   "execution_count": 10,
   "metadata": {},
   "outputs": [
    {
     "data": {
      "text/html": [
       "'D:/2018 Fall Baruch/CIS 3920 Data Mining'"
      ],
      "text/latex": [
       "'D:/2018 Fall Baruch/CIS 3920 Data Mining'"
      ],
      "text/markdown": [
       "'D:/2018 Fall Baruch/CIS 3920 Data Mining'"
      ],
      "text/plain": [
       "[1] \"D:/2018 Fall Baruch/CIS 3920 Data Mining\""
      ]
     },
     "metadata": {},
     "output_type": "display_data"
    },
    {
     "name": "stderr",
     "output_type": "stream",
     "text": [
      "Installing package into 'C:/Users/khanhdi/Documents/R/win-library/3.4'\n",
      "(as 'lib' is unspecified)\n"
     ]
    },
    {
     "name": "stdout",
     "output_type": "stream",
     "text": [
      "package 'readxl' successfully unpacked and MD5 sums checked\n",
      "\n",
      "The downloaded binary packages are in\n",
      "\tC:\\Users\\khanhdi\\AppData\\Local\\Temp\\RtmpCsLuJG\\downloaded_packages\n"
     ]
    }
   ],
   "source": [
    "setwd(\"D:/2018 Fall Baruch/CIS 3920 Data Mining\")\n",
    "getwd()\n",
    "install.packages(\"readxl\", repos = \"http://cran.us.r-project.org\")"
   ]
  },
  {
   "cell_type": "code",
   "execution_count": 25,
   "metadata": {},
   "outputs": [
    {
     "data": {
      "text/html": [
       "<table>\n",
       "<thead><tr><th scope=col>BOROUGH</th><th scope=col>NEIGHBORHOOD</th><th scope=col>BUILDING CLASS CATEGORY</th><th scope=col>TAX CLASS AT PRESENT</th><th scope=col>BLOCK</th><th scope=col>LOT</th><th scope=col>EASE-MENT</th><th scope=col>BUILDING CLASS AT PRESENT</th><th scope=col>ADDRESS</th><th scope=col>APARTMENT NUMBER</th><th scope=col>...</th><th scope=col>RESIDENTIAL UNITS</th><th scope=col>COMMERCIAL UNITS</th><th scope=col>TOTAL UNITS</th><th scope=col>LAND SQUARE FEET</th><th scope=col>GROSS SQUARE FEET</th><th scope=col>YEAR BUILT</th><th scope=col>TAX CLASS AT TIME OF SALE</th><th scope=col>BUILDING CLASS AT TIME OF SALE</th><th scope=col>SALE PRICE</th><th scope=col>SALE DATE</th></tr></thead>\n",
       "<tbody>\n",
       "\t<tr><td>1                             </td><td>ALPHABET CITY                 </td><td>01 ONE FAMILY DWELLINGS       </td><td>1                             </td><td>390                           </td><td>61                            </td><td>NA                            </td><td>A4                            </td><td>189 EAST 7TH STREET           </td><td>NA                            </td><td>...                           </td><td>1                             </td><td>0                             </td><td>1                             </td><td>987                           </td><td>2183                          </td><td>1860                          </td><td>1                             </td><td>A4                            </td><td>4844809                       </td><td>43242                         </td></tr>\n",
       "\t<tr><td>1                             </td><td>ALPHABET CITY                 </td><td>01 ONE FAMILY DWELLINGS       </td><td>1                             </td><td>390                           </td><td>61                            </td><td>NA                            </td><td>A4                            </td><td>189 EAST 7TH STREET           </td><td>NA                            </td><td>...                           </td><td>1                             </td><td>0                             </td><td>1                             </td><td>987                           </td><td>2183                          </td><td>1860                          </td><td>1                             </td><td>A4                            </td><td>0                             </td><td>43243                         </td></tr>\n",
       "\t<tr><td>1                             </td><td>ALPHABET CITY                 </td><td>02 TWO FAMILY DWELLINGS       </td><td>1                             </td><td>390                           </td><td>35                            </td><td>NA                            </td><td>B1                            </td><td>113 AVENUE C                  </td><td>NA                            </td><td>...                           </td><td>2                             </td><td>0                             </td><td>2                             </td><td>1218                          </td><td>4764                          </td><td>1899                          </td><td>1                             </td><td>B1                            </td><td>0                             </td><td>43215                         </td></tr>\n",
       "\t<tr><td>1                             </td><td>ALPHABET CITY                 </td><td>07 RENTALS - WALKUP APARTMENTS</td><td>2                             </td><td>385                           </td><td>2                             </td><td>NA                            </td><td>C7                            </td><td>21-23 AVENUE B                </td><td>NA                            </td><td>...                           </td><td>12                            </td><td>4                             </td><td>16                            </td><td>4186                          </td><td>10588                         </td><td>1900                          </td><td>2                             </td><td>C7                            </td><td>10350000                      </td><td>43350                         </td></tr>\n",
       "\t<tr><td>1                             </td><td>ALPHABET CITY                 </td><td>07 RENTALS - WALKUP APARTMENTS</td><td>2                             </td><td>389                           </td><td>18                            </td><td>NA                            </td><td>C1                            </td><td>200 EAST 7TH STREET           </td><td>NA                            </td><td>...                           </td><td>18                            </td><td>0                             </td><td>18                            </td><td>2271                          </td><td>10650                         </td><td>1910                          </td><td>2                             </td><td>C1                            </td><td>5000000                       </td><td>43348                         </td></tr>\n",
       "\t<tr><td>1                             </td><td>ALPHABET CITY                 </td><td>07 RENTALS - WALKUP APARTMENTS</td><td>2A                            </td><td>390                           </td><td>54                            </td><td>NA                            </td><td>C3                            </td><td>203 EAST 7TH STREET           </td><td>NA                            </td><td>...                           </td><td>4                             </td><td>0                             </td><td>4                             </td><td>1950                          </td><td>5446                          </td><td>2001                          </td><td>2                             </td><td>C3                            </td><td>6250000                       </td><td>43229                         </td></tr>\n",
       "</tbody>\n",
       "</table>\n"
      ],
      "text/latex": [
       "\\begin{tabular}{r|lllllllllllllllllllll}\n",
       " BOROUGH & NEIGHBORHOOD & BUILDING CLASS CATEGORY & TAX CLASS AT PRESENT & BLOCK & LOT & EASE-MENT & BUILDING CLASS AT PRESENT & ADDRESS & APARTMENT NUMBER & ... & RESIDENTIAL UNITS & COMMERCIAL UNITS & TOTAL UNITS & LAND SQUARE FEET & GROSS SQUARE FEET & YEAR BUILT & TAX CLASS AT TIME OF SALE & BUILDING CLASS AT TIME OF SALE & SALE PRICE & SALE DATE\\\\\n",
       "\\hline\n",
       "\t 1                              & ALPHABET CITY                  & 01 ONE FAMILY DWELLINGS        & 1                              & 390                            & 61                             & NA                             & A4                             & 189 EAST 7TH STREET            & NA                             & ...                            & 1                              & 0                              & 1                              & 987                            & 2183                           & 1860                           & 1                              & A4                             & 4844809                        & 43242                         \\\\\n",
       "\t 1                              & ALPHABET CITY                  & 01 ONE FAMILY DWELLINGS        & 1                              & 390                            & 61                             & NA                             & A4                             & 189 EAST 7TH STREET            & NA                             & ...                            & 1                              & 0                              & 1                              & 987                            & 2183                           & 1860                           & 1                              & A4                             & 0                              & 43243                         \\\\\n",
       "\t 1                              & ALPHABET CITY                  & 02 TWO FAMILY DWELLINGS        & 1                              & 390                            & 35                             & NA                             & B1                             & 113 AVENUE C                   & NA                             & ...                            & 2                              & 0                              & 2                              & 1218                           & 4764                           & 1899                           & 1                              & B1                             & 0                              & 43215                         \\\\\n",
       "\t 1                              & ALPHABET CITY                  & 07 RENTALS - WALKUP APARTMENTS & 2                              & 385                            & 2                              & NA                             & C7                             & 21-23 AVENUE B                 & NA                             & ...                            & 12                             & 4                              & 16                             & 4186                           & 10588                          & 1900                           & 2                              & C7                             & 10350000                       & 43350                         \\\\\n",
       "\t 1                              & ALPHABET CITY                  & 07 RENTALS - WALKUP APARTMENTS & 2                              & 389                            & 18                             & NA                             & C1                             & 200 EAST 7TH STREET            & NA                             & ...                            & 18                             & 0                              & 18                             & 2271                           & 10650                          & 1910                           & 2                              & C1                             & 5000000                        & 43348                         \\\\\n",
       "\t 1                              & ALPHABET CITY                  & 07 RENTALS - WALKUP APARTMENTS & 2A                             & 390                            & 54                             & NA                             & C3                             & 203 EAST 7TH STREET            & NA                             & ...                            & 4                              & 0                              & 4                              & 1950                           & 5446                           & 2001                           & 2                              & C3                             & 6250000                        & 43229                         \\\\\n",
       "\\end{tabular}\n"
      ],
      "text/markdown": [
       "\n",
       "BOROUGH | NEIGHBORHOOD | BUILDING CLASS CATEGORY | TAX CLASS AT PRESENT | BLOCK | LOT | EASE-MENT | BUILDING CLASS AT PRESENT | ADDRESS | APARTMENT NUMBER | ... | RESIDENTIAL UNITS | COMMERCIAL UNITS | TOTAL UNITS | LAND SQUARE FEET | GROSS SQUARE FEET | YEAR BUILT | TAX CLASS AT TIME OF SALE | BUILDING CLASS AT TIME OF SALE | SALE PRICE | SALE DATE | \n",
       "|---|---|---|---|---|---|\n",
       "| 1                              | ALPHABET CITY                  | 01 ONE FAMILY DWELLINGS        | 1                              | 390                            | 61                             | NA                             | A4                             | 189 EAST 7TH STREET            | NA                             | ...                            | 1                              | 0                              | 1                              | 987                            | 2183                           | 1860                           | 1                              | A4                             | 4844809                        | 43242                          | \n",
       "| 1                              | ALPHABET CITY                  | 01 ONE FAMILY DWELLINGS        | 1                              | 390                            | 61                             | NA                             | A4                             | 189 EAST 7TH STREET            | NA                             | ...                            | 1                              | 0                              | 1                              | 987                            | 2183                           | 1860                           | 1                              | A4                             | 0                              | 43243                          | \n",
       "| 1                              | ALPHABET CITY                  | 02 TWO FAMILY DWELLINGS        | 1                              | 390                            | 35                             | NA                             | B1                             | 113 AVENUE C                   | NA                             | ...                            | 2                              | 0                              | 2                              | 1218                           | 4764                           | 1899                           | 1                              | B1                             | 0                              | 43215                          | \n",
       "| 1                              | ALPHABET CITY                  | 07 RENTALS - WALKUP APARTMENTS | 2                              | 385                            | 2                              | NA                             | C7                             | 21-23 AVENUE B                 | NA                             | ...                            | 12                             | 4                              | 16                             | 4186                           | 10588                          | 1900                           | 2                              | C7                             | 10350000                       | 43350                          | \n",
       "| 1                              | ALPHABET CITY                  | 07 RENTALS - WALKUP APARTMENTS | 2                              | 389                            | 18                             | NA                             | C1                             | 200 EAST 7TH STREET            | NA                             | ...                            | 18                             | 0                              | 18                             | 2271                           | 10650                          | 1910                           | 2                              | C1                             | 5000000                        | 43348                          | \n",
       "| 1                              | ALPHABET CITY                  | 07 RENTALS - WALKUP APARTMENTS | 2A                             | 390                            | 54                             | NA                             | C3                             | 203 EAST 7TH STREET            | NA                             | ...                            | 4                              | 0                              | 4                              | 1950                           | 5446                           | 2001                           | 2                              | C3                             | 6250000                        | 43229                          | \n",
       "\n",
       "\n"
      ],
      "text/plain": [
       "  BOROUGH NEIGHBORHOOD  BUILDING CLASS CATEGORY        TAX CLASS AT PRESENT\n",
       "1 1       ALPHABET CITY 01 ONE FAMILY DWELLINGS        1                   \n",
       "2 1       ALPHABET CITY 01 ONE FAMILY DWELLINGS        1                   \n",
       "3 1       ALPHABET CITY 02 TWO FAMILY DWELLINGS        1                   \n",
       "4 1       ALPHABET CITY 07 RENTALS - WALKUP APARTMENTS 2                   \n",
       "5 1       ALPHABET CITY 07 RENTALS - WALKUP APARTMENTS 2                   \n",
       "6 1       ALPHABET CITY 07 RENTALS - WALKUP APARTMENTS 2A                  \n",
       "  BLOCK LOT EASE-MENT BUILDING CLASS AT PRESENT ADDRESS            \n",
       "1 390   61  NA        A4                        189 EAST 7TH STREET\n",
       "2 390   61  NA        A4                        189 EAST 7TH STREET\n",
       "3 390   35  NA        B1                        113 AVENUE C       \n",
       "4 385   2   NA        C7                        21-23 AVENUE B     \n",
       "5 389   18  NA        C1                        200 EAST 7TH STREET\n",
       "6 390   54  NA        C3                        203 EAST 7TH STREET\n",
       "  APARTMENT NUMBER ... RESIDENTIAL UNITS COMMERCIAL UNITS TOTAL UNITS\n",
       "1 NA               ... 1                 0                1          \n",
       "2 NA               ... 1                 0                1          \n",
       "3 NA               ... 2                 0                2          \n",
       "4 NA               ... 12                4                16         \n",
       "5 NA               ... 18                0                18         \n",
       "6 NA               ... 4                 0                4          \n",
       "  LAND SQUARE FEET GROSS SQUARE FEET YEAR BUILT TAX CLASS AT TIME OF SALE\n",
       "1 987              2183              1860       1                        \n",
       "2 987              2183              1860       1                        \n",
       "3 1218             4764              1899       1                        \n",
       "4 4186             10588             1900       2                        \n",
       "5 2271             10650             1910       2                        \n",
       "6 1950             5446              2001       2                        \n",
       "  BUILDING CLASS AT TIME OF SALE SALE PRICE SALE DATE\n",
       "1 A4                             4844809    43242    \n",
       "2 A4                             0          43243    \n",
       "3 B1                             0          43215    \n",
       "4 C7                             10350000   43350    \n",
       "5 C1                             5000000    43348    \n",
       "6 C3                             6250000    43229    "
      ]
     },
     "metadata": {},
     "output_type": "display_data"
    }
   ],
   "source": [
    "library(readxl)\n",
    "rolling <- read_excel(\"rollingsales_manhattan.xls\", col_names = FALSE)\n",
    "sales <- rolling[-(1:4),]\n",
    "colnames(sales) <- sales[1,]\n",
    "sales <- sales[-1,]\n",
    "head(sales)"
   ]
  },
  {
   "cell_type": "code",
   "execution_count": 26,
   "metadata": {},
   "outputs": [
    {
     "name": "stderr",
     "output_type": "stream",
     "text": [
      "Warning message:\n",
      "\"package 'dplyr' was built under R version 3.4.4\"\n",
      "Attaching package: 'dplyr'\n",
      "\n",
      "The following objects are masked from 'package:stats':\n",
      "\n",
      "    filter, lag\n",
      "\n",
      "The following objects are masked from 'package:base':\n",
      "\n",
      "    intersect, setdiff, setequal, union\n",
      "\n"
     ]
    }
   ],
   "source": [
    "library(dplyr)\n",
    "library(tidyr)\n",
    "library(ggplot2)"
   ]
  },
  {
   "cell_type": "code",
   "execution_count": 27,
   "metadata": {},
   "outputs": [
    {
     "name": "stdout",
     "output_type": "stream",
     "text": [
      "Classes 'tbl_df', 'tbl' and 'data.frame':\t16750 obs. of  21 variables:\n",
      " $ BOROUGH                       : chr  \"1\" \"1\" \"1\" \"1\" ...\n",
      " $ NEIGHBORHOOD                  : chr  \"ALPHABET CITY\" \"ALPHABET CITY\" \"ALPHABET CITY\" \"ALPHABET CITY\" ...\n",
      " $ BUILDING CLASS CATEGORY       : chr  \"01 ONE FAMILY DWELLINGS\" \"01 ONE FAMILY DWELLINGS\" \"02 TWO FAMILY DWELLINGS\" \"07 RENTALS - WALKUP APARTMENTS\" ...\n",
      " $ TAX CLASS AT PRESENT          : chr  \"1\" \"1\" \"1\" \"2\" ...\n",
      " $ BLOCK                         : chr  \"390\" \"390\" \"390\" \"385\" ...\n",
      " $ LOT                           : chr  \"61\" \"61\" \"35\" \"2\" ...\n",
      " $ EASE-MENT                     : chr  NA NA NA NA ...\n",
      " $ BUILDING CLASS AT PRESENT     : chr  \"A4\" \"A4\" \"B1\" \"C7\" ...\n",
      " $ ADDRESS                       : chr  \"189 EAST 7TH STREET\" \"189 EAST 7TH STREET\" \"113 AVENUE C\" \"21-23 AVENUE B\" ...\n",
      " $ APARTMENT NUMBER              : chr  NA NA NA NA ...\n",
      " $ ZIP CODE                      : chr  \"10009\" \"10009\" \"10009\" \"10009\" ...\n",
      " $ RESIDENTIAL UNITS             : chr  \"1\" \"1\" \"2\" \"12\" ...\n",
      " $ COMMERCIAL UNITS              : chr  \"0\" \"0\" \"0\" \"4\" ...\n",
      " $ TOTAL UNITS                   : chr  \"1\" \"1\" \"2\" \"16\" ...\n",
      " $ LAND SQUARE FEET              : chr  \"987\" \"987\" \"1218\" \"4186\" ...\n",
      " $ GROSS SQUARE FEET             : chr  \"2183\" \"2183\" \"4764\" \"10588\" ...\n",
      " $ YEAR BUILT                    : chr  \"1860\" \"1860\" \"1899\" \"1900\" ...\n",
      " $ TAX CLASS AT TIME OF SALE     : chr  \"1\" \"1\" \"1\" \"2\" ...\n",
      " $ BUILDING CLASS AT TIME OF SALE: chr  \"A4\" \"A4\" \"B1\" \"C7\" ...\n",
      " $ SALE PRICE                    : chr  \"4844809\" \"0\" \"0\" \"10350000\" ...\n",
      " $ SALE DATE                     : chr  \"43242\" \"43243\" \"43215\" \"43350\" ...\n"
     ]
    }
   ],
   "source": [
    "str(sales)"
   ]
  },
  {
   "cell_type": "code",
   "execution_count": 31,
   "metadata": {},
   "outputs": [
    {
     "data": {
      "text/html": [
       "<ol class=list-inline>\n",
       "\t<li>'Borough'</li>\n",
       "\t<li>'Neighborhood'</li>\n",
       "\t<li>'BuildingClassCategory'</li>\n",
       "\t<li>'TaxClassAtPresent'</li>\n",
       "\t<li>'Block'</li>\n",
       "\t<li>'Lot'</li>\n",
       "\t<li>'EaseMent'</li>\n",
       "\t<li>'BuildingClassAtPresent'</li>\n",
       "\t<li>'Address'</li>\n",
       "\t<li>'ApartmentNumber'</li>\n",
       "\t<li>'ZipCode'</li>\n",
       "\t<li>'ResidentialUnits'</li>\n",
       "\t<li>'CommercialUnits'</li>\n",
       "\t<li>'TotalUnits'</li>\n",
       "\t<li>'LandSquareFeet'</li>\n",
       "\t<li>'GrossSquareFeet'</li>\n",
       "\t<li>'YearBuilt'</li>\n",
       "\t<li>'TaxClassAtTimeOfSale'</li>\n",
       "\t<li>'BuildingClassAtTimeOfSale'</li>\n",
       "\t<li>'SalePrice'</li>\n",
       "\t<li>'SaleDate'</li>\n",
       "</ol>\n"
      ],
      "text/latex": [
       "\\begin{enumerate*}\n",
       "\\item 'Borough'\n",
       "\\item 'Neighborhood'\n",
       "\\item 'BuildingClassCategory'\n",
       "\\item 'TaxClassAtPresent'\n",
       "\\item 'Block'\n",
       "\\item 'Lot'\n",
       "\\item 'EaseMent'\n",
       "\\item 'BuildingClassAtPresent'\n",
       "\\item 'Address'\n",
       "\\item 'ApartmentNumber'\n",
       "\\item 'ZipCode'\n",
       "\\item 'ResidentialUnits'\n",
       "\\item 'CommercialUnits'\n",
       "\\item 'TotalUnits'\n",
       "\\item 'LandSquareFeet'\n",
       "\\item 'GrossSquareFeet'\n",
       "\\item 'YearBuilt'\n",
       "\\item 'TaxClassAtTimeOfSale'\n",
       "\\item 'BuildingClassAtTimeOfSale'\n",
       "\\item 'SalePrice'\n",
       "\\item 'SaleDate'\n",
       "\\end{enumerate*}\n"
      ],
      "text/markdown": [
       "1. 'Borough'\n",
       "2. 'Neighborhood'\n",
       "3. 'BuildingClassCategory'\n",
       "4. 'TaxClassAtPresent'\n",
       "5. 'Block'\n",
       "6. 'Lot'\n",
       "7. 'EaseMent'\n",
       "8. 'BuildingClassAtPresent'\n",
       "9. 'Address'\n",
       "10. 'ApartmentNumber'\n",
       "11. 'ZipCode'\n",
       "12. 'ResidentialUnits'\n",
       "13. 'CommercialUnits'\n",
       "14. 'TotalUnits'\n",
       "15. 'LandSquareFeet'\n",
       "16. 'GrossSquareFeet'\n",
       "17. 'YearBuilt'\n",
       "18. 'TaxClassAtTimeOfSale'\n",
       "19. 'BuildingClassAtTimeOfSale'\n",
       "20. 'SalePrice'\n",
       "21. 'SaleDate'\n",
       "\n",
       "\n"
      ],
      "text/plain": [
       " [1] \"Borough\"                   \"Neighborhood\"             \n",
       " [3] \"BuildingClassCategory\"     \"TaxClassAtPresent\"        \n",
       " [5] \"Block\"                     \"Lot\"                      \n",
       " [7] \"EaseMent\"                  \"BuildingClassAtPresent\"   \n",
       " [9] \"Address\"                   \"ApartmentNumber\"          \n",
       "[11] \"ZipCode\"                   \"ResidentialUnits\"         \n",
       "[13] \"CommercialUnits\"           \"TotalUnits\"               \n",
       "[15] \"LandSquareFeet\"            \"GrossSquareFeet\"          \n",
       "[17] \"YearBuilt\"                 \"TaxClassAtTimeOfSale\"     \n",
       "[19] \"BuildingClassAtTimeOfSale\" \"SalePrice\"                \n",
       "[21] \"SaleDate\"                 "
      ]
     },
     "metadata": {},
     "output_type": "display_data"
    }
   ],
   "source": [
    "names(sales) <- c('Borough', 'Neighborhood', 'BuildingClassCategory', 'TaxClassAtPresent', 'Block', 'Lot', 'EaseMent', \n",
    "                 'BuildingClassAtPresent', 'Address', 'ApartmentNumber', 'ZipCode', 'ResidentialUnits', \n",
    "                 'CommercialUnits', 'TotalUnits', 'LandSquareFeet', 'GrossSquareFeet', \n",
    "                 'YearBuilt', 'TaxClassAtTimeOfSale', 'BuildingClassAtTimeOfSale', 'SalePrice', 'SaleDate')\n",
    "names(sales)"
   ]
  },
  {
   "cell_type": "code",
   "execution_count": 42,
   "metadata": {},
   "outputs": [
    {
     "name": "stdout",
     "output_type": "stream",
     "text": [
      "Classes 'tbl_df', 'tbl' and 'data.frame':\t16750 obs. of  21 variables:\n",
      " $ Borough                  : chr  \"1\" \"1\" \"1\" \"1\" ...\n",
      " $ Neighborhood             : Factor w/ 39 levels \"ALPHABET CITY\",..: 1 1 1 1 1 1 1 1 1 1 ...\n",
      " $ BuildingClassCategory    : Factor w/ 43 levels \"01 ONE FAMILY DWELLINGS\",..: 1 1 2 6 6 6 6 6 6 6 ...\n",
      " $ TaxClassAtPresent        : chr  \"1\" \"1\" \"1\" \"2\" ...\n",
      " $ Block                    : chr  \"390\" \"390\" \"390\" \"385\" ...\n",
      " $ Lot                      : chr  \"61\" \"61\" \"35\" \"2\" ...\n",
      " $ EaseMent                 : chr  NA NA NA NA ...\n",
      " $ BuildingClassAtPresent   : chr  \"A4\" \"A4\" \"B1\" \"C7\" ...\n",
      " $ Address                  : chr  \"189 EAST 7TH STREET\" \"189 EAST 7TH STREET\" \"113 AVENUE C\" \"21-23 AVENUE B\" ...\n",
      " $ ApartmentNumber          : chr  NA NA NA NA ...\n",
      " $ ZipCode                  : chr  \"10009\" \"10009\" \"10009\" \"10009\" ...\n",
      " $ ResidentialUnits         : chr  \"1\" \"1\" \"2\" \"12\" ...\n",
      " $ CommercialUnits          : chr  \"0\" \"0\" \"0\" \"4\" ...\n",
      " $ TotalUnits               : chr  \"1\" \"1\" \"2\" \"16\" ...\n",
      " $ LandSquareFeet           : chr  \"987\" \"987\" \"1218\" \"4186\" ...\n",
      " $ GrossSquareFeet          : chr  \"2183\" \"2183\" \"4764\" \"10588\" ...\n",
      " $ YearBuilt                : chr  \"1860\" \"1860\" \"1899\" \"1900\" ...\n",
      " $ TaxClassAtTimeOfSale     : chr  \"1\" \"1\" \"1\" \"2\" ...\n",
      " $ BuildingClassAtTimeOfSale: chr  \"A4\" \"A4\" \"B1\" \"C7\" ...\n",
      " $ SalePrice                : chr  \"4844809\" \"0\" \"0\" \"10350000\" ...\n",
      " $ SaleDate                 : chr  \"43242\" \"43243\" \"43215\" \"43350\" ...\n"
     ]
    }
   ],
   "source": [
    "sales$Neighborhood <- as.factor(sales$Neighborhood)\n",
    "sales$BuildingClassCategory <- as.factor(sales$BuildingClassCategory)\n",
    "\n",
    "str(sales)"
   ]
  },
  {
   "cell_type": "code",
   "execution_count": 36,
   "metadata": {},
   "outputs": [
    {
     "name": "stdout",
     "output_type": "stream",
     "text": [
      " Factor w/ 39 levels \"ALPHABET CITY\",..: 1 1 1 1 1 1 1 1 1 1 ...\n"
     ]
    }
   ],
   "source": [
    "str(as.factor(sales$Neighborhood))"
   ]
  },
  {
   "cell_type": "code",
   "execution_count": null,
   "metadata": {},
   "outputs": [],
   "source": []
  }
 ],
 "metadata": {
  "kernelspec": {
   "display_name": "R",
   "language": "R",
   "name": "ir"
  },
  "language_info": {
   "codemirror_mode": "r",
   "file_extension": ".r",
   "mimetype": "text/x-r-source",
   "name": "R",
   "pygments_lexer": "r",
   "version": "3.4.2"
  }
 },
 "nbformat": 4,
 "nbformat_minor": 2
}
